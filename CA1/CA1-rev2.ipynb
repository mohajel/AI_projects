{
 "cells": [
  {
   "cell_type": "markdown",
   "metadata": {},
   "source": [
    "# In the Name of God\n",
    "Name : Mohammad Mohajel Sadegi\n",
    "\n",
    "SID  : 810199483\n"
   ]
  },
  {
   "cell_type": "markdown",
   "metadata": {},
   "source": [
    "# Initial classes:"
   ]
  },
  {
   "cell_type": "markdown",
   "metadata": {},
   "source": [
    "## DEFINES:"
   ]
  },
  {
   "cell_type": "code",
   "execution_count": 1,
   "metadata": {},
   "outputs": [],
   "source": [
    "BFS_PRINT_PATH = 0"
   ]
  },
  {
   "cell_type": "markdown",
   "metadata": {},
   "source": [
    "## Abstract:\n",
    "Implementation of BFS, IDS and A* search \n",
    "\n",
    "BSF and IDS and A* search will give us optimal soloution.\n",
    "\n",
    "As discussed in class, weighed-astar can find soloution faster but optimality is not guaranteed."
   ]
  },
  {
   "cell_type": "markdown",
   "metadata": {},
   "source": [
    "## Importing libraries:"
   ]
  },
  {
   "cell_type": "code",
   "execution_count": 2,
   "metadata": {},
   "outputs": [],
   "source": [
    "import copy\n",
    "from collections import Counter\n",
    "from queue import Queue\n",
    "import time\n",
    "import numpy as np"
   ]
  },
  {
   "cell_type": "markdown",
   "metadata": {},
   "source": [
    "## Class state"
   ]
  },
  {
   "cell_type": "code",
   "execution_count": 3,
   "metadata": {},
   "outputs": [],
   "source": [
    "class State:\n",
    "    def __init__(self, rocky_nodes) -> None:\n",
    "        self.position = 0\n",
    "        self.recipes_seen = [] #be very carefull changed\n",
    "        self.morids_seen = []\n",
    "        self.prev_state = None\n",
    "        self.rocky_nodes = dict.fromkeys(rocky_nodes, 0)\n",
    "        self.rocky_remain = 0\n",
    "        self.cost = 0\n",
    "\n",
    "    def __members(self):\n",
    "        return (self.position, self.recipes_seen, self.morids_seen, self.rocky_remain) #delete self.cost\n",
    "\n",
    "\n",
    "    def __eq__(self, other):\n",
    "        if type(other) is type(self):\n",
    "            return self.__members() == other.__members()\n",
    "        return False\n",
    "\n",
    "    def __hash__(self):\n",
    "        return hash(f\"{self.position},{self.recipes_seen},{self.morids_seen},{self.rocky_remain},{self.cost}\")\n",
    "\n",
    "    def __str__(self) -> str:\n",
    "        return f\"\\n cost:{self.cost}, \\\n",
    "                 \\n position{self.position + 1} \\\n",
    "                 \\n morids:{[x+1 for x in self.morids_seen]} \\\n",
    "                 \\n recipes:{[x+1 for x in self.recipes_seen]} \\\n",
    "                  \\n\\n\"  "
   ]
  },
  {
   "cell_type": "markdown",
   "metadata": {},
   "source": [
    "## Class graph:"
   ]
  },
  {
   "cell_type": "code",
   "execution_count": 4,
   "metadata": {},
   "outputs": [],
   "source": [
    "class Graph:\n",
    "    def __init__(self, v :int) -> None:\n",
    "        self.v = v\n",
    "        self.edges = [[] for _ in range(v)]\n",
    "        self.morids = None #make it dictionary\n",
    "        self.recipes = []\n",
    "        self.start_position = 0\n",
    "        self.rocky_nodes = []\n",
    "\n",
    "    def add_edge(self, u :int, v :int) -> None:\n",
    "        self.edges[u].append(v)\n",
    "        self.edges[v].append(u)\n",
    "\n",
    "    def is_rocky(self, node :int) -> bool:\n",
    "        return (node in self.rocky_nodes)\n",
    "\n",
    "    def is_recipes(self, node :int) -> bool:\n",
    "        return (node in self.recipes)\n",
    "\n",
    "    def is_morid(self, node :int) -> bool:\n",
    "        return (node in list(self.morids.keys()))\n",
    "\n",
    "    def get_neighbors(self, s :State):\n",
    "        return self.edges[s.position]\n"
   ]
  },
  {
   "cell_type": "markdown",
   "metadata": {},
   "source": [
    "## Read input and create graph class"
   ]
  },
  {
   "cell_type": "code",
   "execution_count": 5,
   "metadata": {},
   "outputs": [],
   "source": [
    "def create_graph(path :str) -> Graph:\n",
    "    file = open(path, \"r\")\n",
    "    n, m = map(int, file.readline().split(\" \"))\n",
    "    g = Graph(n)\n",
    "\n",
    "    for _ in range(m):\n",
    "        u, v = map(int, file.readline().split(\" \"))\n",
    "        g.add_edge(u - 1, v - 1)\n",
    "\n",
    "    h = int(file.readline())\n",
    "    rocky_nodes = list(map(int, file.readline().split(\" \")))\n",
    "    rocky_nodes = [x - 1 for x in rocky_nodes]\n",
    "    g.rocky_nodes = rocky_nodes\n",
    "    s = int(file.readline())\n",
    "\n",
    "    morids = {}\n",
    "    for _ in range(s):\n",
    "        line = list(map(int, file.readline().split(\" \")))\n",
    "        line = [x - 1 for x in line]\n",
    "        morids.update({line[0] : line[2:]})\n",
    "    g.morids = morids\n",
    "    \n",
    "    g.start_position = (int(file.readline()) - 1)\n",
    "\n",
    "    recipes = []\n",
    "    for recipe in morids.values():\n",
    "        recipes.extend(recipe)\n",
    "\n",
    "    recipes = list(dict.fromkeys(recipes)) # Remove Duplicates From a Python List \n",
    "    g.recipes = recipes\n",
    "    return g\n",
    "\n",
    "g1 = create_graph(\"input-easy.txt\")\n",
    "g2 = create_graph(\"input2-easy.txt\")\n",
    "g3 = create_graph(\"input3-easy.txt\")\n",
    "g4 = create_graph(\"input4.txt\")\n"
   ]
  },
  {
   "cell_type": "markdown",
   "metadata": {},
   "source": [
    "# Search Modules:\n"
   ]
  },
  {
   "cell_type": "markdown",
   "metadata": {},
   "source": [
    "    Initial State:\n",
    "\n",
    "create_initial_state function creates initial state which is the position which we start searching\n",
    "\n",
    "note that there is a diffrence between states and nodes in graph that we whatch. we may be in same node but have diffrent states...\n",
    "\n",
    "    Transition Modue:\n",
    "\n",
    "transition(s :State, g :Graph, p :int) -> State function\n",
    "gets one state and returns next-state\n",
    "\n",
    "    Goal State:\n",
    "\n",
    "when we deliver to all morids, we reach goal stata. reached_goal function computes that.\n",
    "    "
   ]
  },
  {
   "cell_type": "markdown",
   "metadata": {},
   "source": [
    "## Create initial state"
   ]
  },
  {
   "cell_type": "code",
   "execution_count": 6,
   "metadata": {},
   "outputs": [],
   "source": [
    "def create_initial_state(g :Graph) -> State:\n",
    "    s = State(g.rocky_nodes)\n",
    "    s.position = g.start_position\n",
    "    if s.position in g.recipes:\n",
    "        s.recipes_seen.append(g.start_position)\n",
    "    return s\n",
    "\n",
    "initial_state1 = create_initial_state(g1)\n",
    "initial_state2 = create_initial_state(g2)\n",
    "initial_state3 = create_initial_state(g3)\n",
    "initial_state4 = create_initial_state(g4)\n",
    " "
   ]
  },
  {
   "cell_type": "markdown",
   "metadata": {},
   "source": [
    "## Transition module and goal state implementation:"
   ]
  },
  {
   "cell_type": "code",
   "execution_count": 7,
   "metadata": {},
   "outputs": [],
   "source": [
    "counter = 0 # remember to initilize it to 0 in begenning\n",
    "\n",
    "def reached_goal(s :State, g :Graph) -> bool:\n",
    "    return len(g.morids) == len(s.morids_seen)\n",
    "\n",
    "def is_in(p , q) -> bool:\n",
    "    for i in q:\n",
    "        if i not in p:\n",
    "            return False\n",
    "    return True\n",
    "    \n",
    "def transition(s :State, g :Graph, p :int) -> State:\n",
    "    global counter\n",
    "    counter += 1\n",
    "\n",
    "    # if s.prev_state == None: #initial_state\n",
    "    #     print(f\"start : {s.position}\\n\")\n",
    "    # else:\n",
    "    #     print(f\"{s.prev_state.position} => {s.position} \\n\")\n",
    "\n",
    "    next_state = copy.deepcopy(s)\n",
    "    next_state.prev_state = s\n",
    "    next_state.cost += 1\n",
    "    if s.rocky_remain != 0:\n",
    "        next_state.rocky_remain -= 1\n",
    "    else:\n",
    "        next_state.position = p\n",
    "        if g.is_rocky(p):\n",
    "            next_state.rocky_remain = next_state.rocky_nodes[p]\n",
    "            next_state.rocky_nodes[p] += 1\n",
    "\n",
    "        if(g.is_recipes(p) and p not in s.recipes_seen):\n",
    "            next_state.recipes_seen.append(p)\n",
    "\n",
    "        if(g.is_morid(p) and p not in s.morids_seen and is_in(next_state.recipes_seen, g.morids[p])):\n",
    "            next_state.morids_seen.append(p)\n",
    "            \n",
    "    # print(f\"going to node {next_state.position + 1}, cost:{next_state.cost}\")\n",
    "    return next_state\n",
    "    "
   ]
  },
  {
   "cell_type": "markdown",
   "metadata": {},
   "source": [
    "## Print_path function:\n",
    "to print path after finding it!"
   ]
  },
  {
   "cell_type": "code",
   "execution_count": 8,
   "metadata": {},
   "outputs": [],
   "source": [
    "def print_path(final_state : State) -> None:\n",
    "    print(\"PATH::\")\n",
    "    s = final_state\n",
    "    while True:\n",
    "        print(f\"{s.position + 1} <== \", end = \" \")\n",
    "        s = s.prev_state\n",
    "        if s.prev_state == None: #s is first node\n",
    "            print(f\"{s.position + 1} \")\n",
    "            break\n",
    "         "
   ]
  },
  {
   "cell_type": "markdown",
   "metadata": {},
   "source": [
    "## Test function:"
   ]
  },
  {
   "cell_type": "code",
   "execution_count": 9,
   "metadata": {},
   "outputs": [],
   "source": [
    "def test(g :Graph, method) -> None:\n",
    "    global counter\n",
    "    counter = 0\n",
    "    start = time.time()\n",
    "    path = method(g, create_initial_state(g))\n",
    "    end = time.time()\n",
    "    print(f\"time:{end - start}\")\n",
    "    print_path(path)\n",
    "    print(f\"cost:{path.cost},\")\n",
    "    print(f\"states:{counter},\")"
   ]
  },
  {
   "cell_type": "markdown",
   "metadata": {},
   "source": [
    "# BFS:"
   ]
  },
  {
   "cell_type": "markdown",
   "metadata": {},
   "source": [
    "## BFS implementation:"
   ]
  },
  {
   "cell_type": "markdown",
   "metadata": {},
   "source": [
    "we use a queue.in each turn, we dequeue from state and enqueue all succssors to queue until reaching goal state. becasu all path costs are same (1), we can get optimal soloution."
   ]
  },
  {
   "cell_type": "markdown",
   "metadata": {},
   "source": [
    "### With QUEUE:"
   ]
  },
  {
   "cell_type": "code",
   "execution_count": 10,
   "metadata": {},
   "outputs": [],
   "source": [
    "def bfs(g :Graph, initial_state :State) -> State:\n",
    "    q = Queue()\n",
    "    q.put(initial_state)\n",
    "    explored = {initial_state, }\n",
    "    cost = 0\n",
    "    while 1:\n",
    "        state = q.get()\n",
    "        \n",
    "        if state.cost > cost:\n",
    "            cost = state.cost\n",
    "            print(f\"cost:{cost}\")\n",
    "\n",
    "        for neighbor in g.get_neighbors(state):\n",
    "            t = transition(state, g, neighbor)\n",
    "            if t not in explored:\n",
    "                if reached_goal(t, g):\n",
    "                    return t\n",
    "                q.put(t)\n",
    "                explored.add(t)\n",
    "                if BFS_PRINT_PATH:\n",
    "                    print(f\"{t.prev_state.position + 1} => {t.position + 1}\")\n",
    "        if BFS_PRINT_PATH:\n",
    "            print(\"\\n\")"
   ]
  },
  {
   "cell_type": "markdown",
   "metadata": {},
   "source": [
    "### With List:"
   ]
  },
  {
   "cell_type": "code",
   "execution_count": 11,
   "metadata": {},
   "outputs": [],
   "source": [
    "def bfs2(g :Graph, initial_state :State) -> State:\n",
    "    q = []\n",
    "    q.append(initial_state)\n",
    "    explored = {initial_state, }\n",
    "    cost = 0\n",
    "    while 1:\n",
    "        state = q.pop(0)\n",
    "        #for test\n",
    "        if state.cost > cost:\n",
    "            cost = state.cost\n",
    "            print(f\"cost:{cost}\")\n",
    "\n",
    "        for neighbor in g.get_neighbors(state):\n",
    "            t = transition(state, g, neighbor)\n",
    "            if t not in explored:\n",
    "                if reached_goal(t, g):\n",
    "                    return t\n",
    "                q.append(t)\n",
    "                explored.add(t)\n",
    "                # print(f\"{t.prev_state.position + 1} => {t.position + 1}\")\n",
    "        # print(\"\\n\")"
   ]
  },
  {
   "cell_type": "markdown",
   "metadata": {},
   "source": [
    "### With List comprehension:"
   ]
  },
  {
   "cell_type": "code",
   "execution_count": 12,
   "metadata": {},
   "outputs": [],
   "source": [
    "def h(s :State) -> int:\n",
    "    return len(s.recipes_seen) + len(s.morids_seen)\n",
    "\n",
    "def bfs4(g :Graph, initial_state :State) -> State:\n",
    "    max_h = 0\n",
    "    q = Queue()\n",
    "    q.put(initial_state)\n",
    "    explored = {initial_state, }\n",
    "    cost = 0\n",
    "    while 1:\n",
    "\n",
    "        while 1:\n",
    "            state = q.get()\n",
    "\n",
    "            if h(state) > max_h:\n",
    "                max_h = h(state)\n",
    "                break\n",
    "            elif h(state) >= (max_h - 1):\n",
    "                break\n",
    "\n",
    "        if state.cost > cost:\n",
    "            cost = state.cost\n",
    "            print(f\"cost:{cost}\")\n",
    "            \n",
    "        for neighbor in g.get_neighbors(state):\n",
    "            t = transition(state, g, neighbor)\n",
    "            if t not in explored:\n",
    "                if reached_goal(t, g):\n",
    "                    return t\n",
    "                q.put(t)\n",
    "                explored.add(t)"
   ]
  },
  {
   "cell_type": "markdown",
   "metadata": {},
   "source": [
    "## BFS Test:"
   ]
  },
  {
   "cell_type": "markdown",
   "metadata": {},
   "source": [
    "### Test1:"
   ]
  },
  {
   "cell_type": "code",
   "execution_count": 13,
   "metadata": {},
   "outputs": [
    {
     "name": "stdout",
     "output_type": "stream",
     "text": [
      "cost:1\n",
      "cost:2\n",
      "cost:3\n",
      "cost:4\n",
      "cost:5\n",
      "cost:6\n",
      "cost:7\n",
      "time:0.02970123291015625\n",
      "PATH::\n",
      "8 <==  9 <==  11 <==  10 <==  7 <==  5 <==  4 <==  3 <==  1 \n",
      "cost:8,\n",
      "states:287,\n"
     ]
    }
   ],
   "source": [
    "test(g1, bfs)"
   ]
  },
  {
   "cell_type": "markdown",
   "metadata": {},
   "source": [
    "PATH:\n",
    "\n",
    "    8 <==  9 <==  11 <==  10 <==  7 <==  5 <==  4 <==  3 <==  1\n",
    "\n",
    "|  | MinCost | StatesWatched | MeanTime |\n",
    "| --- | --- | --- | --- |\n",
    "| BFS | 8 | 287 | 0.1 |"
   ]
  },
  {
   "cell_type": "markdown",
   "metadata": {},
   "source": [
    "### Test2:"
   ]
  },
  {
   "cell_type": "code",
   "execution_count": 14,
   "metadata": {},
   "outputs": [
    {
     "name": "stdout",
     "output_type": "stream",
     "text": [
      "cost:1\n",
      "cost:2\n",
      "cost:3\n",
      "cost:4\n",
      "cost:5\n",
      "cost:6\n",
      "cost:7\n",
      "time:0.05643057823181152\n",
      "PATH::\n",
      "8 <==  5 <==  7 <==  3 <==  12 <==  4 <==  9 <==  10 <==  9 \n",
      "cost:8,\n",
      "states:551,\n"
     ]
    }
   ],
   "source": [
    "test(g2, bfs)"
   ]
  },
  {
   "cell_type": "markdown",
   "metadata": {},
   "source": [
    "PATH:\n",
    "\n",
    "    8 <==  5 <==  7 <==  3 <==  12 <==  4 <==  9 <==  10 <==  9 \n",
    "\n",
    "|  | MinCost | StatesWatched | MeanTime |\n",
    "| --- | --- | --- | --- |\n",
    "| BFS | 8 | 551 | 0.4 |"
   ]
  },
  {
   "cell_type": "markdown",
   "metadata": {},
   "source": [
    "### Test3:"
   ]
  },
  {
   "cell_type": "code",
   "execution_count": 15,
   "metadata": {},
   "outputs": [
    {
     "name": "stdout",
     "output_type": "stream",
     "text": [
      "cost:1\n",
      "cost:2\n",
      "cost:3\n",
      "cost:4\n",
      "cost:5\n",
      "cost:6\n",
      "cost:7\n",
      "cost:8\n",
      "cost:9\n",
      "cost:10\n",
      "cost:11\n",
      "cost:12\n",
      "time:3.5810770988464355\n",
      "PATH::\n",
      "10 <==  11 <==  13 <==  1 <==  4 <==  9 <==  5 <==  12 <==  6 <==  2 <==  3 <==  10 <==  11 <==  13 \n",
      "cost:13,\n",
      "states:21442,\n"
     ]
    }
   ],
   "source": [
    "test(g3, bfs)"
   ]
  },
  {
   "cell_type": "markdown",
   "metadata": {},
   "source": [
    "PATH:\n",
    "\n",
    "    10 <==  11 <==  13 <==  1 <==  4 <==  9 <==  5 <==  12 <==  6 <==  2 <==  3 <==  10 <==  11 <==  13 \n",
    "\n",
    "|  | MinCost | StatesWatched | MeanTime |\n",
    "| --- | --- | --- | --- |\n",
    "| BFS | 13 | 21442 | 12.4 |"
   ]
  },
  {
   "cell_type": "markdown",
   "metadata": {},
   "source": [
    "### Test4:"
   ]
  },
  {
   "cell_type": "code",
   "execution_count": 16,
   "metadata": {},
   "outputs": [
    {
     "name": "stdout",
     "output_type": "stream",
     "text": [
      "cost:1\n",
      "cost:2\n",
      "cost:3\n",
      "cost:4\n",
      "cost:5\n",
      "cost:6\n",
      "cost:7\n",
      "time:0.01444864273071289\n",
      "PATH::\n",
      "5 <==  6 <==  5 <==  4 <==  2 <==  2 <==  3 <==  2 <==  1 \n",
      "cost:8,\n",
      "states:92,\n"
     ]
    }
   ],
   "source": [
    "test(g4, bfs)"
   ]
  },
  {
   "cell_type": "markdown",
   "metadata": {},
   "source": [
    "PATH:\n",
    "\n",
    "    5 <==  6 <==  5 <==  4 <==  2 <==  2 <==  3 <==  2 <==  1\n",
    "\n",
    "|  | MinCost | StatesWatched | MeanTime |\n",
    "| --- | --- | --- | --- |\n",
    "| BFS | 8 | 92 | 0.03 |"
   ]
  },
  {
   "cell_type": "markdown",
   "metadata": {},
   "source": [
    "# IDS:"
   ]
  },
  {
   "cell_type": "markdown",
   "metadata": {},
   "source": [
    "## IDS implementation:"
   ]
  },
  {
   "cell_type": "markdown",
   "metadata": {},
   "source": [
    "we use dfs with height 0,1,2,3,... til we reach goal state."
   ]
  },
  {
   "cell_type": "code",
   "execution_count": 17,
   "metadata": {},
   "outputs": [],
   "source": [
    "def dfs(state :State, step :int, g :Graph):\n",
    "    if reached_goal(state, g):\n",
    "        return state\n",
    "    if step == 0:\n",
    "        return None\n",
    "\n",
    "    for neighbor in g.get_neighbors(state):\n",
    "        next_state = transition(state, g, neighbor)\n",
    "        result = dfs(next_state, step - 1, g)\n",
    "        if result != None:\n",
    "            return result\n",
    "    return None\n",
    "\n",
    "h = 0\n",
    "def ids(g:Graph, initial_state :State) -> State:\n",
    "    global h\n",
    "    while True:\n",
    "        h += 1\n",
    "        print(f\"h:{h}\")\n",
    "\n",
    "        result = dfs(initial_state, h, g)\n",
    "        if result != None:\n",
    "            return result\n",
    "        print(f\"cant find in h:{h}\")"
   ]
  },
  {
   "cell_type": "markdown",
   "metadata": {},
   "source": [
    "## IDS Tests:"
   ]
  },
  {
   "cell_type": "markdown",
   "metadata": {},
   "source": [
    "### Test1:"
   ]
  },
  {
   "cell_type": "code",
   "execution_count": 18,
   "metadata": {},
   "outputs": [
    {
     "name": "stdout",
     "output_type": "stream",
     "text": [
      "h:1\n",
      "cant find in h:1\n",
      "h:2\n",
      "cant find in h:2\n",
      "h:3\n",
      "cant find in h:3\n",
      "h:4\n",
      "cant find in h:4\n",
      "h:5\n",
      "cant find in h:5\n",
      "h:6\n",
      "cant find in h:6\n",
      "h:7\n",
      "cant find in h:7\n",
      "h:8\n",
      "time:0.38765740394592285\n",
      "PATH::\n",
      "8 <==  9 <==  11 <==  10 <==  7 <==  5 <==  4 <==  3 <==  1 \n",
      "cost:8,\n",
      "states:4632,\n"
     ]
    }
   ],
   "source": [
    "h = 0\n",
    "test(g1, ids)"
   ]
  },
  {
   "cell_type": "markdown",
   "metadata": {},
   "source": [
    "|  | MinCost | StatesWatched | MeanTime |\n",
    "| --- | --- | --- | --- |\n",
    "| IDS | 8 | 4632 | 0.5 |"
   ]
  },
  {
   "cell_type": "markdown",
   "metadata": {},
   "source": [
    "### Test2:"
   ]
  },
  {
   "cell_type": "code",
   "execution_count": 19,
   "metadata": {},
   "outputs": [
    {
     "name": "stdout",
     "output_type": "stream",
     "text": [
      "h:1\n",
      "cant find in h:1\n",
      "h:2\n",
      "cant find in h:2\n",
      "h:3\n",
      "cant find in h:3\n",
      "h:4\n",
      "cant find in h:4\n",
      "h:5\n",
      "cant find in h:5\n",
      "h:6\n",
      "cant find in h:6\n",
      "h:7\n",
      "cant find in h:7\n",
      "h:8\n",
      "time:0.9566226005554199\n",
      "PATH::\n",
      "8 <==  5 <==  7 <==  3 <==  12 <==  4 <==  9 <==  10 <==  9 \n",
      "cost:8,\n",
      "states:10465,\n"
     ]
    }
   ],
   "source": [
    "h = 0\n",
    "test(g2, ids)"
   ]
  },
  {
   "cell_type": "markdown",
   "metadata": {},
   "source": [
    "|  | MinCost | StatesWatched | MeanTime |\n",
    "| --- | --- | --- | --- |\n",
    "| IDS | 8 | 10465 | 3.4 |"
   ]
  },
  {
   "cell_type": "markdown",
   "metadata": {},
   "source": [
    "### Test3"
   ]
  },
  {
   "cell_type": "code",
   "execution_count": 20,
   "metadata": {},
   "outputs": [
    {
     "name": "stdout",
     "output_type": "stream",
     "text": [
      "h:1\n",
      "cant find in h:1\n",
      "h:2\n",
      "cant find in h:2\n",
      "h:3\n",
      "cant find in h:3\n",
      "h:4\n",
      "cant find in h:4\n",
      "h:5\n",
      "cant find in h:5\n",
      "h:6\n",
      "cant find in h:6\n",
      "h:7\n",
      "cant find in h:7\n",
      "h:8\n",
      "cant find in h:8\n",
      "h:9\n",
      "cant find in h:9\n",
      "h:10\n",
      "cant find in h:10\n",
      "h:11\n",
      "cant find in h:11\n",
      "h:12\n",
      "cant find in h:12\n",
      "h:13\n",
      "time:91.28525066375732\n",
      "PATH::\n",
      "10 <==  11 <==  13 <==  1 <==  4 <==  9 <==  5 <==  12 <==  6 <==  2 <==  3 <==  10 <==  11 <==  13 \n",
      "cost:13,\n",
      "states:608362,\n"
     ]
    }
   ],
   "source": [
    "h = 0\n",
    "test(g3, ids)"
   ]
  },
  {
   "cell_type": "markdown",
   "metadata": {},
   "source": [
    "|  | MinCost | StatesWatched | MeanTime |\n",
    "| --- | --- | --- | --- |\n",
    "| IDS | 13 | 608362 | 90 |"
   ]
  },
  {
   "cell_type": "markdown",
   "metadata": {},
   "source": [
    "### Test4:"
   ]
  },
  {
   "cell_type": "code",
   "execution_count": 21,
   "metadata": {},
   "outputs": [
    {
     "name": "stdout",
     "output_type": "stream",
     "text": [
      "h:1\n",
      "cant find in h:1\n",
      "h:2\n",
      "cant find in h:2\n",
      "h:3\n",
      "cant find in h:3\n",
      "h:4\n",
      "cant find in h:4\n",
      "h:5\n",
      "cant find in h:5\n",
      "h:6\n",
      "cant find in h:6\n",
      "h:7\n",
      "cant find in h:7\n",
      "h:8\n",
      "time:0.04269599914550781\n",
      "PATH::\n",
      "5 <==  6 <==  5 <==  4 <==  2 <==  2 <==  3 <==  2 <==  1 \n",
      "cost:8,\n",
      "states:580,\n"
     ]
    }
   ],
   "source": [
    "h = 0\n",
    "test(g4, ids)"
   ]
  },
  {
   "cell_type": "markdown",
   "metadata": {},
   "source": [
    "|  | MinCost | StatesWatched | MeanTime |\n",
    "| --- | --- | --- | --- |\n",
    "| IDS | 8 | 580 | 0.2 |"
   ]
  },
  {
   "cell_type": "markdown",
   "metadata": {},
   "source": [
    "# ASTAR:"
   ]
  },
  {
   "cell_type": "markdown",
   "metadata": {},
   "source": [
    "## A-Star search: "
   ]
  },
  {
   "cell_type": "markdown",
   "metadata": {},
   "source": [
    "This huristic is consistent.\n",
    "\n",
    "Because number of morids in any pass from initial state to goal state is consecutively increasing (better to say its non-decreasing).\n",
    "\n",
    "So we choose -len(s.morids_seen) as our consistent huristic."
   ]
  },
  {
   "cell_type": "markdown",
   "metadata": {},
   "source": [
    "### Implementation:"
   ]
  },
  {
   "cell_type": "markdown",
   "metadata": {},
   "source": [
    "we have two lists, explored and frountier.\n",
    "\n",
    "we choose state s with minimum f(s) = h(s) + cost(s) from frontier and explore its successors.\n",
    "    next_state = min(frountier, key = lambda s : huristic(s) + s.cost) \n",
    "\n",
    "and we remember explored states to make sure not to rewatch them.\n",
    "\n",
    "it will give us optimal soloution if we make sure our huristic is consistent."
   ]
  },
  {
   "cell_type": "code",
   "execution_count": 22,
   "metadata": {},
   "outputs": [],
   "source": [
    "alpha = 1\n",
    "\n",
    "def huristic(s :State) -> int:\n",
    "    global alpha\n",
    "    return -len(s.morids_seen) * alpha\n",
    "\n",
    "def a_star(g:Graph, initial_state :State) -> State:\n",
    "    explored = []\n",
    "    frountier = [initial_state, ]\n",
    "    cost = 0\n",
    "\n",
    "    while True:\n",
    "        next_state = min(frountier, key = lambda s : huristic(s) + s.cost)\n",
    "        frountier.remove(next_state)\n",
    "        explored.append(next_state)\n",
    "\n",
    "        if next_state.cost > cost:\n",
    "            cost = next_state.cost\n",
    "            print(f\"cost:{cost}\")\n",
    "\n",
    "        if reached_goal(next_state, g):\n",
    "            return next_state\n",
    "        for neighbor in g.get_neighbors(next_state):\n",
    "            t = transition(next_state, g, neighbor)\n",
    "            if t not in explored and t not in frountier:\n",
    "                frountier.append(t)"
   ]
  },
  {
   "cell_type": "markdown",
   "metadata": {},
   "source": [
    "## Test A-Star"
   ]
  },
  {
   "cell_type": "code",
   "execution_count": 23,
   "metadata": {},
   "outputs": [],
   "source": [
    "alpha = 1"
   ]
  },
  {
   "cell_type": "markdown",
   "metadata": {},
   "source": [
    "### Test1"
   ]
  },
  {
   "cell_type": "code",
   "execution_count": 24,
   "metadata": {},
   "outputs": [
    {
     "name": "stdout",
     "output_type": "stream",
     "text": [
      "cost:1\n",
      "cost:2\n",
      "cost:3\n",
      "cost:4\n",
      "cost:5\n",
      "cost:6\n",
      "cost:7\n",
      "cost:8\n",
      "time:0.008731603622436523\n",
      "PATH::\n",
      "8 <==  9 <==  11 <==  10 <==  7 <==  5 <==  4 <==  3 <==  1 \n",
      "cost:8,\n",
      "states:99,\n"
     ]
    }
   ],
   "source": [
    "test(g1 , a_star)"
   ]
  },
  {
   "cell_type": "markdown",
   "metadata": {},
   "source": [
    "|  | MinCost | StatesWatched | MeanTime |\n",
    "| --- | --- | --- | --- |\n",
    "| A-Star | 8 | 99 | 0.2 |"
   ]
  },
  {
   "cell_type": "markdown",
   "metadata": {},
   "source": [
    "### Test2:"
   ]
  },
  {
   "cell_type": "code",
   "execution_count": 25,
   "metadata": {},
   "outputs": [
    {
     "name": "stdout",
     "output_type": "stream",
     "text": [
      "cost:1\n",
      "cost:2\n",
      "cost:3\n",
      "cost:4\n",
      "cost:5\n",
      "cost:6\n",
      "cost:7\n",
      "cost:8\n",
      "time:0.02321791648864746\n",
      "PATH::\n",
      "8 <==  5 <==  7 <==  3 <==  12 <==  4 <==  9 <==  10 <==  9 \n",
      "cost:8,\n",
      "states:205,\n"
     ]
    }
   ],
   "source": [
    "test(g2, a_star)"
   ]
  },
  {
   "cell_type": "markdown",
   "metadata": {},
   "source": [
    "|  | MinCost | StatesWatched | MeanTime |\n",
    "| --- | --- | --- | --- |\n",
    "| A-Star | 8 | 205 | 0.02 |"
   ]
  },
  {
   "cell_type": "markdown",
   "metadata": {},
   "source": [
    "### Test3:"
   ]
  },
  {
   "cell_type": "code",
   "execution_count": 26,
   "metadata": {},
   "outputs": [
    {
     "name": "stdout",
     "output_type": "stream",
     "text": [
      "cost:1\n",
      "cost:2\n",
      "cost:3\n",
      "cost:4\n",
      "cost:5\n",
      "cost:6\n",
      "cost:7\n",
      "cost:8\n",
      "cost:9\n",
      "cost:10\n",
      "cost:11\n",
      "cost:12\n",
      "cost:13\n",
      "time:5.096969366073608\n",
      "PATH::\n",
      "10 <==  11 <==  13 <==  1 <==  4 <==  9 <==  5 <==  12 <==  6 <==  2 <==  3 <==  10 <==  11 <==  13 \n",
      "cost:13,\n",
      "states:5767,\n"
     ]
    }
   ],
   "source": [
    "test(g3 , a_star)"
   ]
  },
  {
   "cell_type": "markdown",
   "metadata": {},
   "source": [
    "|  | MinCost | StatesWatched | MeanTime |\n",
    "| --- | --- | --- | --- |\n",
    "| A-Star | 13 | 5767 | 16 |"
   ]
  },
  {
   "cell_type": "markdown",
   "metadata": {},
   "source": [
    "### Test4:"
   ]
  },
  {
   "cell_type": "code",
   "execution_count": 27,
   "metadata": {},
   "outputs": [
    {
     "name": "stdout",
     "output_type": "stream",
     "text": [
      "cost:1\n",
      "cost:2\n",
      "cost:3\n",
      "cost:4\n",
      "cost:5\n",
      "cost:6\n",
      "cost:7\n",
      "cost:8\n",
      "time:0.007461071014404297\n",
      "PATH::\n",
      "5 <==  6 <==  5 <==  4 <==  2 <==  2 <==  3 <==  2 <==  1 \n",
      "cost:8,\n",
      "states:55,\n"
     ]
    }
   ],
   "source": [
    "test(g4 , a_star)"
   ]
  },
  {
   "cell_type": "markdown",
   "metadata": {},
   "source": [
    "|  | MinCost | StatesWatched | MeanTime |\n",
    "| --- | --- | --- | --- |\n",
    "| A-Star | 8 | 55 | 0.1 |"
   ]
  },
  {
   "cell_type": "markdown",
   "metadata": {},
   "source": [
    "## Test Weighted A-Star1:\n",
    "    let alpha = 5"
   ]
  },
  {
   "cell_type": "code",
   "execution_count": 28,
   "metadata": {},
   "outputs": [],
   "source": [
    "alpha = 5"
   ]
  },
  {
   "cell_type": "markdown",
   "metadata": {},
   "source": [
    "### Test1"
   ]
  },
  {
   "cell_type": "code",
   "execution_count": 29,
   "metadata": {},
   "outputs": [
    {
     "name": "stdout",
     "output_type": "stream",
     "text": [
      "cost:1\n",
      "cost:2\n",
      "cost:3\n",
      "cost:4\n",
      "cost:5\n",
      "cost:6\n",
      "cost:7\n",
      "cost:8\n",
      "time:0.008345603942871094\n",
      "PATH::\n",
      "8 <==  9 <==  11 <==  10 <==  7 <==  5 <==  4 <==  3 <==  1 \n",
      "cost:8,\n",
      "states:85,\n"
     ]
    }
   ],
   "source": [
    "test(g1 , a_star)"
   ]
  },
  {
   "cell_type": "markdown",
   "metadata": {},
   "source": [
    "|  | MinCost | StatesWatched | MeanTime |\n",
    "| --- | --- | --- | --- |\n",
    "| Alpha:5 | 8 | 85 | 0.01 |"
   ]
  },
  {
   "cell_type": "markdown",
   "metadata": {},
   "source": [
    "### Test2"
   ]
  },
  {
   "cell_type": "code",
   "execution_count": 30,
   "metadata": {},
   "outputs": [
    {
     "name": "stdout",
     "output_type": "stream",
     "text": [
      "cost:1\n",
      "cost:2\n",
      "cost:3\n",
      "cost:4\n",
      "cost:5\n",
      "cost:6\n",
      "cost:7\n",
      "cost:8\n",
      "time:0.014543533325195312\n",
      "PATH::\n",
      "8 <==  5 <==  7 <==  3 <==  12 <==  4 <==  9 <==  10 <==  9 \n",
      "cost:8,\n",
      "states:122,\n"
     ]
    }
   ],
   "source": [
    "test(g2 , a_star)"
   ]
  },
  {
   "cell_type": "markdown",
   "metadata": {},
   "source": [
    "|  | MinCost | StatesWatched | MeanTime |\n",
    "| --- | --- | --- | --- |\n",
    "| Alpha:5 | 8 | 122 | 0.1 |"
   ]
  },
  {
   "cell_type": "markdown",
   "metadata": {},
   "source": [
    "### Test3"
   ]
  },
  {
   "cell_type": "code",
   "execution_count": 31,
   "metadata": {},
   "outputs": [
    {
     "name": "stdout",
     "output_type": "stream",
     "text": [
      "cost:1\n",
      "cost:2\n",
      "cost:3\n",
      "cost:4\n",
      "cost:5\n",
      "cost:6\n",
      "cost:7\n",
      "cost:8\n",
      "cost:9\n",
      "cost:10\n",
      "cost:11\n",
      "cost:12\n",
      "cost:13\n",
      "cost:14\n",
      "cost:15\n",
      "cost:16\n",
      "time:0.1795032024383545\n",
      "PATH::\n",
      "11 <==  10 <==  5 <==  12 <==  5 <==  10 <==  5 <==  9 <==  4 <==  1 <==  4 <==  9 <==  2 <==  3 <==  10 <==  11 <==  13 \n",
      "cost:16,\n",
      "states:736,\n"
     ]
    }
   ],
   "source": [
    "test(g3 , a_star)"
   ]
  },
  {
   "cell_type": "markdown",
   "metadata": {},
   "source": [
    "|  | MinCost | StatesWatched | MeanTime |\n",
    "| --- | --- | --- | --- |\n",
    "| Alpha:5 | 16 | 736 | 0.1 |"
   ]
  },
  {
   "cell_type": "markdown",
   "metadata": {},
   "source": [
    "### Test4"
   ]
  },
  {
   "cell_type": "code",
   "execution_count": 32,
   "metadata": {},
   "outputs": [
    {
     "name": "stdout",
     "output_type": "stream",
     "text": [
      "cost:1\n",
      "cost:2\n",
      "cost:3\n",
      "cost:4\n",
      "cost:5\n",
      "cost:6\n",
      "cost:7\n",
      "cost:8\n",
      "time:0.006242990493774414\n",
      "PATH::\n",
      "5 <==  6 <==  5 <==  4 <==  2 <==  2 <==  3 <==  2 <==  1 \n",
      "cost:8,\n",
      "states:49,\n"
     ]
    }
   ],
   "source": [
    "test(g4 , a_star)"
   ]
  },
  {
   "cell_type": "markdown",
   "metadata": {},
   "source": [
    "|  | MinCost | StatesWatched | MeanTime |\n",
    "| --- | --- | --- | --- |\n",
    "| Alpha:5 | 8 | 49 | 0.01 |"
   ]
  },
  {
   "cell_type": "markdown",
   "metadata": {},
   "source": [
    "## Test Weighted A-Star2:\n",
    "    let alpha = 10"
   ]
  },
  {
   "cell_type": "code",
   "execution_count": 33,
   "metadata": {},
   "outputs": [],
   "source": [
    "alpha = 10"
   ]
  },
  {
   "cell_type": "markdown",
   "metadata": {},
   "source": [
    "### Test1"
   ]
  },
  {
   "cell_type": "code",
   "execution_count": 34,
   "metadata": {},
   "outputs": [
    {
     "name": "stdout",
     "output_type": "stream",
     "text": [
      "cost:1\n",
      "cost:2\n",
      "cost:3\n",
      "cost:4\n",
      "cost:5\n",
      "cost:6\n",
      "cost:7\n",
      "cost:8\n",
      "time:0.007957696914672852\n",
      "PATH::\n",
      "8 <==  9 <==  11 <==  10 <==  7 <==  5 <==  4 <==  3 <==  1 \n",
      "cost:8,\n",
      "states:85,\n"
     ]
    }
   ],
   "source": [
    "test(g1 , a_star)"
   ]
  },
  {
   "cell_type": "markdown",
   "metadata": {},
   "source": [
    "|  | MinCost | StatesWatched | MeanTime |\n",
    "| --- | --- | --- | --- |\n",
    "| Alpha:10 | 8 | 85 | 0.01 |"
   ]
  },
  {
   "cell_type": "markdown",
   "metadata": {},
   "source": [
    "### Test2"
   ]
  },
  {
   "cell_type": "code",
   "execution_count": 35,
   "metadata": {},
   "outputs": [
    {
     "name": "stdout",
     "output_type": "stream",
     "text": [
      "cost:1\n",
      "cost:2\n",
      "cost:3\n",
      "cost:4\n",
      "cost:5\n",
      "cost:6\n",
      "cost:7\n",
      "cost:8\n",
      "time:0.010127544403076172\n",
      "PATH::\n",
      "8 <==  5 <==  7 <==  3 <==  12 <==  4 <==  9 <==  10 <==  9 \n",
      "cost:8,\n",
      "states:122,\n"
     ]
    }
   ],
   "source": [
    "test(g2 , a_star)"
   ]
  },
  {
   "cell_type": "markdown",
   "metadata": {},
   "source": [
    "|  | MinCost | StatesWatched | MeanTime |\n",
    "| --- | --- | --- | --- |\n",
    "| Alpha:10 | 8 | 122 | 0.01 |"
   ]
  },
  {
   "cell_type": "markdown",
   "metadata": {},
   "source": [
    "### Test3"
   ]
  },
  {
   "cell_type": "code",
   "execution_count": 36,
   "metadata": {},
   "outputs": [
    {
     "name": "stdout",
     "output_type": "stream",
     "text": [
      "cost:1\n",
      "cost:2\n",
      "cost:3\n",
      "cost:4\n",
      "cost:5\n",
      "cost:6\n",
      "cost:7\n",
      "cost:8\n",
      "cost:9\n",
      "cost:10\n",
      "cost:11\n",
      "cost:12\n",
      "cost:13\n",
      "cost:14\n",
      "cost:15\n",
      "cost:16\n",
      "cost:17\n",
      "time:0.05749154090881348\n",
      "PATH::\n",
      "11 <==  13 <==  1 <==  4 <==  9 <==  5 <==  12 <==  5 <==  10 <==  5 <==  9 <==  4 <==  9 <==  2 <==  3 <==  10 <==  11 <==  13 \n",
      "cost:17,\n",
      "states:283,\n"
     ]
    }
   ],
   "source": [
    "test(g3 , a_star)"
   ]
  },
  {
   "cell_type": "markdown",
   "metadata": {},
   "source": [
    "|  | MinCost | StatesWatched | MeanTime |\n",
    "| --- | --- | --- | --- |\n",
    "| Alpha:10 | 17 | 283 | 0.08 |"
   ]
  },
  {
   "cell_type": "markdown",
   "metadata": {},
   "source": [
    "### Test4"
   ]
  },
  {
   "cell_type": "code",
   "execution_count": 37,
   "metadata": {},
   "outputs": [
    {
     "name": "stdout",
     "output_type": "stream",
     "text": [
      "cost:1\n",
      "cost:2\n",
      "cost:3\n",
      "cost:4\n",
      "cost:5\n",
      "cost:6\n",
      "cost:7\n",
      "cost:8\n",
      "time:0.003587961196899414\n",
      "PATH::\n",
      "5 <==  6 <==  5 <==  4 <==  2 <==  2 <==  3 <==  2 <==  1 \n",
      "cost:8,\n",
      "states:49,\n"
     ]
    }
   ],
   "source": [
    "test(g4 , a_star)"
   ]
  },
  {
   "cell_type": "markdown",
   "metadata": {},
   "source": [
    "|  | MinCost | StatesWatched | MeanTime |\n",
    "| --- | --- | --- | --- |\n",
    "| Alpha:10 | 8 | 49 | 0.01 |"
   ]
  },
  {
   "cell_type": "markdown",
   "metadata": {},
   "source": [
    "# Conclusion:"
   ]
  },
  {
   "cell_type": "markdown",
   "metadata": {},
   "source": [
    "    Number OF States Watched:\n",
    "\n",
    "|     | Test1 | Test2 | Test3 | Test4 |\n",
    "| --- |  ---  |  ---  |  ---  |  ---  |\n",
    "| BFS |   287   |   551  |   21442  |  92 |\n",
    "| IDS |    4632  | 10465  |   608362  | 580  |\n",
    "| A-Star |   85   |  205   |  5767   |  55 |\n",
    "| alpha:5 |   85   |   122  |   736  |  49 |\n",
    "| alpha:10 |   85   |   122  |  283   |  49 |"
   ]
  },
  {
   "cell_type": "markdown",
   "metadata": {},
   "source": [
    "As you can see, In general, if we compare speed of these methods:\n",
    "    weighted A-star > A-star > BFS > IDS\n",
    "\n",
    "BSF and IDS and A* search will give us optimal soloution.(A* is optimal if huristic is consistent)\n",
    "\n",
    "As discussed previously, weighed-astar can find soloution faster but optimality is not guaranteed.others are optimal."
   ]
  },
  {
   "cell_type": "markdown",
   "metadata": {},
   "source": [
    "# EXTRA:"
   ]
  },
  {
   "cell_type": "markdown",
   "metadata": {},
   "source": [
    "## PATH checker"
   ]
  },
  {
   "cell_type": "code",
   "execution_count": 38,
   "metadata": {},
   "outputs": [
    {
     "name": "stdout",
     "output_type": "stream",
     "text": [
      "all recipes:\n",
      "[2, 9, 3, 6]\n",
      "all morids:\n",
      "{7: [2, 9], 6: [9, 3, 6, 2]}\n",
      "\n",
      " cost:0,                  \n",
      " position9                  \n",
      " morids:[]                  \n",
      " recipes:[]                   \n",
      "\n",
      "\n",
      "\n",
      " cost:1,                  \n",
      " position9                  \n",
      " morids:[]                  \n",
      " recipes:[]                   \n",
      "\n",
      "\n",
      "\n",
      " cost:2,                  \n",
      " position10                  \n",
      " morids:[]                  \n",
      " recipes:[10]                   \n",
      "\n",
      "\n",
      "\n",
      " cost:3,                  \n",
      " position2                  \n",
      " morids:[]                  \n",
      " recipes:[10]                   \n",
      "\n",
      "\n",
      "\n",
      " cost:4,                  \n",
      " position4                  \n",
      " morids:[]                  \n",
      " recipes:[10, 4]                   \n",
      "\n",
      "\n",
      "\n",
      " cost:5,                  \n",
      " position12                  \n",
      " morids:[]                  \n",
      " recipes:[10, 4]                   \n",
      "\n",
      "\n",
      "\n",
      " cost:6,                  \n",
      " position3                  \n",
      " morids:[]                  \n",
      " recipes:[10, 4, 3]                   \n",
      "\n",
      "\n",
      "\n",
      " cost:7,                  \n",
      " position7                  \n",
      " morids:[7]                  \n",
      " recipes:[10, 4, 3, 7]                   \n",
      "\n",
      "\n",
      "\n",
      " cost:8,                  \n",
      " position5                  \n",
      " morids:[7]                  \n",
      " recipes:[10, 4, 3, 7]                   \n",
      "\n",
      "\n",
      "\n",
      " cost:9,                  \n",
      " position8                  \n",
      " morids:[7, 8]                  \n",
      " recipes:[10, 4, 3, 7]                   \n",
      "\n",
      "\n",
      "True\n"
     ]
    }
   ],
   "source": [
    "path_test1 = [1, 3, 4, 5, 7, 10, 11, 9, 8]\n",
    "path_test2 = [9, 10, 2, 4, 12, 3, 7, 5, 8]\n",
    "path_test3 = [42, 38, 24, 31, 45, 30, 48, 41, 18, 1, 19, 43, 49, 47, 49, 9, 34, 25, 50, 12, 16]\n",
    "\n",
    "def check_path(g :Graph, path) -> bool:\n",
    "    print(\"all recipes:\")\n",
    "    print(g.recipes)\n",
    "    print(\"all morids:\")\n",
    "    print(g.morids)\n",
    "    state = create_initial_state(g)\n",
    "    print(state)\n",
    "\n",
    "    for i in path:\n",
    "        state = transition(state, g, i-1)\n",
    "        print(state)\n",
    "    return reached_goal(state, g)\n",
    "\n",
    "x = check_path(g2, path_test2)\n",
    "print(x)"
   ]
  }
 ],
 "metadata": {
  "kernelspec": {
   "display_name": "Python 3.10.6 64-bit",
   "language": "python",
   "name": "python3"
  },
  "language_info": {
   "codemirror_mode": {
    "name": "ipython",
    "version": 3
   },
   "file_extension": ".py",
   "mimetype": "text/x-python",
   "name": "python",
   "nbconvert_exporter": "python",
   "pygments_lexer": "ipython3",
   "version": "3.10.6"
  },
  "orig_nbformat": 4,
  "vscode": {
   "interpreter": {
    "hash": "916dbcbb3f70747c44a77c7bcd40155683ae19c65e1c03b4aa3499c5328201f1"
   }
  }
 },
 "nbformat": 4,
 "nbformat_minor": 2
}
