{
 "cells": [
  {
   "cell_type": "markdown",
   "metadata": {},
   "source": [
    "# In the Name of God\n",
    "Name : Mohammad Mohajel Sadegi\n",
    "\n",
    "SID  : 810199483\n"
   ]
  },
  {
   "cell_type": "markdown",
   "metadata": {},
   "source": [
    "# Initial classes:"
   ]
  },
  {
   "cell_type": "markdown",
   "metadata": {},
   "source": [
    "## DEFINES:"
   ]
  },
  {
   "cell_type": "code",
   "execution_count": 1,
   "metadata": {},
   "outputs": [],
   "source": [
    "BFS_PRINT_PATH = 0"
   ]
  },
  {
   "cell_type": "markdown",
   "metadata": {},
   "source": [
    "## Abstract:\n",
    "Implementation of BFS, IDS and A* search "
   ]
  },
  {
   "cell_type": "markdown",
   "metadata": {},
   "source": [
    "## Importing libraries:"
   ]
  },
  {
   "cell_type": "code",
   "execution_count": 2,
   "metadata": {},
   "outputs": [],
   "source": [
    "import copy\n",
    "from collections import Counter\n",
    "from queue import Queue\n",
    "import time\n",
    "import numpy as np"
   ]
  },
  {
   "cell_type": "markdown",
   "metadata": {},
   "source": [
    "## Class state"
   ]
  },
  {
   "cell_type": "code",
   "execution_count": 3,
   "metadata": {},
   "outputs": [],
   "source": [
    "class State:\n",
    "    def __init__(self, rocky_nodes) -> None:\n",
    "        self.position = 0\n",
    "        self.recipes_seen = [] #be very carefull changed\n",
    "        self.morids_seen = []\n",
    "        self.prev_state = None\n",
    "        self.rocky_nodes = dict.fromkeys(rocky_nodes, 0)\n",
    "        self.rocky_remain = 0\n",
    "        self.cost = 0\n",
    "\n",
    "    def __members(self):\n",
    "        return (self.position, self.recipes_seen, self.morids_seen, self.rocky_remain) #delete self.cost\n",
    "\n",
    "\n",
    "    def __eq__(self, other):\n",
    "        if type(other) is type(self):\n",
    "            return self.__members() == other.__members()\n",
    "        return False\n",
    "\n",
    "    def __hash__(self):\n",
    "        return hash(f\"{self.position},{self.recipes_seen},{self.morids_seen},{self.rocky_remain},{self.cost}\")\n",
    "\n",
    "    def __str__(self) -> str:\n",
    "        return f\"\\n cost:{self.cost}, \\\n",
    "                 \\n position{self.position + 1} \\\n",
    "                 \\n morids:{self.morids_seen} \\\n",
    "                 \\n recipes:{self.recipes_seen} \\\n",
    "                  \\n\\n\"  "
   ]
  },
  {
   "cell_type": "markdown",
   "metadata": {},
   "source": [
    "## Class graph:"
   ]
  },
  {
   "cell_type": "code",
   "execution_count": 4,
   "metadata": {},
   "outputs": [],
   "source": [
    "class Graph:\n",
    "    def __init__(self, v :int) -> None:\n",
    "        self.v = v\n",
    "        self.edges = [[] for _ in range(v)]\n",
    "        self.morids = None #make it dictionary\n",
    "        self.recipes = []\n",
    "        self.start_position = 0\n",
    "        self.rocky_nodes = []\n",
    "\n",
    "    def add_edge(self, u :int, v :int) -> None:\n",
    "        self.edges[u].append(v)\n",
    "        self.edges[v].append(u)\n",
    "\n",
    "    def is_rocky(self, node :int) -> bool:\n",
    "        return (node in self.rocky_nodes)\n",
    "\n",
    "    def is_recipes(self, node :int) -> bool:\n",
    "        return (node in self.recipes)\n",
    "\n",
    "    def is_morid(self, node :int) -> bool:\n",
    "        return (node in list(self.morids.keys()))\n",
    "\n",
    "    def get_neighbors(self, s :State):\n",
    "        return self.edges[s.position]\n"
   ]
  },
  {
   "cell_type": "markdown",
   "metadata": {},
   "source": [
    "## Read input and create graph class"
   ]
  },
  {
   "cell_type": "code",
   "execution_count": 5,
   "metadata": {},
   "outputs": [],
   "source": [
    "def create_graph(path :str) -> Graph:\n",
    "    file = open(path, \"r\")\n",
    "    n, m = map(int, file.readline().split(\" \"))\n",
    "    g = Graph(n)\n",
    "\n",
    "    for _ in range(m):\n",
    "        u, v = map(int, file.readline().split(\" \"))\n",
    "        g.add_edge(u - 1, v - 1)\n",
    "\n",
    "    h = int(file.readline())\n",
    "    rocky_nodes = list(map(int, file.readline().split(\" \")))\n",
    "    rocky_nodes = [x - 1 for x in rocky_nodes]\n",
    "    g.rocky_nodes = rocky_nodes\n",
    "    s = int(file.readline())\n",
    "\n",
    "    morids = {}\n",
    "    for _ in range(s):\n",
    "        line = list(map(int, file.readline().split(\" \")))\n",
    "        line = [x - 1 for x in line]\n",
    "        morids.update({line[0] : line[2:]})\n",
    "    g.morids = morids\n",
    "    \n",
    "    g.start_position = (int(file.readline()) - 1)\n",
    "\n",
    "    recipes = []\n",
    "    for recipe in morids.values():\n",
    "        recipes.extend(recipe)\n",
    "\n",
    "    recipes = list(dict.fromkeys(recipes)) # Remove Duplicates From a Python List \n",
    "    g.recipes = recipes\n",
    "    return g\n",
    "\n",
    "g1 = create_graph(\"input.txt\")\n",
    "g2 = create_graph(\"input2.txt\")\n",
    "g3 = create_graph(\"input3.txt\")\n",
    "g4 = create_graph(\"input4.txt\")\n"
   ]
  },
  {
   "cell_type": "markdown",
   "metadata": {},
   "source": [
    "## Create initial state"
   ]
  },
  {
   "cell_type": "code",
   "execution_count": 6,
   "metadata": {},
   "outputs": [
    {
     "name": "stdout",
     "output_type": "stream",
     "text": [
      "\n",
      " cost:0,                  \n",
      " position40                  \n",
      " morids:[]                  \n",
      " recipes:[]                   \n",
      "\n",
      "\n"
     ]
    }
   ],
   "source": [
    "def create_initial_state(g :Graph) -> State:\n",
    "    s = State(g.rocky_nodes)\n",
    "    s.position = g.start_position\n",
    "    return s\n",
    "\n",
    "initial_state1 = create_initial_state(g1)\n",
    "initial_state2 = create_initial_state(g2)\n",
    "initial_state3 = create_initial_state(g3)\n",
    "initial_state4 = create_initial_state(g4)\n",
    " "
   ]
  },
  {
   "cell_type": "markdown",
   "metadata": {},
   "source": [
    "## Transition module and goal state implementation:"
   ]
  },
  {
   "cell_type": "code",
   "execution_count": 7,
   "metadata": {},
   "outputs": [],
   "source": [
    "counter = 0 # remember to initilize it to 0 in begenning\n",
    "\n",
    "def reached_goal(s :State, g :Graph) -> bool:\n",
    "    return len(g.morids) == len(s.morids_seen)\n",
    "\n",
    "def is_in(p , q) -> bool:\n",
    "    for i in q:\n",
    "        if i not in p:\n",
    "            return False\n",
    "    return True\n",
    "    \n",
    "def transition(s :State, g :Graph, p :int) -> State:\n",
    "    global counter\n",
    "    counter += 1\n",
    "\n",
    "    # if s.prev_state == None: #initial_state\n",
    "    #     print(f\"start : {s.position}\\n\")\n",
    "    # else:\n",
    "    #     print(f\"{s.prev_state.position} => {s.position} \\n\")\n",
    "\n",
    "    next_state = copy.deepcopy(s)\n",
    "    next_state.prev_state = s\n",
    "    next_state.cost += 1\n",
    "    if s.rocky_remain != 0:\n",
    "        next_state.rocky_remain -= 1\n",
    "    else:\n",
    "        next_state.position = p\n",
    "        if g.is_rocky(p):\n",
    "            next_state.rocky_remain = next_state.rocky_nodes[p]\n",
    "            next_state.rocky_nodes[p] += 1\n",
    "\n",
    "        elif(g.is_recipes(p) and p not in s.recipes_seen):\n",
    "            next_state.recipes_seen.append(p)\n",
    "\n",
    "        elif(g.is_morid(p) and p not in s.morids_seen and is_in(s.recipes_seen, g.morids[p])):\n",
    "            next_state.morids_seen.append(p)\n",
    "            \n",
    "    # print(f\"going to node {next_state.position + 1}, cost:{next_state.cost}\")\n",
    "    return next_state\n",
    "    "
   ]
  },
  {
   "cell_type": "markdown",
   "metadata": {},
   "source": [
    "## Print_path function:\n",
    "to print path after finding it!"
   ]
  },
  {
   "cell_type": "code",
   "execution_count": 8,
   "metadata": {},
   "outputs": [],
   "source": [
    "def print_path(final_state : State) -> None:\n",
    "    print(\"PATH::\")\n",
    "    s = final_state\n",
    "    while True:\n",
    "        print(f\"{s.position + 1} <== \", end = \" \")\n",
    "        s = s.prev_state\n",
    "        if s.prev_state == None: #s is first node\n",
    "            print(f\"{s.position + 1} \")\n",
    "            break\n",
    "         "
   ]
  },
  {
   "cell_type": "markdown",
   "metadata": {},
   "source": [
    "## Test function:"
   ]
  },
  {
   "cell_type": "code",
   "execution_count": 9,
   "metadata": {},
   "outputs": [],
   "source": [
    "def test(g :Graph, method) -> None:\n",
    "    global counter\n",
    "    counter = 0\n",
    "    start = time.time()\n",
    "    path = method(g, create_initial_state(g))\n",
    "    end = time.time()\n",
    "    print(f\"time:{end - start}\")\n",
    "    print_path(path)\n",
    "    print(f\"cost:{path.cost},\")\n",
    "    print(f\"states:{counter},\")"
   ]
  },
  {
   "cell_type": "markdown",
   "metadata": {},
   "source": [
    "# BFS:"
   ]
  },
  {
   "cell_type": "markdown",
   "metadata": {},
   "source": [
    "## BFS implementation:"
   ]
  },
  {
   "cell_type": "markdown",
   "metadata": {},
   "source": [
    "### With QUEUE:"
   ]
  },
  {
   "cell_type": "code",
   "execution_count": 10,
   "metadata": {},
   "outputs": [],
   "source": [
    "def bfs(g :Graph, initial_state :State) -> State:\n",
    "    q = Queue()\n",
    "    q.put(initial_state)\n",
    "    explored = {initial_state, }\n",
    "    cost = 0\n",
    "    while 1:\n",
    "        state = q.get()\n",
    "        \n",
    "        if state.cost > cost:\n",
    "            cost = state.cost\n",
    "            print(f\"cost:{cost}\")\n",
    "\n",
    "        for neighbor in g.get_neighbors(state):\n",
    "            t = transition(state, g, neighbor)\n",
    "            if t not in explored:\n",
    "                if reached_goal(t, g):\n",
    "                    return t\n",
    "                q.put(t)\n",
    "                explored.add(t)\n",
    "                if BFS_PRINT_PATH:\n",
    "                    print(f\"{t.prev_state.position + 1} => {t.position + 1}\")\n",
    "        if BFS_PRINT_PATH:\n",
    "            print(\"\\n\")"
   ]
  },
  {
   "cell_type": "markdown",
   "metadata": {},
   "source": [
    "### With List:"
   ]
  },
  {
   "cell_type": "code",
   "execution_count": 11,
   "metadata": {},
   "outputs": [],
   "source": [
    "def bfs2(g :Graph, initial_state :State) -> State:\n",
    "    q = []\n",
    "    q.append(initial_state)\n",
    "    explored = {initial_state, }\n",
    "    cost = 0\n",
    "    while 1:\n",
    "        state = q.pop(0)\n",
    "        #for test\n",
    "        if state.cost > cost:\n",
    "            cost = state.cost\n",
    "            print(f\"cost:{cost}\")\n",
    "\n",
    "        for neighbor in g.get_neighbors(state):\n",
    "            t = transition(state, g, neighbor)\n",
    "            if t not in explored:\n",
    "                if reached_goal(t, g):\n",
    "                    return t\n",
    "                q.append(t)\n",
    "                explored.add(t)\n",
    "                # print(f\"{t.prev_state.position + 1} => {t.position + 1}\")\n",
    "        # print(\"\\n\")"
   ]
  },
  {
   "cell_type": "markdown",
   "metadata": {},
   "source": [
    "### With List comprehension:"
   ]
  },
  {
   "cell_type": "code",
   "execution_count": 13,
   "metadata": {},
   "outputs": [],
   "source": [
    "def h(s :State) -> int:\n",
    "    return len(s.recipes_seen) + len(s.morids_seen)\n",
    "\n",
    "def bfs4(g :Graph, initial_state :State) -> State:\n",
    "    max_h = 0\n",
    "    q = Queue()\n",
    "    q.put(initial_state)\n",
    "    explored = {initial_state, }\n",
    "    cost = 0\n",
    "    while 1:\n",
    "\n",
    "        while 1:\n",
    "            state = q.get()\n",
    "\n",
    "            if h(state) > max_h:\n",
    "                max_h = h(state)\n",
    "                break\n",
    "            elif h(state) >= (max_h - 1):\n",
    "                break\n",
    "\n",
    "        if state.cost > cost:\n",
    "            cost = state.cost\n",
    "            print(f\"cost:{cost}\")\n",
    "            \n",
    "        for neighbor in g.get_neighbors(state):\n",
    "            t = transition(state, g, neighbor)\n",
    "            if t not in explored:\n",
    "                if reached_goal(t, g):\n",
    "                    return t\n",
    "                q.put(t)\n",
    "                explored.add(t)"
   ]
  },
  {
   "cell_type": "markdown",
   "metadata": {},
   "source": [
    "## BFS Test:"
   ]
  },
  {
   "cell_type": "markdown",
   "metadata": {},
   "source": [
    "### Test1:"
   ]
  },
  {
   "cell_type": "code",
   "execution_count": 14,
   "metadata": {},
   "outputs": [
    {
     "name": "stdout",
     "output_type": "stream",
     "text": [
      "cost:1\n",
      "cost:2\n",
      "cost:3\n",
      "cost:4\n",
      "cost:5\n",
      "cost:6\n",
      "cost:7\n",
      "time:0.02753734588623047\n",
      "PATH::\n",
      "8 <==  9 <==  11 <==  10 <==  7 <==  5 <==  4 <==  3 <==  1 \n",
      "cost:8,\n",
      "states:287,\n"
     ]
    }
   ],
   "source": [
    "test(g1, bfs)"
   ]
  },
  {
   "cell_type": "markdown",
   "metadata": {},
   "source": [
    "PATH:\n",
    "\n",
    "    8 <==  9 <==  11 <==  10 <==  7 <==  5 <==  4 <==  3 <==  1\n",
    "\n",
    "|  | MinCost | StatesWatched | MeanTime |\n",
    "| --- | --- | --- | --- |\n",
    "| BFS | 8 | 287 | 0.026 |"
   ]
  },
  {
   "cell_type": "markdown",
   "metadata": {},
   "source": [
    "### Test2:"
   ]
  },
  {
   "cell_type": "code",
   "execution_count": 43,
   "metadata": {},
   "outputs": [
    {
     "name": "stdout",
     "output_type": "stream",
     "text": [
      "cost:1\n",
      "cost:2\n",
      "cost:3\n",
      "cost:4\n",
      "cost:5\n",
      "cost:6\n",
      "cost:7\n",
      "cost:8\n",
      "cost:9\n",
      "cost:10\n",
      "cost:11\n",
      "time:62.594446659088135\n",
      "PATH::\n",
      "29 <==  7 <==  5 <==  23 <==  28 <==  23 <==  9 <==  24 <==  11 <==  3 <==  13 <==  19 <==  28 \n",
      "cost:12,\n",
      "states:473822,\n"
     ]
    }
   ],
   "source": [
    "# %%script false --no-raise-error\n",
    "test(g2, bfs)"
   ]
  },
  {
   "cell_type": "markdown",
   "metadata": {},
   "source": [
    "PATH:\n",
    "\n",
    "    29 <==  7 <==  5 <==  23 <==  28 <==  23 <==  9 <==  24 <==  11 <==  3 <==  13 <==  19 <==  28\n",
    "\n",
    "|  | MinCost | StatesWatched | MeanTime |\n",
    "| --- | --- | --- | --- |\n",
    "| BFS | 12 | 473822 | 62 |"
   ]
  },
  {
   "cell_type": "markdown",
   "metadata": {},
   "source": [
    "### Test3:"
   ]
  },
  {
   "cell_type": "code",
   "execution_count": 42,
   "metadata": {},
   "outputs": [
    {
     "name": "stdout",
     "output_type": "stream",
     "text": [
      "cost:1\n",
      "cost:2\n",
      "cost:3\n",
      "cost:4\n",
      "cost:5\n",
      "cost:6\n",
      "cost:7\n",
      "cost:8\n",
      "cost:9\n",
      "cost:10\n",
      "cost:11\n",
      "cost:12\n",
      "cost:13\n",
      "cost:14\n",
      "cost:15\n",
      "cost:16\n",
      "cost:17\n",
      "cost:18\n",
      "cost:19\n",
      "cost:20\n",
      "time:51.75353932380676\n",
      "PATH::\n",
      "16 <==  12 <==  50 <==  25 <==  34 <==  9 <==  49 <==  47 <==  49 <==  43 <==  19 <==  1 <==  18 <==  41 <==  48 <==  30 <==  45 <==  31 <==  24 <==  38 <==  42 <==  40 \n",
      "cost:21,\n",
      "states:224527,\n"
     ]
    }
   ],
   "source": [
    "# %%script false --no-raise-error\n",
    "test(g3, bfs)"
   ]
  },
  {
   "cell_type": "markdown",
   "metadata": {},
   "source": [
    "PATH:\n",
    "\n",
    "    16 <==  12 <==  50 <==  25 <==  34 <==  9 <==  49 <==  47 <==  49 <==  43 <==  19 <==  1 <==  18 <==  41 <==  48 <==  30 <==  45 <==  31 <==  24 <==  38 <==  42 <==  40 \n",
    "\n",
    "|  | MinCost | StatesWatched | MeanTime |\n",
    "| --- | --- | --- | --- |\n",
    "| BFS | 21 | 224527 | 52 |"
   ]
  },
  {
   "cell_type": "markdown",
   "metadata": {},
   "source": [
    "### Test4:"
   ]
  },
  {
   "cell_type": "code",
   "execution_count": 17,
   "metadata": {},
   "outputs": [
    {
     "name": "stdout",
     "output_type": "stream",
     "text": [
      "cost:1\n",
      "cost:2\n",
      "cost:3\n",
      "cost:4\n",
      "cost:5\n",
      "cost:6\n",
      "cost:7\n",
      "time:0.008675098419189453\n",
      "PATH::\n",
      "5 <==  6 <==  5 <==  4 <==  2 <==  2 <==  3 <==  2 <==  1 \n",
      "cost:8,\n",
      "states:92,\n"
     ]
    }
   ],
   "source": [
    "test(g4, bfs)"
   ]
  },
  {
   "cell_type": "markdown",
   "metadata": {},
   "source": [
    "PATH:\n",
    "\n",
    "    5 <==  6 <==  5 <==  4 <==  2 <==  2 <==  3 <==  2 <==  1\n",
    "\n",
    "|  | MinCost | StatesWatched | MeanTime |\n",
    "| --- | --- | --- | --- |\n",
    "| BFS | 8 | 92 | 0.03 |"
   ]
  },
  {
   "cell_type": "markdown",
   "metadata": {},
   "source": [
    "# IDS:"
   ]
  },
  {
   "cell_type": "markdown",
   "metadata": {},
   "source": [
    "## IDS implementation:"
   ]
  },
  {
   "cell_type": "code",
   "execution_count": 18,
   "metadata": {},
   "outputs": [],
   "source": [
    "def dfs(state :State, step :int, g :Graph):\n",
    "    if reached_goal(state, g):\n",
    "        return state\n",
    "    if step == 0:\n",
    "        return None\n",
    "\n",
    "    for neighbor in g.get_neighbors(state):\n",
    "        next_state = transition(state, g, neighbor)\n",
    "        result = dfs(next_state, step - 1, g)\n",
    "        if result != None:\n",
    "            return result\n",
    "    return None\n",
    "\n",
    "h = 0\n",
    "def ids(g:Graph, initial_state :State) -> State:\n",
    "    global h\n",
    "    while True:\n",
    "        h += 1\n",
    "        print(f\"h:{h}\")\n",
    "\n",
    "        result = dfs(initial_state, h, g)\n",
    "        if result != None:\n",
    "            return result\n",
    "        print(f\"cant find in h:{h}\")"
   ]
  },
  {
   "cell_type": "markdown",
   "metadata": {},
   "source": [
    "## IDS Tests:"
   ]
  },
  {
   "cell_type": "markdown",
   "metadata": {},
   "source": [
    "### Test1:"
   ]
  },
  {
   "cell_type": "code",
   "execution_count": 19,
   "metadata": {},
   "outputs": [
    {
     "name": "stdout",
     "output_type": "stream",
     "text": [
      "h:1\n",
      "cant find in h:1\n",
      "h:2\n",
      "cant find in h:2\n",
      "h:3\n",
      "cant find in h:3\n",
      "h:4\n",
      "cant find in h:4\n",
      "h:5\n",
      "cant find in h:5\n",
      "h:6\n",
      "cant find in h:6\n",
      "h:7\n",
      "cant find in h:7\n",
      "h:8\n",
      "time:0.3609590530395508\n",
      "PATH::\n",
      "8 <==  9 <==  11 <==  10 <==  7 <==  5 <==  4 <==  3 <==  1 \n",
      "cost:8,\n",
      "states:4632,\n"
     ]
    }
   ],
   "source": [
    "test(g1, ids)"
   ]
  },
  {
   "cell_type": "markdown",
   "metadata": {},
   "source": [
    "|  | MinCost | StatesWatched | MeanTime |\n",
    "| --- | --- | --- | --- |\n",
    "| IDS | 8 | 4632 | 0.37 |"
   ]
  },
  {
   "cell_type": "markdown",
   "metadata": {},
   "source": [
    "### Test2:"
   ]
  },
  {
   "cell_type": "code",
   "execution_count": 20,
   "metadata": {},
   "outputs": [],
   "source": [
    "%%script false --no-raise-error\n",
    "h = 11\n",
    "test(g2, ids)"
   ]
  },
  {
   "cell_type": "markdown",
   "metadata": {},
   "source": [
    "### Test3"
   ]
  },
  {
   "cell_type": "code",
   "execution_count": 21,
   "metadata": {},
   "outputs": [],
   "source": [
    "%%script false --no-raise-error\n",
    "h = 20\n",
    "test(g3, ids)"
   ]
  },
  {
   "cell_type": "markdown",
   "metadata": {},
   "source": [
    "### Test4:"
   ]
  },
  {
   "cell_type": "code",
   "execution_count": 22,
   "metadata": {},
   "outputs": [
    {
     "name": "stdout",
     "output_type": "stream",
     "text": [
      "h:1\n",
      "cant find in h:1\n",
      "h:2\n",
      "cant find in h:2\n",
      "h:3\n",
      "cant find in h:3\n",
      "h:4\n",
      "cant find in h:4\n",
      "h:5\n",
      "cant find in h:5\n",
      "h:6\n",
      "cant find in h:6\n",
      "h:7\n",
      "cant find in h:7\n",
      "h:8\n",
      "time:0.038872480392456055\n",
      "PATH::\n",
      "5 <==  6 <==  5 <==  4 <==  2 <==  2 <==  3 <==  2 <==  1 \n",
      "cost:8,\n",
      "states:580,\n"
     ]
    }
   ],
   "source": [
    "h = 0\n",
    "test(g4, ids)"
   ]
  },
  {
   "cell_type": "markdown",
   "metadata": {},
   "source": [
    "# ASTAR:"
   ]
  },
  {
   "cell_type": "markdown",
   "metadata": {},
   "source": [
    "## A-Star search: "
   ]
  },
  {
   "cell_type": "markdown",
   "metadata": {},
   "source": [
    "### Implementation:"
   ]
  },
  {
   "cell_type": "code",
   "execution_count": 31,
   "metadata": {},
   "outputs": [],
   "source": [
    "alpha = 1\n",
    "\n",
    "def huristic(s :State) -> int:\n",
    "    global alpha\n",
    "    return -len(s.morids_seen) * alpha\n",
    "    # return -(len(s.morids_seen) + len(s.recipes_seen)) * alpha\n",
    "\n",
    "def a_star(g:Graph, initial_state :State) -> State:\n",
    "    explored = []\n",
    "    frountier = [initial_state, ]\n",
    "    cost = 0\n",
    "\n",
    "    while True:\n",
    "        next_state = min(frountier, key = lambda s : huristic(s) + s.cost)\n",
    "        frountier.remove(next_state)\n",
    "        explored.append(next_state)\n",
    "\n",
    "        if next_state.cost > cost:\n",
    "            cost = next_state.cost\n",
    "            print(f\"cost:{cost}\")\n",
    "\n",
    "        if reached_goal(next_state, g):\n",
    "            return next_state\n",
    "        for neighbor in g.get_neighbors(next_state):\n",
    "            t = transition(next_state, g, neighbor)\n",
    "            if t not in explored and t not in frountier:\n",
    "                frountier.append(t)"
   ]
  },
  {
   "cell_type": "markdown",
   "metadata": {},
   "source": [
    "## Test A-Star"
   ]
  },
  {
   "cell_type": "code",
   "execution_count": 55,
   "metadata": {},
   "outputs": [],
   "source": [
    "alpha = 1"
   ]
  },
  {
   "cell_type": "markdown",
   "metadata": {},
   "source": [
    "### Test1"
   ]
  },
  {
   "cell_type": "code",
   "execution_count": 30,
   "metadata": {},
   "outputs": [
    {
     "name": "stdout",
     "output_type": "stream",
     "text": [
      "cost:1\n",
      "cost:2\n",
      "cost:3\n",
      "cost:4\n",
      "cost:5\n",
      "cost:6\n",
      "cost:7\n",
      "cost:8\n",
      "time:0.010292768478393555\n",
      "PATH::\n",
      "8 <==  9 <==  11 <==  10 <==  7 <==  5 <==  4 <==  3 <==  1 \n",
      "cost:8,\n",
      "states:85,\n"
     ]
    }
   ],
   "source": [
    "test(g1 , a_star)"
   ]
  },
  {
   "cell_type": "markdown",
   "metadata": {},
   "source": [
    "### Test3:"
   ]
  },
  {
   "cell_type": "code",
   "execution_count": null,
   "metadata": {},
   "outputs": [
    {
     "name": "stdout",
     "output_type": "stream",
     "text": [
      "cost:1\n",
      "cost:2\n",
      "cost:3\n",
      "cost:4\n",
      "cost:5\n",
      "cost:6\n",
      "cost:7\n",
      "cost:8\n",
      "cost:9\n",
      "cost:10\n",
      "cost:11\n",
      "cost:12\n",
      "cost:13\n",
      "cost:14\n",
      "cost:15\n",
      "cost:16\n",
      "cost:17\n",
      "cost:18\n",
      "cost:19\n",
      "cost:20\n",
      "cost:21\n",
      "time:123.51942801475525\n",
      "PATH::\n",
      "16 <==  12 <==  50 <==  25 <==  34 <==  9 <==  49 <==  47 <==  49 <==  43 <==  19 <==  1 <==  18 <==  41 <==  48 <==  30 <==  45 <==  31 <==  24 <==  38 <==  42 <==  40 \n",
      "cost:21,\n",
      "states:37900,\n"
     ]
    }
   ],
   "source": [
    "test(g3 , a_star)"
   ]
  },
  {
   "cell_type": "markdown",
   "metadata": {},
   "source": [
    "### Test4:"
   ]
  },
  {
   "cell_type": "code",
   "execution_count": null,
   "metadata": {},
   "outputs": [
    {
     "name": "stdout",
     "output_type": "stream",
     "text": [
      "cost:1\n",
      "cost:2\n",
      "cost:3\n",
      "cost:4\n",
      "cost:5\n",
      "cost:6\n",
      "cost:7\n",
      "cost:8\n",
      "time:0.012925386428833008\n",
      "PATH::\n",
      "5 <==  6 <==  5 <==  4 <==  2 <==  2 <==  3 <==  2 <==  1 \n",
      "cost:8,\n",
      "states:55,\n"
     ]
    }
   ],
   "source": [
    "test(g4 , a_star)"
   ]
  },
  {
   "cell_type": "markdown",
   "metadata": {},
   "source": [
    "## Test Weighted A-Star1:\n",
    "    let alpha = 5"
   ]
  },
  {
   "cell_type": "code",
   "execution_count": 32,
   "metadata": {},
   "outputs": [],
   "source": [
    "alpha = 5"
   ]
  },
  {
   "cell_type": "markdown",
   "metadata": {},
   "source": [
    "### Test1"
   ]
  },
  {
   "cell_type": "code",
   "execution_count": 33,
   "metadata": {},
   "outputs": [
    {
     "name": "stdout",
     "output_type": "stream",
     "text": [
      "cost:1\n",
      "cost:2\n",
      "cost:3\n",
      "cost:4\n",
      "cost:5\n",
      "cost:6\n",
      "cost:7\n",
      "cost:8\n",
      "time:0.008862733840942383\n",
      "PATH::\n",
      "8 <==  9 <==  11 <==  10 <==  7 <==  5 <==  4 <==  3 <==  1 \n",
      "cost:8,\n",
      "states:85,\n"
     ]
    }
   ],
   "source": [
    "test(g1 , a_star)"
   ]
  },
  {
   "cell_type": "markdown",
   "metadata": {},
   "source": [
    "### Test2"
   ]
  },
  {
   "cell_type": "code",
   "execution_count": 34,
   "metadata": {},
   "outputs": [
    {
     "name": "stdout",
     "output_type": "stream",
     "text": [
      "cost:1\n",
      "cost:2\n",
      "cost:3\n",
      "cost:4\n",
      "cost:5\n",
      "cost:6\n",
      "cost:7\n",
      "cost:8\n",
      "cost:9\n",
      "cost:10\n",
      "cost:11\n",
      "cost:12\n",
      "cost:13\n",
      "cost:14\n",
      "time:1.0872013568878174\n",
      "PATH::\n",
      "28 <==  19 <==  13 <==  3 <==  11 <==  7 <==  18 <==  24 <==  9 <==  22 <==  29 <==  7 <==  5 <==  23 <==  28 \n",
      "cost:14,\n",
      "states:3296,\n"
     ]
    }
   ],
   "source": [
    "test(g2 , a_star)"
   ]
  },
  {
   "cell_type": "markdown",
   "metadata": {},
   "source": [
    "### Test3"
   ]
  },
  {
   "cell_type": "code",
   "execution_count": 35,
   "metadata": {},
   "outputs": [
    {
     "name": "stdout",
     "output_type": "stream",
     "text": [
      "cost:1\n",
      "cost:2\n",
      "cost:3\n",
      "cost:4\n",
      "cost:5\n",
      "cost:6\n",
      "cost:7\n",
      "cost:8\n",
      "cost:9\n",
      "cost:10\n",
      "cost:11\n",
      "cost:12\n",
      "cost:13\n",
      "cost:14\n",
      "cost:15\n",
      "cost:16\n",
      "cost:17\n",
      "cost:18\n",
      "cost:19\n",
      "cost:20\n",
      "cost:21\n",
      "cost:22\n",
      "cost:23\n",
      "cost:24\n",
      "time:4.888986587524414\n",
      "PATH::\n",
      "19 <==  1 <==  18 <==  41 <==  48 <==  30 <==  45 <==  12 <==  12 <==  16 <==  12 <==  50 <==  25 <==  34 <==  9 <==  49 <==  47 <==  27 <==  42 <==  38 <==  24 <==  31 <==  39 <==  18 <==  40 \n",
      "cost:24,\n",
      "states:6428,\n"
     ]
    }
   ],
   "source": [
    "test(g3 , a_star)"
   ]
  },
  {
   "cell_type": "markdown",
   "metadata": {},
   "source": [
    "### Test4"
   ]
  },
  {
   "cell_type": "code",
   "execution_count": 36,
   "metadata": {},
   "outputs": [
    {
     "name": "stdout",
     "output_type": "stream",
     "text": [
      "cost:1\n",
      "cost:2\n",
      "cost:3\n",
      "cost:4\n",
      "cost:5\n",
      "cost:6\n",
      "cost:7\n",
      "cost:8\n",
      "time:0.004624128341674805\n",
      "PATH::\n",
      "5 <==  6 <==  5 <==  4 <==  2 <==  2 <==  3 <==  2 <==  1 \n",
      "cost:8,\n",
      "states:49,\n"
     ]
    }
   ],
   "source": [
    "test(g4 , a_star)"
   ]
  },
  {
   "cell_type": "markdown",
   "metadata": {},
   "source": [
    "## Test Weighted A-Star2:\n",
    "    let alpha = 10"
   ]
  },
  {
   "cell_type": "code",
   "execution_count": 37,
   "metadata": {},
   "outputs": [],
   "source": [
    "alpha = 10"
   ]
  },
  {
   "cell_type": "markdown",
   "metadata": {},
   "source": [
    "### Test1"
   ]
  },
  {
   "cell_type": "code",
   "execution_count": 38,
   "metadata": {},
   "outputs": [
    {
     "name": "stdout",
     "output_type": "stream",
     "text": [
      "cost:1\n",
      "cost:2\n",
      "cost:3\n",
      "cost:4\n",
      "cost:5\n",
      "cost:6\n",
      "cost:7\n",
      "cost:8\n",
      "time:0.00983428955078125\n",
      "PATH::\n",
      "8 <==  9 <==  11 <==  10 <==  7 <==  5 <==  4 <==  3 <==  1 \n",
      "cost:8,\n",
      "states:85,\n"
     ]
    }
   ],
   "source": [
    "test(g1 , a_star)"
   ]
  },
  {
   "cell_type": "markdown",
   "metadata": {},
   "source": [
    "### Test2"
   ]
  },
  {
   "cell_type": "code",
   "execution_count": 39,
   "metadata": {},
   "outputs": [
    {
     "name": "stdout",
     "output_type": "stream",
     "text": [
      "cost:1\n",
      "cost:2\n",
      "cost:3\n",
      "cost:4\n",
      "cost:5\n",
      "cost:6\n",
      "cost:7\n",
      "cost:8\n",
      "cost:9\n",
      "cost:10\n",
      "cost:11\n",
      "cost:12\n",
      "cost:13\n",
      "cost:14\n",
      "time:0.5959761142730713\n",
      "PATH::\n",
      "28 <==  19 <==  13 <==  3 <==  11 <==  7 <==  18 <==  24 <==  9 <==  22 <==  29 <==  7 <==  5 <==  23 <==  28 \n",
      "cost:14,\n",
      "states:1960,\n"
     ]
    }
   ],
   "source": [
    "test(g2 , a_star)"
   ]
  },
  {
   "cell_type": "markdown",
   "metadata": {},
   "source": [
    "### Test3"
   ]
  },
  {
   "cell_type": "code",
   "execution_count": 40,
   "metadata": {},
   "outputs": [
    {
     "name": "stdout",
     "output_type": "stream",
     "text": [
      "cost:1\n",
      "cost:2\n",
      "cost:3\n",
      "cost:4\n",
      "cost:5\n",
      "cost:6\n",
      "cost:7\n",
      "cost:8\n",
      "cost:9\n",
      "cost:10\n",
      "cost:11\n",
      "cost:12\n",
      "cost:13\n",
      "cost:14\n",
      "cost:15\n",
      "cost:16\n",
      "cost:17\n",
      "cost:18\n",
      "cost:19\n",
      "cost:20\n",
      "cost:21\n",
      "cost:22\n",
      "cost:23\n",
      "cost:24\n",
      "cost:25\n",
      "cost:26\n",
      "cost:27\n",
      "cost:28\n",
      "cost:29\n",
      "cost:30\n",
      "cost:31\n",
      "cost:32\n",
      "time:0.4231135845184326\n",
      "PATH::\n",
      "16 <==  12 <==  12 <==  15 <==  31 <==  24 <==  38 <==  36 <==  4 <==  2 <==  43 <==  19 <==  1 <==  18 <==  41 <==  48 <==  41 <==  10 <==  50 <==  25 <==  34 <==  9 <==  49 <==  47 <==  49 <==  9 <==  49 <==  12 <==  15 <==  31 <==  39 <==  18 <==  40 \n",
      "cost:32,\n",
      "states:1320,\n"
     ]
    }
   ],
   "source": [
    "test(g3 , a_star)"
   ]
  },
  {
   "cell_type": "markdown",
   "metadata": {},
   "source": [
    "### Test4"
   ]
  },
  {
   "cell_type": "code",
   "execution_count": 41,
   "metadata": {},
   "outputs": [
    {
     "name": "stdout",
     "output_type": "stream",
     "text": [
      "cost:1\n",
      "cost:2\n",
      "cost:3\n",
      "cost:4\n",
      "cost:5\n",
      "cost:6\n",
      "cost:7\n",
      "cost:8\n",
      "time:0.0038061141967773438\n",
      "PATH::\n",
      "5 <==  6 <==  5 <==  4 <==  2 <==  2 <==  3 <==  2 <==  1 \n",
      "cost:8,\n",
      "states:49,\n"
     ]
    }
   ],
   "source": [
    "test(g4 , a_star)"
   ]
  },
  {
   "cell_type": "markdown",
   "metadata": {},
   "source": [
    "# Conclusion:"
   ]
  },
  {
   "cell_type": "markdown",
   "metadata": {},
   "source": [
    "    Number OF States Watched:\n",
    "\n",
    "|     | Test1 | Test2 | Test3 | Test4 |\n",
    "| --- |  ---  |  ---  |  ---  |  ---  |\n",
    "| BFS |   287   |   473822  |   224527  |  92 |\n",
    "| IDS |    4632  |  --   |   --  | 580  |\n",
    "| A-Star |   85   |  26764   |  37900   |  55 |\n",
    "| alpha:5 |   85   |   3296  |   6428  |  49 |\n",
    "| alpha:10 |   85   |   1960  |  1320   |  49 |"
   ]
  },
  {
   "cell_type": "markdown",
   "metadata": {},
   "source": [
    "# EXTRA:"
   ]
  },
  {
   "cell_type": "markdown",
   "metadata": {},
   "source": [
    "## PATH checker"
   ]
  },
  {
   "cell_type": "code",
   "execution_count": null,
   "metadata": {},
   "outputs": [
    {
     "name": "stdout",
     "output_type": "stream",
     "text": [
      "all recipes:\n",
      "[2, 10, 12, 4, 23, 8]\n",
      "all morids:\n",
      "{27: [2, 10, 12], 28: [4], 6: [23, 8]}\n",
      "\n",
      " cost:0,                  \n",
      " position28                  \n",
      " morids:[]                  \n",
      " recipes:[]                   \n",
      "\n",
      "\n",
      "\n",
      " cost:1,                  \n",
      " position19                  \n",
      " morids:[]                  \n",
      " recipes:[]                   \n",
      "\n",
      "\n",
      "\n",
      " cost:2,                  \n",
      " position13                  \n",
      " morids:[]                  \n",
      " recipes:[12]                   \n",
      "\n",
      "\n",
      "\n",
      " cost:3,                  \n",
      " position3                  \n",
      " morids:[]                  \n",
      " recipes:[12, 2]                   \n",
      "\n",
      "\n",
      "\n",
      " cost:4,                  \n",
      " position11                  \n",
      " morids:[]                  \n",
      " recipes:[12, 2, 10]                   \n",
      "\n",
      "\n",
      "\n",
      " cost:5,                  \n",
      " position24                  \n",
      " morids:[]                  \n",
      " recipes:[12, 2, 10, 23]                   \n",
      "\n",
      "\n",
      "\n",
      " cost:6,                  \n",
      " position9                  \n",
      " morids:[]                  \n",
      " recipes:[12, 2, 10, 23, 8]                   \n",
      "\n",
      "\n",
      "\n",
      " cost:7,                  \n",
      " position23                  \n",
      " morids:[]                  \n",
      " recipes:[12, 2, 10, 23, 8]                   \n",
      "\n",
      "\n",
      "\n",
      " cost:8,                  \n",
      " position28                  \n",
      " morids:[27]                  \n",
      " recipes:[12, 2, 10, 23, 8]                   \n",
      "\n",
      "\n",
      "\n",
      " cost:9,                  \n",
      " position23                  \n",
      " morids:[27]                  \n",
      " recipes:[12, 2, 10, 23, 8]                   \n",
      "\n",
      "\n",
      "\n",
      " cost:10,                  \n",
      " position5                  \n",
      " morids:[27]                  \n",
      " recipes:[12, 2, 10, 23, 8, 4]                   \n",
      "\n",
      "\n",
      "\n",
      " cost:11,                  \n",
      " position7                  \n",
      " morids:[27, 6]                  \n",
      " recipes:[12, 2, 10, 23, 8, 4]                   \n",
      "\n",
      "\n",
      "\n",
      " cost:12,                  \n",
      " position29                  \n",
      " morids:[27, 6, 28]                  \n",
      " recipes:[12, 2, 10, 23, 8, 4]                   \n",
      "\n",
      "\n",
      "True\n"
     ]
    }
   ],
   "source": [
    "path_test2 = [19, 13, 3, 11, 24, 9, 23, 28, 23, 5, 7, 29]\n",
    "path_test3 = [42, 38, 24, 31, 45, 30, 48, 41, 18, 1, 19, 43, 49, 47, 49, 9, 34, 25, 50, 12, 16]\n",
    "\n",
    "def check_path(g :Graph, path) -> bool:\n",
    "    print(\"all recipes:\")\n",
    "    print(g.recipes)\n",
    "    print(\"all morids:\")\n",
    "    print(g.morids)\n",
    "    state = create_initial_state(g)\n",
    "    print(state)\n",
    "\n",
    "    for i in path:\n",
    "        state = transition(state, g, i-1)\n",
    "        print(state)\n",
    "    return reached_goal(state, g)\n",
    "\n",
    "x = check_path(g2, path_test2)\n",
    "print(x)"
   ]
  },
  {
   "cell_type": "markdown",
   "metadata": {},
   "source": [
    "## Examples:"
   ]
  },
  {
   "cell_type": "code",
   "execution_count": null,
   "metadata": {},
   "outputs": [
    {
     "name": "stdout",
     "output_type": "stream",
     "text": [
      "[[], [], [], [], []]\n"
     ]
    }
   ],
   "source": [
    "x = [ [] for _ in range(5)]\n",
    "print(x)"
   ]
  },
  {
   "cell_type": "code",
   "execution_count": null,
   "metadata": {},
   "outputs": [
    {
     "name": "stdout",
     "output_type": "stream",
     "text": [
      "[1, 2, 3, 4, 5, 6]\n"
     ]
    }
   ],
   "source": [
    "a = [1, 2, 3]\n",
    "b = [4 ,5, 6]\n",
    "a.extend(b)\n",
    "print(a)"
   ]
  },
  {
   "cell_type": "code",
   "execution_count": null,
   "metadata": {},
   "outputs": [],
   "source": [
    "# #how map works in python\n",
    "\n",
    "# x = [1,2,3,4,5]\n",
    "\n",
    "# def funcc(y):\n",
    "#     return y - 1\n",
    "\n",
    "# i = list(map(funcc, x))\n",
    "# print(i)\n",
    "# print(x)"
   ]
  },
  {
   "cell_type": "code",
   "execution_count": null,
   "metadata": {},
   "outputs": [],
   "source": [
    "# # using global var inside function\n",
    "\n",
    "# x = 12\n",
    "# def func():\n",
    "#     global x\n",
    "#     x +=3\n",
    "\n",
    "# func()\n",
    "# print(x)"
   ]
  },
  {
   "cell_type": "code",
   "execution_count": null,
   "metadata": {},
   "outputs": [],
   "source": [
    "# print(\"salam\", end = \" \")\n",
    "# print(\"salam\")\n",
    "# print(\"salam\")"
   ]
  },
  {
   "cell_type": "code",
   "execution_count": null,
   "metadata": {},
   "outputs": [],
   "source": [
    "# ll = [1,2,3,4,5]\n",
    "# print([x - 1 for x in ll ])"
   ]
  },
  {
   "cell_type": "code",
   "execution_count": null,
   "metadata": {},
   "outputs": [],
   "source": [
    "# #queue in python:\n",
    "\n",
    "# q = Queue()\n",
    "# q.put(1)\n",
    "# q.put(2)\n",
    "# q.put(3)\n",
    "# # print(1 in q)\n",
    "# print(q.get())\n",
    "# print(q.get())\n",
    "# print(q.get())"
   ]
  },
  {
   "cell_type": "code",
   "execution_count": null,
   "metadata": {},
   "outputs": [],
   "source": [
    "#how to see if elem in list x:\n",
    "\n",
    "# x = [1,2,3]\n",
    "# print(12 in x)"
   ]
  },
  {
   "cell_type": "code",
   "execution_count": null,
   "metadata": {},
   "outputs": [],
   "source": [
    "#so None works!\n",
    "# aa = None\n",
    "\n",
    "# if aa == 12:\n",
    "#     print(\"ok\")\n",
    "# else:\n",
    "#     print(\"ok2\")"
   ]
  },
  {
   "cell_type": "code",
   "execution_count": null,
   "metadata": {},
   "outputs": [
    {
     "name": "stdout",
     "output_type": "stream",
     "text": [
      "[1, 2, 3]\n",
      "[3, 2, 1]\n"
     ]
    }
   ],
   "source": [
    "aa = [1,2,3]\n",
    "bb = [3,2,1]\n",
    "\n",
    "Counter(aa) == Counter(bb)\n",
    "\n",
    "print(aa)\n",
    "print (bb)\n",
    "\n",
    "# a = 67 \n",
    "\n",
    "# def func():\n",
    "#     print(a)\n",
    "\n",
    "# # x = [12,13,True,\"salam\"]\n",
    "# # if x == \"salam\":\n",
    "# #     print(\"yes\")\n",
    "# # print(\"no\")\n",
    "\n",
    "# # print(range(10))\n",
    "# func()\n",
    "\n",
    "# d = {\n",
    "#     1 : [1,2,3],\n",
    "#     2 : [1,2,3],\n",
    "#     9 : [1,2,3],\n",
    "#     \"salam\" : 78,\n",
    "#     4 : [1,2,3],\n",
    "# }\n",
    "# d[\"salam\"] += 100\n",
    "# print(d)\n",
    "\n",
    "# s = \"salam balajan\"\n",
    "# print(s[2:])\n",
    "# sss = \"33\"\n",
    "# b = int(sss.split(\" \"))\n",
    "# # print(a)\n",
    "# print(b)\n",
    "# type(b)"
   ]
  },
  {
   "cell_type": "code",
   "execution_count": null,
   "metadata": {},
   "outputs": [],
   "source": [
    "# d = {\n",
    "#     1 : [1,2,3],\n",
    "#     2 : [1,2,3],\n",
    "#     9 : [1,2,3],\n",
    "#     4 : [1,2,3],\n",
    "# }\n",
    "\n",
    "# l = list(d.keys())\n",
    "# print(l)\n",
    "# print(type(l))\n",
    "# x = [1,4,\"salam\", 7]\n",
    "# print(dict.fromkeys(x, 0))\n",
    "# len(d)\n",
    "\n",
    "# for recipe in d.values():\n",
    "#     print(recipe)\n",
    "#     print(type(recipe))\n",
    "\n"
   ]
  },
  {
   "cell_type": "code",
   "execution_count": null,
   "metadata": {},
   "outputs": [],
   "source": [
    "# How deep copy works in python:\n",
    "# g = Graph(12)\n",
    "# h = copy.deepcopy(g)\n",
    "# print(g.v)\n",
    "# h.v = 33\n",
    "# print(g.v)"
   ]
  }
 ],
 "metadata": {
  "kernelspec": {
   "display_name": "Python 3.10.6 64-bit",
   "language": "python",
   "name": "python3"
  },
  "language_info": {
   "codemirror_mode": {
    "name": "ipython",
    "version": 3
   },
   "file_extension": ".py",
   "mimetype": "text/x-python",
   "name": "python",
   "nbconvert_exporter": "python",
   "pygments_lexer": "ipython3",
   "version": "3.10.6"
  },
  "orig_nbformat": 4,
  "vscode": {
   "interpreter": {
    "hash": "916dbcbb3f70747c44a77c7bcd40155683ae19c65e1c03b4aa3499c5328201f1"
   }
  }
 },
 "nbformat": 4,
 "nbformat_minor": 2
}
