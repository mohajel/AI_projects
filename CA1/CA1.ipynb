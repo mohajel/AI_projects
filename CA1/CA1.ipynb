{
 "cells": [
  {
   "cell_type": "markdown",
   "metadata": {},
   "source": [
    "# In the Name of God\n",
    "Name : Mohammad Mohajel Sadegi\n",
    "\n",
    "SID  : 810199483\n"
   ]
  },
  {
   "cell_type": "markdown",
   "metadata": {},
   "source": [
    "## Abstract:\n",
    "Implementation of BFS, IDS and A* search "
   ]
  },
  {
   "cell_type": "markdown",
   "metadata": {},
   "source": [
    "## Importing libraries:"
   ]
  },
  {
   "cell_type": "code",
   "execution_count": 6,
   "metadata": {},
   "outputs": [],
   "source": [
    "import copy\n",
    "from collections import Counter"
   ]
  },
  {
   "cell_type": "markdown",
   "metadata": {},
   "source": [
    "## Class graph:"
   ]
  },
  {
   "cell_type": "code",
   "execution_count": 2,
   "metadata": {},
   "outputs": [],
   "source": [
    "class Graph:\n",
    "    def __init__(self, v :int) -> None:\n",
    "        self.v = v\n",
    "        self.edges = [[] for _ in range(v)]\n",
    "        self.morids = None #make it dictionary\n",
    "        self.recipes = []\n",
    "        self.start_position = 0\n",
    "        self.rocky_nodes = []\n",
    "\n",
    "\n",
    "    def add_edge(self, u :int, v :int) -> None:\n",
    "        self.edges[u].append(v)\n",
    "        self.edges[v].append(u)\n",
    "\n",
    "    def is_rocky(self, node :int) -> bool:\n",
    "        return (node in self.rocky_nodes)\n",
    "\n",
    "    def is_recipes(self, node :int) -> bool:\n",
    "        return (node in self.recipes)\n",
    "\n",
    "    def is_morid(self, node :int) -> bool:\n",
    "        return (node in list(self.morids.keys()))\n"
   ]
  },
  {
   "cell_type": "markdown",
   "metadata": {},
   "source": [
    "## Class state"
   ]
  },
  {
   "cell_type": "code",
   "execution_count": 3,
   "metadata": {},
   "outputs": [],
   "source": [
    "class State:\n",
    "    def __init__(self, rocky_nodes) -> None:\n",
    "        self.position = 0\n",
    "        self.recipes_seen = []\n",
    "        self.morids_seen = []\n",
    "        self.prev_state = None\n",
    "        self.rocky_nodes = dict.fromkeys(rocky_nodes, 0)\n",
    "        self.rocky_remain = 0\n",
    "        self.cost = 0"
   ]
  },
  {
   "cell_type": "markdown",
   "metadata": {},
   "source": [
    "## Read input and create graph class"
   ]
  },
  {
   "cell_type": "code",
   "execution_count": 4,
   "metadata": {},
   "outputs": [],
   "source": [
    "def create_graph(path :str) -> Graph:\n",
    "    file = open(path, \"r\")\n",
    "    n, m = map(int, file.readline().split(\" \"))\n",
    "    g = Graph(n)\n",
    "\n",
    "    for _ in range(m):\n",
    "        u, v = map(int, file.readline().split(\" \"))\n",
    "        g.add_edge(u - 1, v - 1)\n",
    "\n",
    "    h = int(file.readline())\n",
    "    rocky_nodes = list(map(int, file.readline().split(\" \")))\n",
    "    g.rocky_nodes = rocky_nodes\n",
    "    s = int(file.readline())\n",
    "\n",
    "    morids = {}\n",
    "    for _ in range(s):\n",
    "        line = list(map(int, file.readline().split(\" \")))\n",
    "        morids.update({line[0] : line[2:]})\n",
    "    g.morids = morids\n",
    "    \n",
    "    g.start_position = int(file.readline())\n",
    "\n",
    "    recipes = []\n",
    "    for recipe in morids.values():\n",
    "        recipes.extend(recipe)\n",
    "\n",
    "    recipes = list(dict.fromkeys(recipes)) # Remove Duplicates From a Python List \n",
    "    g.recipes = recipes\n",
    "    return g\n",
    "\n",
    "g1 = create_graph(\"input.txt\")\n",
    "g2 = create_graph(\"input2.txt\")\n",
    "g3 = create_graph(\"input3.txt\")\n"
   ]
  },
  {
   "cell_type": "markdown",
   "metadata": {},
   "source": [
    "## Create initial state"
   ]
  },
  {
   "cell_type": "code",
   "execution_count": 5,
   "metadata": {},
   "outputs": [
    {
     "ename": "TypeError",
     "evalue": "State.__init__() missing 1 required positional argument: 'rocky_nodes'",
     "output_type": "error",
     "traceback": [
      "\u001b[0;31m---------------------------------------------------------------------------\u001b[0m",
      "\u001b[0;31mTypeError\u001b[0m                                 Traceback (most recent call last)",
      "Cell \u001b[0;32mIn [5], line 6\u001b[0m\n\u001b[1;32m      3\u001b[0m     s\u001b[39m.\u001b[39mposition \u001b[39m=\u001b[39m g\u001b[39m.\u001b[39mstart_position\n\u001b[1;32m      4\u001b[0m     \u001b[39mreturn\u001b[39;00m s\n\u001b[0;32m----> 6\u001b[0m initial_state1 \u001b[39m=\u001b[39m create_initial_state(g1)\n\u001b[1;32m      7\u001b[0m initial_state2 \u001b[39m=\u001b[39m create_initial_state(g2)\n\u001b[1;32m      8\u001b[0m initial_state3 \u001b[39m=\u001b[39m create_initial_state(g3)\n",
      "Cell \u001b[0;32mIn [5], line 2\u001b[0m, in \u001b[0;36mcreate_initial_state\u001b[0;34m(g)\u001b[0m\n\u001b[1;32m      1\u001b[0m \u001b[39mdef\u001b[39;00m \u001b[39mcreate_initial_state\u001b[39m(g :Graph) \u001b[39m-\u001b[39m\u001b[39m>\u001b[39m State:\n\u001b[0;32m----> 2\u001b[0m     s \u001b[39m=\u001b[39m State()\n\u001b[1;32m      3\u001b[0m     s\u001b[39m.\u001b[39mposition \u001b[39m=\u001b[39m g\u001b[39m.\u001b[39mstart_position\n\u001b[1;32m      4\u001b[0m     \u001b[39mreturn\u001b[39;00m s\n",
      "\u001b[0;31mTypeError\u001b[0m: State.__init__() missing 1 required positional argument: 'rocky_nodes'"
     ]
    }
   ],
   "source": [
    "def create_initial_state(g :Graph) -> State:\n",
    "    s = State()\n",
    "    s.position = g.start_position\n",
    "    return s\n",
    "\n",
    "initial_state1 = create_initial_state(g1)\n",
    "initial_state2 = create_initial_state(g2)\n",
    "initial_state3 = create_initial_state(g3)\n",
    "    "
   ]
  },
  {
   "cell_type": "markdown",
   "metadata": {},
   "source": [
    "## Transition module and goal state implementation "
   ]
  },
  {
   "cell_type": "code",
   "execution_count": null,
   "metadata": {},
   "outputs": [
    {
     "ename": "SyntaxError",
     "evalue": "invalid syntax (1500345839.py, line 16)",
     "output_type": "error",
     "traceback": [
      "\u001b[0;36m  Cell \u001b[0;32mIn [35], line 16\u001b[0;36m\u001b[0m\n\u001b[0;31m    if(g.is)\u001b[0m\n\u001b[0m         ^\u001b[0m\n\u001b[0;31mSyntaxError\u001b[0m\u001b[0;31m:\u001b[0m invalid syntax\n"
     ]
    }
   ],
   "source": [
    "def reached_goal(s :State, g :Graph) -> bool:\n",
    "    return len(g.morids) == len(s.morids_seen)\n",
    "\n",
    "def transition(s :State, g :Graph, p :int) -> State:\n",
    "    next_state = copy.deepcopy(s)\n",
    "    next_state.prev_state = s\n",
    "    next_state.cost += 1\n",
    "    if s.rocky_remain != 0:\n",
    "        next_state.rocky_remain -= 1\n",
    "    else:\n",
    "        next_state.position = p\n",
    "        if g.is_rocky(p):\n",
    "            next_state.rocky_remain = next_state.rocky_nodes[p]\n",
    "            next_state.rocky_nodes[p] += 1\n",
    "\n",
    "        elif(g.is_recipes() and p not in s.recipes_seen):\n",
    "            next_state.recipes_seen.append(p)\n",
    "\n",
    "        elif(g.is_morid() and p not in s.morids_seen and Counter(g.morids[p]) == Counter(s.recipes_seen)):\n",
    "            next_state.morids_seen.append(p)\n",
    "            \n",
    "    return next_state\n",
    "    "
   ]
  },
  {
   "cell_type": "code",
   "execution_count": null,
   "metadata": {},
   "outputs": [
    {
     "name": "stdout",
     "output_type": "stream",
     "text": [
      "False\n"
     ]
    }
   ],
   "source": [
    "# x = [1,2,3]\n",
    "\n",
    "# print(12 in x)"
   ]
  },
  {
   "cell_type": "code",
   "execution_count": null,
   "metadata": {},
   "outputs": [
    {
     "name": "stdout",
     "output_type": "stream",
     "text": [
      "ok2\n"
     ]
    }
   ],
   "source": [
    "#so None works!\n",
    "# aa = None\n",
    "\n",
    "# if aa == 12:\n",
    "#     print(\"ok\")\n",
    "# else:\n",
    "#     print(\"ok2\")"
   ]
  },
  {
   "cell_type": "code",
   "execution_count": 9,
   "metadata": {},
   "outputs": [
    {
     "name": "stdout",
     "output_type": "stream",
     "text": [
      "[1, 2, 3]\n",
      "[3, 2, 1]\n"
     ]
    }
   ],
   "source": [
    "aa = [1,2,3]\n",
    "bb = [3,2,1]\n",
    "\n",
    "Counter(aa) == Counter(bb)\n",
    "\n",
    "print(aa)\n",
    "print (bb)\n",
    "\n",
    "# a = 67 \n",
    "\n",
    "# def func():\n",
    "#     print(a)\n",
    "\n",
    "# # x = [12,13,True,\"salam\"]\n",
    "# # if x == \"salam\":\n",
    "# #     print(\"yes\")\n",
    "# # print(\"no\")\n",
    "\n",
    "# # print(range(10))\n",
    "# func()\n",
    "\n",
    "# d = {\n",
    "#     1 : [1,2,3],\n",
    "#     2 : [1,2,3],\n",
    "#     9 : [1,2,3],\n",
    "#     \"salam\" : 78,\n",
    "#     4 : [1,2,3],\n",
    "# }\n",
    "# d[\"salam\"] += 100\n",
    "# print(d)\n",
    "\n",
    "# s = \"salam balajan\"\n",
    "# print(s[2:])\n",
    "# sss = \"33\"\n",
    "# b = int(sss.split(\" \"))\n",
    "# # print(a)\n",
    "# print(b)\n",
    "# type(b)"
   ]
  },
  {
   "cell_type": "code",
   "execution_count": null,
   "metadata": {},
   "outputs": [
    {
     "name": "stdout",
     "output_type": "stream",
     "text": [
      "[1, 2, 9, 4]\n",
      "<class 'list'>\n"
     ]
    }
   ],
   "source": [
    "# d = {\n",
    "#     1 : [1,2,3],\n",
    "#     2 : [1,2,3],\n",
    "#     9 : [1,2,3],\n",
    "#     4 : [1,2,3],\n",
    "# }\n",
    "\n",
    "# l = list(d.keys())\n",
    "# print(l)\n",
    "print(type(l))\n",
    "# x = [1,4,\"salam\", 7]\n",
    "# print(dict.fromkeys(x, 0))\n",
    "# len(d)\n",
    "\n",
    "# for recipe in d.values():\n",
    "#     print(recipe)\n",
    "#     print(type(recipe))\n",
    "\n"
   ]
  },
  {
   "cell_type": "code",
   "execution_count": null,
   "metadata": {},
   "outputs": [],
   "source": [
    "# How deep copy works in python:\n",
    "# g = Graph(12)\n",
    "# h = copy.deepcopy(g)\n",
    "# print(g.v)\n",
    "# h.v = 33\n",
    "# print(g.v)"
   ]
  }
 ],
 "metadata": {
  "kernelspec": {
   "display_name": "Python 3.10.6 64-bit",
   "language": "python",
   "name": "python3"
  },
  "language_info": {
   "codemirror_mode": {
    "name": "ipython",
    "version": 3
   },
   "file_extension": ".py",
   "mimetype": "text/x-python",
   "name": "python",
   "nbconvert_exporter": "python",
   "pygments_lexer": "ipython3",
   "version": "3.10.6"
  },
  "orig_nbformat": 4,
  "vscode": {
   "interpreter": {
    "hash": "916dbcbb3f70747c44a77c7bcd40155683ae19c65e1c03b4aa3499c5328201f1"
   }
  }
 },
 "nbformat": 4,
 "nbformat_minor": 2
}
