{
 "cells": [
  {
   "cell_type": "markdown",
   "metadata": {},
   "source": [
    "# In the Name of God\n",
    "Name : Mohammad Mohajel Sadegi\n",
    "\n",
    "SID  : 810199483"
   ]
  },
  {
   "cell_type": "markdown",
   "metadata": {},
   "source": [
    "## Importing libraries:"
   ]
  },
  {
   "cell_type": "code",
   "execution_count": 1,
   "metadata": {},
   "outputs": [],
   "source": [
    "import random as rand"
   ]
  },
  {
   "cell_type": "markdown",
   "metadata": {},
   "source": [
    "## DEFINES:"
   ]
  },
  {
   "cell_type": "code",
   "execution_count": 16,
   "metadata": {},
   "outputs": [],
   "source": [
    "CROSSOVER_PROBIBILITY = 0.3\n",
    "CARRY_PERCENTAGE = 0.2\n",
    "POPULATION_SIZE = 100\n",
    "FOUND = 0"
   ]
  },
  {
   "cell_type": "markdown",
   "metadata": {},
   "source": [
    "## Classes:"
   ]
  },
  {
   "cell_type": "markdown",
   "metadata": {},
   "source": [
    "### Info:"
   ]
  },
  {
   "cell_type": "code",
   "execution_count": 9,
   "metadata": {},
   "outputs": [],
   "source": [
    "class Info:\n",
    "    \n",
    "    def __init__(self, operators, operands, length, goal):\n",
    "        self.operators = operators\n",
    "        self.operands = operands\n",
    "        self.length = length\n",
    "        self.goal = goal\n",
    "\n",
    "    def calc_fitness(self, chromosome):\n",
    "        result = eval(\"\".join([ str(x)for x in chromosome]))\n",
    "        return -abs(self.goal - result)\n",
    "        "
   ]
  },
  {
   "cell_type": "code",
   "execution_count": 15,
   "metadata": {},
   "outputs": [],
   "source": [
    "def sort():\n",
    "    pass"
   ]
  },
  {
   "cell_type": "code",
   "execution_count": 11,
   "metadata": {},
   "outputs": [],
   "source": [
    "def create_initial_population(info):\n",
    "    pass"
   ]
  },
  {
   "cell_type": "code",
   "execution_count": 13,
   "metadata": {},
   "outputs": [],
   "source": [
    "def create_next_population(population, info):\n",
    "    pass"
   ]
  },
  {
   "cell_type": "markdown",
   "metadata": {},
   "source": [
    "## Test function:"
   ]
  },
  {
   "cell_type": "code",
   "execution_count": 14,
   "metadata": {},
   "outputs": [],
   "source": [
    "def test(info):\n",
    "    population = create_initial_population(info)\n",
    "    i :int = 0\n",
    "    while True:\n",
    "        i += 1\n",
    "        sort(population, info)\n",
    "        print(f\"Best Candidate In Round {i} : {population[0]}\")\n",
    "        population = create_next_population(population, info)\n",
    "        "
   ]
  },
  {
   "cell_type": "markdown",
   "metadata": {},
   "source": [
    "## Test1:"
   ]
  },
  {
   "cell_type": "code",
   "execution_count": 10,
   "metadata": {},
   "outputs": [
    {
     "ename": "TypeError",
     "evalue": "test() missing 3 required positional arguments: 'operands', 'equationLength', and 'goalNumber'",
     "output_type": "error",
     "traceback": [
      "\u001b[0;31m---------------------------------------------------------------------------\u001b[0m",
      "\u001b[0;31mTypeError\u001b[0m                                 Traceback (most recent call last)",
      "Cell \u001b[0;32mIn [10], line 8\u001b[0m\n\u001b[1;32m      4\u001b[0m goalNumber \u001b[39m=\u001b[39m \u001b[39m18019\u001b[39m\n\u001b[1;32m      6\u001b[0m test1_info \u001b[39m=\u001b[39m Info(operators, operands, equationLength, goalNumber)\n\u001b[0;32m----> 8\u001b[0m test(test1_info)\n",
      "\u001b[0;31mTypeError\u001b[0m: test() missing 3 required positional arguments: 'operands', 'equationLength', and 'goalNumber'"
     ]
    }
   ],
   "source": [
    "operands = [1, 2, 3, 4, 5, 6, 7, 8]\n",
    "operators = ['+', '-', '*']\n",
    "equationLength = 21\n",
    "goalNumber = 18019\n",
    "\n",
    "test1_info = Info(operators, operands, equationLength, goalNumber)\n",
    "\n",
    "test(test1_info)"
   ]
  },
  {
   "cell_type": "markdown",
   "metadata": {},
   "source": [
    "## Example"
   ]
  },
  {
   "cell_type": "code",
   "execution_count": 24,
   "metadata": {},
   "outputs": [
    {
     "data": {
      "text/plain": [
       "9"
      ]
     },
     "execution_count": 24,
     "metadata": {},
     "output_type": "execute_result"
    }
   ],
   "source": [
    "x = [1 , \"+\", 2, \"*\", 4]\n",
    "y = eval(\"\".join([ str(y)for y in x]))\n",
    "y"
   ]
  },
  {
   "cell_type": "code",
   "execution_count": null,
   "metadata": {},
   "outputs": [],
   "source": []
  }
 ],
 "metadata": {
  "kernelspec": {
   "display_name": "Python 3.10.6 64-bit",
   "language": "python",
   "name": "python3"
  },
  "language_info": {
   "codemirror_mode": {
    "name": "ipython",
    "version": 3
   },
   "file_extension": ".py",
   "mimetype": "text/x-python",
   "name": "python",
   "nbconvert_exporter": "python",
   "pygments_lexer": "ipython3",
   "version": "3.10.6"
  },
  "orig_nbformat": 4,
  "vscode": {
   "interpreter": {
    "hash": "916dbcbb3f70747c44a77c7bcd40155683ae19c65e1c03b4aa3499c5328201f1"
   }
  }
 },
 "nbformat": 4,
 "nbformat_minor": 2
}
