{
 "cells": [
  {
   "cell_type": "markdown",
   "metadata": {},
   "source": [
    "# In the Name of God\n",
    "Name : Mohammad Mohajel Sadegi\n",
    "\n",
    "SID  : 810199483"
   ]
  },
  {
   "cell_type": "markdown",
   "metadata": {},
   "source": [
    "## Importing libraries:"
   ]
  },
  {
   "cell_type": "code",
   "execution_count": 1,
   "metadata": {},
   "outputs": [],
   "source": [
    "import random as rand"
   ]
  },
  {
   "cell_type": "markdown",
   "metadata": {},
   "source": [
    "## DEFINES:"
   ]
  },
  {
   "cell_type": "code",
   "execution_count": 2,
   "metadata": {},
   "outputs": [],
   "source": [
    "DEBUG_MODE = 1\n",
    "CROSSOVER_PROBIBILITY = 0.6\n",
    "MUTATION_PROBIBILITY = 0.1\n",
    "POPULATION_SIZE = 1000\n",
    "FOUND = 0\n",
    "\n",
    "\n",
    "# 10% -> first 10% of prev. population\n",
    "PERC_FIRST = 0.1\n",
    "# 50% -> random from prev. population\n",
    "PERC_PREV_TOTALL_RANDOM = 0.5\n",
    "# 30% -> random from first 30% prev. population\n",
    "PERC_PREV_UP_RANDOM = 0.3\n",
    "# 10% -> new random chromosoms\n",
    "PERC_NEW_RANDOM = 0.1"
   ]
  },
  {
   "cell_type": "markdown",
   "metadata": {},
   "source": [
    "## Classes:"
   ]
  },
  {
   "cell_type": "markdown",
   "metadata": {},
   "source": [
    "### Chromosome:"
   ]
  },
  {
   "cell_type": "code",
   "execution_count": 3,
   "metadata": {},
   "outputs": [],
   "source": [
    "class Chromosome:\n",
    "    def __init__(self, info, data) -> None:\n",
    "        self.data = data\n",
    "        self.fitness = info.calc_fitness(data)\n",
    "\n",
    "    def __lt__(self, other) -> bool:\n",
    "        return self.fitness < other.fitness\n",
    "\n",
    "    def __repr__(self) -> str:\n",
    "        return f\"{self.data}, fitness:{self.fitness}\""
   ]
  },
  {
   "cell_type": "markdown",
   "metadata": {},
   "source": [
    "### Info:"
   ]
  },
  {
   "cell_type": "code",
   "execution_count": 4,
   "metadata": {},
   "outputs": [],
   "source": [
    "class Info:\n",
    "    \n",
    "    def __init__(self, operators, operands, length, goal):\n",
    "        self.operators = operators\n",
    "        self.operands = operands\n",
    "        self.length = length\n",
    "        self.goal = goal\n",
    "\n",
    "    def calc_fitness(self, chromosome):\n",
    "        result = eval(\"\".join([ str(x)for x in chromosome]))\n",
    "        return -abs(self.goal - result)\n",
    "        "
   ]
  },
  {
   "cell_type": "markdown",
   "metadata": {},
   "source": [
    "## Functions:"
   ]
  },
  {
   "cell_type": "code",
   "execution_count": 5,
   "metadata": {},
   "outputs": [],
   "source": [
    "def get_random_chromosome(info :Info) -> Chromosome:\n",
    "    data = []\n",
    "    for i in range(info.length):\n",
    "        if i % 2 == 0:\n",
    "            data.append(rand.choice(info.operands))\n",
    "        else:\n",
    "            data.append(rand.choice(info.operators))\n",
    "    \n",
    "    return Chromosome(info, data)\n",
    "\n",
    "\n",
    "def create_initial_population(info) -> list[Chromosome]:\n",
    "    population = []\n",
    "    for _ in range(POPULATION_SIZE):\n",
    "        population.append(get_random_chromosome(info))\n",
    "    return population"
   ]
  },
  {
   "cell_type": "code",
   "execution_count": 6,
   "metadata": {},
   "outputs": [],
   "source": [
    "def get_parents(population, info):\n",
    "    parents = []\n",
    "\n",
    "    for i in range(int(PERC_FIRST * POPULATION_SIZE)):\n",
    "        parents.append(population[i])\n",
    "\n",
    "    for _ in range(int(PERC_PREV_TOTALL_RANDOM * POPULATION_SIZE)):\n",
    "        parents.append(rand.choice(population))\n",
    "\n",
    "    for i in range(int(PERC_PREV_UP_RANDOM * POPULATION_SIZE)):\n",
    "        parents.append(population[rand.randint(0,PERC_PREV_UP_RANDOM * POPULATION_SIZE)])\n",
    "    \n",
    "    while len(parents) != POPULATION_SIZE:\n",
    "        parents.append(get_random_chromosome(info))\n",
    "\n",
    "    return parents\n",
    "\n",
    "def crossover(parents, info :Info):\n",
    "    for i in range(0, len(parents) - 1, 2):\n",
    "        if rand.random() < CROSSOVER_PROBIBILITY:\n",
    "            index = int(rand.random() * info.length)\n",
    "            data1 = parents[i].data\n",
    "            data2 = parents[i + 1].data\n",
    "            parents[i] = Chromosome(info, data1[:index] + data2[index:])\n",
    "            parents[i + 1] = Chromosome(info, data2[:index] + data1[index:])\n",
    "            \n",
    "def mutate(population, info :Info):\n",
    "    for c in population:\n",
    "        if rand.random() < MUTATION_PROBIBILITY:\n",
    "            index = int(rand.random() * info.length)\n",
    "            if index % 2 == 0:\n",
    "                c.data[index] = rand.choice(info.operands)\n",
    "            else:\n",
    "                c.data[index] = rand.choice(info.operators)\n",
    "            c.fitness = info.calc_fitness(c.data)\n",
    "            \n",
    "\n",
    "def create_next_population(population, info):\n",
    "    next_population = get_parents(population, info)\n",
    "    rand.shuffle(next_population)\n",
    "\n",
    "    crossover(next_population, info)\n",
    "    mutate(next_population, info)\n",
    "\n",
    "    return next_population\n"
   ]
  },
  {
   "cell_type": "markdown",
   "metadata": {},
   "source": [
    "## Test function:"
   ]
  },
  {
   "cell_type": "code",
   "execution_count": 7,
   "metadata": {},
   "outputs": [],
   "source": [
    "def test(info :Info):\n",
    "    population = create_initial_population(info)\n",
    "    i :int = 0\n",
    "    \n",
    "    while True:\n",
    "        i += 1\n",
    "        population.sort(reverse=True)\n",
    "        best_candidate = population[0]\n",
    "        if best_candidate.fitness == FOUND:\n",
    "            break\n",
    "        print(f\"Best Candidate In Round {i} \\n: {best_candidate}\\n\\n\")\n",
    "        population = create_next_population(population, info)\n",
    "    \n",
    "    print(f\"Soloution Found In Round {i} \\n: {best_candidate}\\n\\n\")"
   ]
  },
  {
   "cell_type": "markdown",
   "metadata": {},
   "source": [
    "## Test1:"
   ]
  },
  {
   "cell_type": "code",
   "execution_count": 8,
   "metadata": {},
   "outputs": [
    {
     "name": "stdout",
     "output_type": "stream",
     "text": [
      "Best Candidate In Round 1 \n",
      ": [6, '-', 1, '+', 2, '+', 8, '-', 5, '+', 6, '*', 2, '*', 5, '*', 5, '*', 8, '*', 7], fitness:-1209\n",
      "\n",
      "\n",
      "Best Candidate In Round 2 \n",
      ": [6, '-', 1, '+', 2, '+', 8, '-', 5, '+', 6, '*', 2, '*', 5, '*', 5, '*', 8, '*', 7], fitness:-1209\n",
      "\n",
      "\n",
      "Best Candidate In Round 3 \n",
      ": [7, '*', 7, '*', 7, '+', 8, '-', 5, '+', 6, '*', 2, '*', 5, '*', 5, '*', 8, '*', 7], fitness:-873\n",
      "\n",
      "\n",
      "Best Candidate In Round 4 \n",
      ": [7, '*', 7, '*', 7, '+', 8, '-', 5, '+', 6, '*', 2, '*', 5, '*', 5, '*', 8, '*', 7], fitness:-873\n",
      "\n",
      "\n",
      "Best Candidate In Round 5 \n",
      ": [7, '*', 7, '*', 7, '+', 8, '-', 5, '+', 6, '*', 2, '*', 5, '*', 5, '*', 8, '*', 7], fitness:-873\n",
      "\n",
      "\n",
      "Best Candidate In Round 6 \n",
      ": [4, '*', 4, '*', 2, '+', 5, '*', 6, '*', 7, '*', 5, '*', 6, '*', 1, '*', 3, '+', 2], fitness:-915\n",
      "\n",
      "\n",
      "Best Candidate In Round 7 \n",
      ": [7, '-', 6, '-', 3, '+', 7, '+', 1, '+', 7, '*', 8, '*', 8, '*', 8, '*', 5, '+', 8], fitness:-85\n",
      "\n",
      "\n",
      "Best Candidate In Round 8 \n",
      ": [7, '+', 6, '*', 7, '*', 6, '*', 6, '*', 6, '+', 4, '*', 7, '*', 8, '*', 8, '*', 5], fitness:-20\n",
      "\n",
      "\n",
      "Best Candidate In Round 9 \n",
      ": [7, '-', 6, '-', 3, '+', 7, '+', 1, '+', 7, '*', 8, '*', 8, '*', 8, '*', 5, '+', 8], fitness:-85\n",
      "\n",
      "\n",
      "Best Candidate In Round 10 \n",
      ": [6, '*', 3, '*', 4, '+', 7, '+', 1, '+', 7, '*', 8, '*', 8, '*', 8, '*', 5, '+', 8], fitness:-11\n",
      "\n",
      "\n",
      "Best Candidate In Round 11 \n",
      ": [6, '*', 3, '*', 4, '+', 7, '+', 1, '+', 7, '*', 8, '*', 8, '*', 8, '*', 5, '+', 8], fitness:-11\n",
      "\n",
      "\n",
      "Best Candidate In Round 12 \n",
      ": [7, '*', 8, '*', 6, '*', 7, '*', 2, '*', 3, '+', 4, '*', 4, '*', 7, '*', 5, '*', 7], fitness:-13\n",
      "\n",
      "\n",
      "Best Candidate In Round 13 \n",
      ": [7, '*', 8, '*', 6, '*', 7, '*', 2, '*', 3, '+', 4, '*', 4, '*', 7, '*', 5, '*', 7], fitness:-13\n",
      "\n",
      "\n",
      "Best Candidate In Round 14 \n",
      ": [7, '*', 8, '*', 6, '*', 7, '*', 2, '*', 3, '+', 4, '*', 4, '*', 7, '*', 5, '*', 7], fitness:-13\n",
      "\n",
      "\n",
      "Best Candidate In Round 15 \n",
      ": [7, '*', 8, '*', 6, '*', 7, '*', 2, '*', 3, '+', 4, '*', 4, '*', 7, '*', 5, '*', 7], fitness:-13\n",
      "\n",
      "\n",
      "Soloution Found In Round 16 \n",
      ": [7, '*', 4, '*', 3, '+', 7, '+', 1, '+', 7, '*', 8, '*', 8, '*', 8, '*', 5, '+', 7], fitness:0\n",
      "\n",
      "\n"
     ]
    }
   ],
   "source": [
    "operands = [1, 2, 3, 4, 5, 6, 7, 8]\n",
    "operators = ['+', '-', '*']\n",
    "equationLength = 21\n",
    "goalNumber = 18019\n",
    "\n",
    "test1_info = Info(operators, operands, equationLength, goalNumber)\n",
    "\n",
    "\n",
    "test(test1_info)"
   ]
  },
  {
   "cell_type": "markdown",
   "metadata": {},
   "source": [
    "## Example"
   ]
  },
  {
   "cell_type": "code",
   "execution_count": 9,
   "metadata": {},
   "outputs": [
    {
     "data": {
      "text/plain": [
       "9"
      ]
     },
     "execution_count": 9,
     "metadata": {},
     "output_type": "execute_result"
    }
   ],
   "source": [
    "x = [1 , \"+\", 2, \"*\", 4]\n",
    "y = eval(\"\".join([ str(y)for y in x]))\n",
    "y"
   ]
  },
  {
   "cell_type": "code",
   "execution_count": 10,
   "metadata": {},
   "outputs": [
    {
     "name": "stdout",
     "output_type": "stream",
     "text": [
      "9\n"
     ]
    }
   ],
   "source": [
    "print(rand.randint(0,9))"
   ]
  },
  {
   "cell_type": "code",
   "execution_count": 11,
   "metadata": {},
   "outputs": [
    {
     "data": {
      "text/plain": [
       "[3, 4, 5, 6, 7, 8, 9, 100, 1, 2]"
      ]
     },
     "execution_count": 11,
     "metadata": {},
     "output_type": "execute_result"
    }
   ],
   "source": [
    "x = [1,2,3,4,5,6,7,8,9,100]\n",
    "x[2:] + x[:2]"
   ]
  },
  {
   "cell_type": "code",
   "execution_count": 12,
   "metadata": {},
   "outputs": [
    {
     "name": "stdout",
     "output_type": "stream",
     "text": [
      "12\n"
     ]
    }
   ],
   "source": [
    "print(int(12.445))"
   ]
  }
 ],
 "metadata": {
  "kernelspec": {
   "display_name": "Python 3.10.6 64-bit",
   "language": "python",
   "name": "python3"
  },
  "language_info": {
   "codemirror_mode": {
    "name": "ipython",
    "version": 3
   },
   "file_extension": ".py",
   "mimetype": "text/x-python",
   "name": "python",
   "nbconvert_exporter": "python",
   "pygments_lexer": "ipython3",
   "version": "3.10.6"
  },
  "orig_nbformat": 4,
  "vscode": {
   "interpreter": {
    "hash": "916dbcbb3f70747c44a77c7bcd40155683ae19c65e1c03b4aa3499c5328201f1"
   }
  }
 },
 "nbformat": 4,
 "nbformat_minor": 2
}
