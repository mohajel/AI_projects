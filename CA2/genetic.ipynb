{
 "cells": [
  {
   "cell_type": "markdown",
   "metadata": {},
   "source": [
    "# In the Name of God\n",
    "Name : Mohammad Mohajel Sadegi\n",
    "\n",
    "SID  : 810199483"
   ]
  },
  {
   "cell_type": "markdown",
   "metadata": {},
   "source": [
    "## Importing libraries:"
   ]
  },
  {
   "cell_type": "code",
   "execution_count": 1,
   "metadata": {},
   "outputs": [],
   "source": [
    "import random as rand"
   ]
  },
  {
   "cell_type": "markdown",
   "metadata": {},
   "source": [
    "## DEFINES:"
   ]
  },
  {
   "cell_type": "code",
   "execution_count": 2,
   "metadata": {},
   "outputs": [],
   "source": [
    "DEBUG_MODE = 1\n",
    "CROSSOVER_PROBIBILITY = 0.6\n",
    "MUTATION_PROBIBILITY = 0.1\n",
    "POPULATION_SIZE = 1000\n",
    "FOUND = 0\n",
    "\n",
    "\n",
    "# 10% -> first 10% of prev. population\n",
    "PERC_FIRST = 0.1\n",
    "# 50% -> random from prev. population\n",
    "PERC_PREV_TOTALL_RANDOM = 0.5\n",
    "# 30% -> random from first 30% prev. population\n",
    "PERC_PREV_UP_RANDOM = 0.3\n",
    "# 10% -> new random chromosoms\n",
    "PERC_NEW_RANDOM = 0.1"
   ]
  },
  {
   "cell_type": "markdown",
   "metadata": {},
   "source": [
    "## Classes:"
   ]
  },
  {
   "cell_type": "markdown",
   "metadata": {},
   "source": [
    "### Chromosome:"
   ]
  },
  {
   "cell_type": "code",
   "execution_count": 3,
   "metadata": {},
   "outputs": [],
   "source": [
    "class Chromosome:\n",
    "    def __init__(self, info, data) -> None:\n",
    "        self.data = data\n",
    "        self.fitness = info.calc_fitness(data)\n",
    "\n",
    "    def __lt__(self, other) -> bool:\n",
    "        return self.fitness < other.fitness\n",
    "\n",
    "    def __repr__(self) -> str:\n",
    "        return f\"{self.data}, fitness:{self.fitness}\""
   ]
  },
  {
   "cell_type": "markdown",
   "metadata": {},
   "source": [
    "### Info:"
   ]
  },
  {
   "cell_type": "code",
   "execution_count": 4,
   "metadata": {},
   "outputs": [],
   "source": [
    "class Info:\n",
    "    \n",
    "    def __init__(self, operators, operands, length, goal):\n",
    "        self.operators = operators\n",
    "        self.operands = operands\n",
    "        self.length = length\n",
    "        self.goal = goal\n",
    "\n",
    "    def calc_fitness(self, chromosome):\n",
    "        result = eval(\"\".join([ str(x)for x in chromosome]))\n",
    "        # print(f\"result :{result}\")\n",
    "        # print(f\"goal :{self.goal}\")\n",
    "        return -abs(self.goal - int(result))\n",
    "        "
   ]
  },
  {
   "cell_type": "markdown",
   "metadata": {},
   "source": [
    "## Functions:"
   ]
  },
  {
   "cell_type": "code",
   "execution_count": 5,
   "metadata": {},
   "outputs": [],
   "source": [
    "def get_random_chromosome(info :Info) -> Chromosome:\n",
    "    data = []\n",
    "    for i in range(info.length):\n",
    "        if i % 2 == 0:\n",
    "            data.append(rand.choice(info.operands))\n",
    "        else:\n",
    "            data.append(rand.choice(info.operators))\n",
    "    \n",
    "    return Chromosome(info, data)\n",
    "\n",
    "\n",
    "def create_initial_population(info) -> list[Chromosome]:\n",
    "    population = []\n",
    "    for _ in range(POPULATION_SIZE):\n",
    "        population.append(get_random_chromosome(info))\n",
    "    return population"
   ]
  },
  {
   "cell_type": "code",
   "execution_count": 6,
   "metadata": {},
   "outputs": [],
   "source": [
    "def get_parents(population, info):\n",
    "    parents = []\n",
    "\n",
    "    for i in range(int(PERC_FIRST * POPULATION_SIZE)):\n",
    "        parents.append(population[i])\n",
    "\n",
    "    for _ in range(int(PERC_PREV_TOTALL_RANDOM * POPULATION_SIZE)):\n",
    "        parents.append(rand.choice(population))\n",
    "\n",
    "    for i in range(int(PERC_PREV_UP_RANDOM * POPULATION_SIZE)):\n",
    "        parents.append(population[rand.randint(0,PERC_PREV_UP_RANDOM * POPULATION_SIZE)])\n",
    "    \n",
    "    while len(parents) != POPULATION_SIZE:\n",
    "        parents.append(get_random_chromosome(info))\n",
    "\n",
    "    return parents\n",
    "\n",
    "def crossover(parents, info :Info):\n",
    "    for i in range(0, len(parents) - 1, 2):\n",
    "        if rand.random() < CROSSOVER_PROBIBILITY:\n",
    "            index = int(rand.random() * info.length)\n",
    "            data1 = parents[i].data\n",
    "            data2 = parents[i + 1].data\n",
    "            parents[i] = Chromosome(info, data1[:index] + data2[index:])\n",
    "            parents[i + 1] = Chromosome(info, data2[:index] + data1[index:])\n",
    "            \n",
    "def mutate(population, info :Info):\n",
    "    for c in population:\n",
    "        if rand.random() < MUTATION_PROBIBILITY:\n",
    "            index = int(rand.random() * info.length)\n",
    "            if index % 2 == 0:\n",
    "                c.data[index] = rand.choice(info.operands)\n",
    "            else:\n",
    "                c.data[index] = rand.choice(info.operators)\n",
    "            c.fitness = info.calc_fitness(c.data)\n",
    "            \n",
    "\n",
    "def create_next_population(population, info):\n",
    "    next_population = get_parents(population, info)\n",
    "    rand.shuffle(next_population)\n",
    "\n",
    "    crossover(next_population, info)\n",
    "    mutate(next_population, info)\n",
    "\n",
    "    return next_population\n"
   ]
  },
  {
   "cell_type": "markdown",
   "metadata": {},
   "source": [
    "## Test function:"
   ]
  },
  {
   "cell_type": "code",
   "execution_count": 7,
   "metadata": {},
   "outputs": [],
   "source": [
    "def test(info :Info):\n",
    "    population = create_initial_population(info)\n",
    "    i :int = 0\n",
    "    \n",
    "    while True:\n",
    "        i += 1\n",
    "        population.sort(reverse=True)\n",
    "        best_candidate = population[0]\n",
    "        if best_candidate.fitness == FOUND:\n",
    "            break\n",
    "        print(f\"Best Candidate In Round {i} \\n: {best_candidate}\\n\\n\")\n",
    "        population = create_next_population(population, info)\n",
    "    \n",
    "    print(f\"Soloution Found In Round {i} \\n: {best_candidate}\\n\\n\")"
   ]
  },
  {
   "cell_type": "markdown",
   "metadata": {},
   "source": [
    "## Test1:"
   ]
  },
  {
   "cell_type": "code",
   "execution_count": 8,
   "metadata": {},
   "outputs": [
    {
     "name": "stdout",
     "output_type": "stream",
     "text": [
      "Best Candidate In Round 1 \n",
      ": [5, '+', 4, '*', 4, '*', 6, '*', 8, '*', 4, '*', 6, '-', 2, '-', 4, '-', 4, '*', 7], fitness:-384\n",
      "\n",
      "\n",
      "Best Candidate In Round 2 \n",
      ": [7, '+', 2, '*', 7, '*', 7, '*', 6, '*', 6, '*', 5, '-', 6, '-', 6, '*', 4, '*', 7], fitness:-546\n",
      "\n",
      "\n",
      "Best Candidate In Round 3 \n",
      ": [7, '+', 2, '*', 7, '*', 7, '*', 6, '*', 6, '*', 5, '-', 5, '+', 4, '+', 5, '*', 6], fitness:-343\n",
      "\n",
      "\n",
      "Best Candidate In Round 4 \n",
      ": [7, '+', 2, '*', 7, '*', 7, '*', 6, '*', 6, '*', 5, '-', 5, '+', 4, '+', 5, '*', 8], fitness:-333\n",
      "\n",
      "\n",
      "Best Candidate In Round 5 \n",
      ": [7, '+', 2, '*', 7, '*', 7, '*', 6, '*', 6, '*', 5, '+', 4, '*', 2, '+', 1, '+', 4], fitness:-359\n",
      "\n",
      "\n",
      "Best Candidate In Round 6 \n",
      ": [7, '+', 2, '*', 7, '*', 7, '*', 6, '*', 6, '*', 5, '+', 4, '*', 2, '+', 1, '+', 4], fitness:-359\n",
      "\n",
      "\n",
      "Best Candidate In Round 7 \n",
      ": [7, '+', 2, '*', 7, '*', 7, '*', 6, '*', 6, '*', 5, '+', 4, '*', 2, '+', 1, '+', 4], fitness:-359\n",
      "\n",
      "\n",
      "Best Candidate In Round 8 \n",
      ": [7, '+', 2, '*', 7, '*', 7, '*', 6, '*', 6, '*', 5, '+', 4, '*', 2, '+', 5, '*', 8], fitness:-324\n",
      "\n",
      "\n",
      "Best Candidate In Round 9 \n",
      ": [7, '+', 2, '*', 7, '*', 7, '*', 6, '*', 6, '*', 5, '+', 8, '*', 2, '*', 8, '*', 3], fitness:-12\n",
      "\n",
      "\n",
      "Best Candidate In Round 10 \n",
      ": [7, '+', 2, '*', 7, '*', 7, '*', 6, '*', 6, '*', 5, '+', 8, '*', 2, '*', 8, '*', 3], fitness:-12\n",
      "\n",
      "\n",
      "Best Candidate In Round 11 \n",
      ": [5, '+', 2, '*', 7, '*', 7, '*', 6, '*', 6, '*', 5, '+', 8, '*', 2, '*', 8, '*', 3], fitness:-10\n",
      "\n",
      "\n",
      "Best Candidate In Round 12 \n",
      ": [3, '+', 2, '*', 7, '*', 7, '*', 6, '*', 6, '*', 5, '+', 4, '*', 2, '*', 8, '*', 6], fitness:-8\n",
      "\n",
      "\n",
      "Best Candidate In Round 13 \n",
      ": [3, '+', 2, '*', 7, '*', 7, '*', 6, '*', 6, '*', 5, '+', 4, '*', 2, '*', 8, '*', 6], fitness:-8\n",
      "\n",
      "\n",
      "Best Candidate In Round 14 \n",
      ": [3, '+', 2, '*', 7, '*', 7, '*', 6, '*', 6, '*', 5, '+', 4, '*', 2, '*', 8, '*', 6], fitness:-8\n",
      "\n",
      "\n",
      "Best Candidate In Round 15 \n",
      ": [2, '+', 2, '*', 7, '*', 7, '*', 6, '*', 6, '*', 5, '+', 4, '*', 2, '*', 8, '*', 6], fitness:-7\n",
      "\n",
      "\n",
      "Best Candidate In Round 16 \n",
      ": [1, '+', 2, '*', 7, '*', 7, '*', 6, '*', 6, '*', 5, '+', 4, '*', 2, '*', 8, '*', 6], fitness:-6\n",
      "\n",
      "\n",
      "Best Candidate In Round 17 \n",
      ": [1, '+', 2, '*', 7, '*', 7, '*', 6, '*', 6, '*', 5, '+', 4, '*', 2, '*', 8, '*', 6], fitness:-6\n",
      "\n",
      "\n",
      "Best Candidate In Round 18 \n",
      ": [1, '+', 2, '*', 7, '*', 7, '*', 6, '*', 6, '*', 5, '+', 4, '*', 2, '*', 8, '*', 6], fitness:-6\n",
      "\n",
      "\n",
      "Best Candidate In Round 19 \n",
      ": [1, '+', 2, '*', 7, '*', 7, '*', 6, '*', 6, '*', 5, '+', 4, '*', 2, '*', 8, '*', 6], fitness:-6\n",
      "\n",
      "\n",
      "Best Candidate In Round 20 \n",
      ": [1, '+', 2, '*', 7, '*', 7, '*', 6, '*', 6, '*', 5, '+', 4, '*', 2, '*', 8, '*', 6], fitness:-6\n",
      "\n",
      "\n",
      "Best Candidate In Round 21 \n",
      ": [1, '+', 2, '*', 7, '*', 7, '*', 6, '*', 6, '*', 5, '+', 4, '*', 2, '*', 8, '*', 6], fitness:-6\n",
      "\n",
      "\n",
      "Best Candidate In Round 22 \n",
      ": [1, '+', 2, '*', 7, '*', 7, '*', 6, '*', 6, '*', 5, '+', 8, '*', 2, '*', 8, '*', 3], fitness:-6\n",
      "\n",
      "\n",
      "Best Candidate In Round 23 \n",
      ": [2, '*', 1, '*', 7, '*', 7, '*', 6, '*', 6, '*', 5, '+', 4, '*', 2, '*', 8, '*', 6], fitness:-5\n",
      "\n",
      "\n",
      "Best Candidate In Round 24 \n",
      ": [1, '+', 2, '*', 7, '*', 7, '*', 6, '*', 6, '*', 5, '+', 8, '*', 2, '*', 8, '*', 3], fitness:-6\n",
      "\n",
      "\n",
      "Best Candidate In Round 25 \n",
      ": [2, '*', 1, '*', 7, '*', 7, '*', 6, '*', 6, '*', 5, '+', 8, '*', 2, '*', 8, '*', 3], fitness:-5\n",
      "\n",
      "\n",
      "Best Candidate In Round 26 \n",
      ": [2, '*', 1, '*', 7, '*', 7, '*', 6, '*', 6, '*', 5, '+', 8, '*', 2, '*', 8, '*', 3], fitness:-5\n",
      "\n",
      "\n",
      "Best Candidate In Round 27 \n",
      ": [2, '*', 1, '*', 7, '*', 7, '*', 6, '*', 6, '*', 5, '+', 8, '*', 2, '*', 8, '*', 3], fitness:-5\n",
      "\n",
      "\n",
      "Best Candidate In Round 28 \n",
      ": [2, '*', 1, '*', 7, '*', 7, '*', 6, '*', 6, '*', 5, '+', 8, '*', 2, '*', 8, '*', 3], fitness:-5\n",
      "\n",
      "\n",
      "Best Candidate In Round 29 \n",
      ": [2, '*', 1, '*', 7, '*', 7, '*', 6, '*', 6, '*', 5, '+', 8, '*', 2, '*', 8, '*', 3], fitness:-5\n",
      "\n",
      "\n",
      "Best Candidate In Round 30 \n",
      ": [2, '*', 1, '*', 7, '*', 7, '*', 6, '*', 6, '*', 5, '+', 8, '*', 2, '*', 8, '*', 3], fitness:-5\n",
      "\n",
      "\n",
      "Best Candidate In Round 31 \n",
      ": [2, '*', 1, '*', 7, '*', 7, '*', 6, '*', 6, '*', 5, '+', 8, '*', 2, '*', 8, '*', 3], fitness:-5\n",
      "\n",
      "\n",
      "Best Candidate In Round 32 \n",
      ": [2, '*', 1, '*', 7, '*', 7, '*', 6, '*', 6, '*', 5, '+', 8, '*', 2, '*', 8, '*', 3], fitness:-5\n",
      "\n",
      "\n",
      "Best Candidate In Round 33 \n",
      ": [1, '+', 2, '*', 7, '*', 7, '*', 6, '*', 6, '*', 5, '+', 8, '*', 8, '*', 6, '-', 7], fitness:-1\n",
      "\n",
      "\n",
      "Best Candidate In Round 34 \n",
      ": [1, '+', 2, '*', 7, '*', 7, '*', 6, '*', 6, '*', 5, '+', 8, '*', 8, '*', 6, '-', 7], fitness:-1\n",
      "\n",
      "\n",
      "Best Candidate In Round 35 \n",
      ": [1, '+', 2, '*', 7, '*', 7, '*', 6, '*', 6, '*', 5, '+', 8, '*', 8, '*', 6, '-', 7], fitness:-1\n",
      "\n",
      "\n",
      "Soloution Found In Round 36 \n",
      ": [2, '+', 2, '*', 7, '*', 7, '*', 6, '*', 6, '*', 5, '+', 8, '*', 8, '*', 6, '-', 7], fitness:0\n",
      "\n",
      "\n"
     ]
    }
   ],
   "source": [
    "operands = [1, 2, 3, 4, 5, 6, 7, 8]\n",
    "operators = ['+', '-', '*']\n",
    "equationLength = 21\n",
    "goalNumber = 18019\n",
    "\n",
    "test1_info = Info(operators, operands, equationLength, goalNumber)\n",
    "\n",
    "\n",
    "test(test1_info)"
   ]
  },
  {
   "cell_type": "code",
   "execution_count": 9,
   "metadata": {},
   "outputs": [
    {
     "name": "stdout",
     "output_type": "stream",
     "text": [
      "Best Candidate In Round 1 \n",
      ": [5, '-', 3, '+', 1, '*', 7, '*', 4, '*', 3, '*', 3, '*', 5], fitness:-28\n",
      "\n",
      "\n",
      "Best Candidate In Round 2 \n",
      ": [8, '*', 10, '*', 5, '*', 3, '+', 7, '+', 3, '+', 10, '-', 2], fitness:-16\n",
      "\n",
      "\n",
      "Best Candidate In Round 3 \n",
      ": [8, '*', 10, '*', 5, '*', 3, '+', 7, '+', 3, '+', 10, '-', 2], fitness:-16\n",
      "\n",
      "\n",
      "Best Candidate In Round 4 \n",
      ": [8, '*', 10, '*', 5, '*', 3, '+', 7, '+', 3, '+', 10, '-', 2], fitness:-16\n",
      "\n",
      "\n",
      "Best Candidate In Round 5 \n",
      ": [3, '*', 9, '*', 5, '*', 9, '+', 5, '*', 5, '+', 4, '*', 0], fitness:-6\n",
      "\n",
      "\n",
      "Best Candidate In Round 6 \n",
      ": [7, '*', 6, '*', 6, '*', 3, '+', 1, '*', 8, '*', 6, '*', 10], fitness:-2\n",
      "\n",
      "\n",
      "Best Candidate In Round 7 \n",
      ": [7, '*', 6, '*', 6, '*', 3, '+', 1, '*', 8, '*', 6, '*', 10], fitness:-2\n",
      "\n",
      "\n",
      "Best Candidate In Round 8 \n",
      ": [7, '*', 6, '*', 6, '*', 3, '+', 1, '*', 8, '*', 6, '*', 10], fitness:-2\n",
      "\n",
      "\n",
      "Best Candidate In Round 9 \n",
      ": [8, '*', 7, '*', 7, '+', 7, '*', 6, '*', 5, '*', 4, '-', 0], fitness:-2\n",
      "\n",
      "\n",
      "Best Candidate In Round 10 \n",
      ": [3, '*', 9, '*', 5, '*', 9, '+', 5, '*', 6, '-', 9, '-', 3], fitness:-1\n",
      "\n",
      "\n",
      "Soloution Found In Round 11 \n",
      ": [8, '*', 7, '*', 1, '*', 3, '*', 7, '+', 4, '+', 6, '*', 9], fitness:0\n",
      "\n",
      "\n"
     ]
    }
   ],
   "source": [
    "\n",
    "operands = [0, 1, 2, 3, 4, 5, 6, 7, 8, 9, 10]\n",
    "operators = ['+', '-', '*']\n",
    "equationLength = 15\n",
    "goalNumber = 1234\n",
    "\n",
    "test1_info = Info(operators, operands, equationLength, goalNumber)\n",
    "\n",
    "\n",
    "test(test1_info)"
   ]
  },
  {
   "cell_type": "code",
   "execution_count": 25,
   "metadata": {},
   "outputs": [
    {
     "name": "stdout",
     "output_type": "stream",
     "text": [
      "Best Candidate In Round 1 \n",
      ": [6, '*', 10, '*', -7, '-', -3, '%', 3, '%', -6, '*', -4, '+', 2, '-', 10, '*', 10, '*', -7, '*', -7], fitness:-118138\n",
      "\n",
      "\n",
      "Best Candidate In Round 2 \n",
      ": [5, '*', -9, '-', 4, '+', -7, '-', 9, '*', -9, '*', -8, '*', 9, '+', 8, '*', -6, '-', -5, '+', -3], fitness:-117522\n",
      "\n",
      "\n",
      "Best Candidate In Round 3 \n",
      ": [7, '+', -8, '*', 10, '*', -9, '*', 3, '*', 5, '*', -10, '+', -8, '+', -8, '+', 7, '%', -7, '-', -7], fitness:-15454\n",
      "\n",
      "\n",
      "Best Candidate In Round 4 \n",
      ": [1, '+', -8, '*', 10, '*', -9, '*', 3, '*', 5, '*', -10, '+', -8, '+', -8, '+', 7, '%', -7, '-', -7], fitness:-15448\n",
      "\n",
      "\n",
      "Best Candidate In Round 5 \n",
      ": [7, '*', 7, '*', 8, '*', 7, '*', -8, '*', 5, '+', 8, '*', 8, '*', -6, '*', 10, '%', -6, '*', -4], fitness:-13696\n",
      "\n",
      "\n",
      "Best Candidate In Round 6 \n",
      ": [7, '*', 7, '*', 8, '*', 7, '*', -8, '*', 5, '+', 8, '*', 8, '*', -6, '*', 10, '%', -6, '*', -4], fitness:-13696\n",
      "\n",
      "\n",
      "Best Candidate In Round 7 \n",
      ": [6, '%', 9, '*', 8, '*', 7, '*', -10, '*', -6, '*', -6, '-', 5, '*', -10, '%', 4, '*', -8, '*', 9], fitness:-2640\n",
      "\n",
      "\n",
      "Best Candidate In Round 8 \n",
      ": [6, '%', 7, '*', 8, '*', 7, '*', -10, '*', -6, '*', -6, '-', 5, '*', -10, '%', 4, '*', -8, '*', 9], fitness:-2640\n",
      "\n",
      "\n",
      "Best Candidate In Round 9 \n",
      ": [7, '*', 8, '*', 8, '*', 7, '*', -8, '*', 5, '+', 8, '*', 8, '*', -6, '-', -10, '*', 4, '-', 10], fitness:-2338\n",
      "\n",
      "\n",
      "Best Candidate In Round 10 \n",
      ": [7, '*', 8, '*', 8, '*', 7, '*', -8, '*', 5, '+', 8, '*', 8, '*', -6, '-', -10, '*', 4, '-', 10], fitness:-2338\n",
      "\n",
      "\n",
      "Best Candidate In Round 11 \n",
      ": [7, '*', 8, '*', 8, '*', 7, '*', -8, '*', 5, '+', 8, '*', 8, '*', -6, '*', 10, '%', -6, '*', -4], fitness:-1984\n",
      "\n",
      "\n",
      "Best Candidate In Round 12 \n",
      ": [7, '*', 8, '*', 7, '*', 5, '*', -9, '*', 5, '+', 8, '*', 7, '*', -3, '*', 7, '*', 3, '*', 10], fitness:-24\n",
      "\n",
      "\n",
      "Best Candidate In Round 13 \n",
      ": [7, '*', 8, '*', 7, '*', 5, '*', -9, '*', 5, '+', 8, '*', 7, '*', -3, '*', 7, '*', 3, '*', 10], fitness:-24\n",
      "\n",
      "\n",
      "Best Candidate In Round 14 \n",
      ": [7, '*', 7, '*', 8, '*', 7, '*', -8, '*', 5, '+', -4, '+', 7, '*', -6, '*', 10, '*', 3, '*', 10], fitness:-1092\n",
      "\n",
      "\n",
      "Best Candidate In Round 15 \n",
      ": [7, '*', 8, '*', 7, '*', 5, '*', -9, '*', 5, '+', 8, '*', 7, '*', -3, '*', 7, '*', 3, '*', 10], fitness:-24\n",
      "\n",
      "\n",
      "Best Candidate In Round 16 \n",
      ": [7, '*', 8, '*', 7, '*', 5, '*', -9, '*', 5, '+', 8, '*', 7, '*', -3, '*', 7, '*', 3, '*', 10], fitness:-24\n",
      "\n",
      "\n",
      "Best Candidate In Round 17 \n",
      ": [7, '*', 7, '*', 8, '*', 7, '*', -5, '*', 9, '+', 10, '+', 4, '%', -9, '-', -6, '%', 7, '%', 7], fitness:-20\n",
      "\n",
      "\n",
      "Best Candidate In Round 18 \n",
      ": [7, '*', 7, '*', 8, '*', 7, '*', -5, '*', 9, '+', 10, '+', 7, '-', -8, '%', -10, '+', -2, '+', -4], fitness:-5\n",
      "\n",
      "\n",
      "Best Candidate In Round 19 \n",
      ": [7, '*', 7, '*', 8, '*', 7, '*', -5, '*', 9, '+', 10, '+', 7, '-', -8, '%', -10, '+', -2, '+', -6], fitness:-7\n",
      "\n",
      "\n",
      "Best Candidate In Round 20 \n",
      ": [7, '*', 7, '*', 8, '*', 7, '*', -5, '*', 9, '+', 10, '+', 7, '-', 6, '%', -10, '+', -2, '+', -4], fitness:-9\n",
      "\n",
      "\n",
      "Best Candidate In Round 21 \n",
      ": [7, '*', 7, '*', 8, '*', 7, '*', -5, '*', 9, '+', 10, '+', 7, '-', 6, '%', -10, '+', -2, '+', -4], fitness:-9\n",
      "\n",
      "\n",
      "Best Candidate In Round 22 \n",
      ": [7, '*', 7, '*', 8, '*', 7, '*', -5, '*', 9, '+', 10, '+', 7, '-', 6, '%', -10, '+', -2, '+', -4], fitness:-9\n",
      "\n",
      "\n",
      "Best Candidate In Round 23 \n",
      ": [7, '*', 7, '*', 8, '*', 7, '*', -5, '*', 9, '+', 10, '+', 7, '-', -6, '-', -10, '*', -7, '%', -8], fitness:-1\n",
      "\n",
      "\n",
      "Best Candidate In Round 24 \n",
      ": [7, '*', 7, '*', 8, '*', 7, '*', -5, '*', 9, '+', 10, '+', 7, '-', -6, '-', -10, '*', -7, '%', -8], fitness:-1\n",
      "\n",
      "\n",
      "Best Candidate In Round 25 \n",
      ": [7, '*', 7, '*', 8, '*', 7, '*', -5, '*', 9, '+', 10, '+', 7, '-', -6, '-', -10, '*', -7, '%', -8], fitness:-1\n",
      "\n",
      "\n",
      "Best Candidate In Round 26 \n",
      ": [7, '*', 7, '*', 8, '*', 7, '*', -5, '*', 9, '+', 10, '+', 7, '-', -6, '-', -10, '*', -7, '%', -8], fitness:-1\n",
      "\n",
      "\n",
      "Soloution Found In Round 27 \n",
      ": [7, '*', 7, '*', 8, '*', 7, '*', -5, '*', 9, '+', 10, '+', 8, '%', 5, '%', 10, '-', -7, '+', 4], fitness:0\n",
      "\n",
      "\n"
     ]
    }
   ],
   "source": [
    "operands = [1, 2, 3, 4, 5, 6, 7, 8, 9, 10, -10, -9, -8, -7, -6, -5, -4, -3, -2, -1]\n",
    "operators = ['+', '-', \"*\", '%']\n",
    "equationLength = 23\n",
    "goalNumber =  -123456\n",
    "\n",
    "test1_info = Info(operators, operands, equationLength, goalNumber)\n",
    "\n",
    "test(test1_info)"
   ]
  },
  {
   "cell_type": "markdown",
   "metadata": {},
   "source": [
    "## Example"
   ]
  },
  {
   "cell_type": "code",
   "execution_count": 11,
   "metadata": {},
   "outputs": [
    {
     "data": {
      "text/plain": [
       "9"
      ]
     },
     "execution_count": 11,
     "metadata": {},
     "output_type": "execute_result"
    }
   ],
   "source": [
    "x = [1 , \"+\", 2, \"*\", 4]\n",
    "y = eval(\"\".join([ str(y)for y in x]))\n",
    "y"
   ]
  },
  {
   "cell_type": "code",
   "execution_count": 12,
   "metadata": {},
   "outputs": [
    {
     "name": "stdout",
     "output_type": "stream",
     "text": [
      "2\n"
     ]
    }
   ],
   "source": [
    "print(rand.randint(0,9))"
   ]
  },
  {
   "cell_type": "code",
   "execution_count": 13,
   "metadata": {},
   "outputs": [
    {
     "data": {
      "text/plain": [
       "[3, 4, 5, 6, 7, 8, 9, 100, 1, 2]"
      ]
     },
     "execution_count": 13,
     "metadata": {},
     "output_type": "execute_result"
    }
   ],
   "source": [
    "x = [1,2,3,4,5,6,7,8,9,100]\n",
    "x[2:] + x[:2]"
   ]
  },
  {
   "cell_type": "code",
   "execution_count": 14,
   "metadata": {},
   "outputs": [
    {
     "name": "stdout",
     "output_type": "stream",
     "text": [
      "12\n"
     ]
    }
   ],
   "source": [
    "print(int(12.445))"
   ]
  }
 ],
 "metadata": {
  "kernelspec": {
   "display_name": "Python 3.10.6 64-bit",
   "language": "python",
   "name": "python3"
  },
  "language_info": {
   "codemirror_mode": {
    "name": "ipython",
    "version": 3
   },
   "file_extension": ".py",
   "mimetype": "text/x-python",
   "name": "python",
   "nbconvert_exporter": "python",
   "pygments_lexer": "ipython3",
   "version": "3.10.6 (main, Nov 14 2022, 16:10:14) [GCC 11.3.0]"
  },
  "orig_nbformat": 4,
  "vscode": {
   "interpreter": {
    "hash": "916dbcbb3f70747c44a77c7bcd40155683ae19c65e1c03b4aa3499c5328201f1"
   }
  }
 },
 "nbformat": 4,
 "nbformat_minor": 2
}
