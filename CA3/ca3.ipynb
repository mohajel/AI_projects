{
 "cells": [
  {
   "cell_type": "markdown",
   "metadata": {},
   "source": [
    "# In the Name of God"
   ]
  },
  {
   "cell_type": "code",
   "execution_count": null,
   "metadata": {},
   "outputs": [],
   "source": []
  },
  {
   "cell_type": "markdown",
   "metadata": {},
   "source": []
  },
  {
   "cell_type": "markdown",
   "metadata": {},
   "source": [
    "# Imports:"
   ]
  },
  {
   "cell_type": "code",
   "execution_count": 1,
   "metadata": {},
   "outputs": [],
   "source": [
    "# from typing import List\n",
    "import math\n",
    "import pandas as pd\n",
    "import numpy as np\n",
    "import hazm\n",
    "# from hazm import Normalizer, word_tokenize, Stemmer, Lemmatizer, stopwords_list\n",
    "import matplotlib.pyplot as plt"
   ]
  },
  {
   "cell_type": "markdown",
   "metadata": {},
   "source": [
    "# Defines:"
   ]
  },
  {
   "cell_type": "code",
   "execution_count": 25,
   "metadata": {},
   "outputs": [
    {
     "data": {
      "text/plain": [
       "False"
      ]
     },
     "execution_count": 25,
     "metadata": {},
     "output_type": "execute_result"
    }
   ],
   "source": [
    "x = \"ss?\"\n",
    "x.isalpha()"
   ]
  },
  {
   "cell_type": "code",
   "execution_count": 2,
   "metadata": {},
   "outputs": [],
   "source": [
    "# IGNORE_CASES = [\".\", \",\" \":\", \"(\", \")\", \"'\", \"{\", \"}\", \"\"]"
   ]
  },
  {
   "cell_type": "code",
   "execution_count": 28,
   "metadata": {},
   "outputs": [
    {
     "data": {
      "text/plain": [
       "'یک نوجوان انگلیسی به اتهام هک حساب\\u200cهای کاربری ایمیل و تلفن\\u200cهای مقام\\u200cهای ارشد آمریکایی، به دو سال حبس در دارالتادیب محکوم شده است. به گزارش ایسنا، به نقل از خبرگزاری آسوشیتدپرس، دادستان\\u200cها می\\u200cگویند که این نوجوان به نام \"کین گمبل\" در بازه زمانی 2015 و 2016 اقدام به هک و دسترسی به اطلاعات حساب\\u200cهای کاربری ایمیل\\u200cها و تلفن\\u200cهای افرادی چون مارک جیلیانو، مدیر وقت اف.بی.آی، جی جانسون، وزیر وقت کشور، جان برنان، رئیس وقت سیا و سایر افراد کرده است. دادستان\\u200cهای می\\u200cگویند، گمبل که عضوی از گروه هکری موسوم به \" Crackas With Attitude\" است، برخی از این اطلاعات را در به صورت آنلاین منتشر کرده است. گمبل سال گذشته میلادی گناهکار شناخته شد. این نوجوان 18 ساله انگلیسی روز جمعه در دادگاه کیفری لندن به دو سال حبس در دارالتادیب محکوم شد. قاضی چارلز هادون – کیو گفته است که کمپین کثیف این نوجوان که به صورت سیاسی و با انگیزه تروریسم سایبری صورت گرفته باعث شده تا قربانیان احساس کنند که حریم خصوصی\\u200cشان نقض شده است.'"
      ]
     },
     "execution_count": 28,
     "metadata": {},
     "output_type": "execute_result"
    }
   ],
   "source": [
    "train_data = pd.read_csv(\"train.csv\")\n",
    "test_data = pd.read_csv(\"test.csv\")\n",
    "\n",
    "train_data[\"content\"][3]"
   ]
  },
  {
   "cell_type": "code",
   "execution_count": 29,
   "metadata": {},
   "outputs": [
    {
     "name": "stdout",
     "output_type": "stream",
     "text": [
      "['نوجوان', 'انگلیسی', 'اتهام', 'هک', 'کاربر', 'ایمیل', 'ارشد', 'آمریکایی', 'سال', 'حبس', 'دارالتادیب', 'محکوم', 'گزارش', 'ایسنا', 'نقل', 'خبرگزاری', 'آسوشیتدپرس', 'نوجوان', 'نام', 'کین', 'گمبل', 'بازه', 'زمان', 'اقدام', 'هک', 'دسترس', 'اطلاعات', 'کاربر', 'مارک', 'جیلیانو', 'مدیر', 'وقت', 'اف', 'آی', 'جی', 'جانسون', 'وزیر', 'وقت', 'کشور', 'جان', 'برن', 'رئیس', 'وقت', 'سیا', 'گمبل', 'عضو', 'گروه', 'هکری', 'موسوم', 'Crackas', 'With', 'Attitude', 'اطلاعات', 'صورت', 'آنلاین', 'منتشر', 'گمبل', 'سال', 'گذشته', 'میلاد', 'گناهکار', 'نوجوان', 'انگلیسی', 'روز', 'جمعه', 'دادگاه', 'کیفر', 'لندن', 'سال', 'حبس', 'دارالتادیب', 'محکوم', 'قاضی', 'چارلز', 'هادون', 'کیو', 'کمپین', 'کثیف', 'نوجوان', 'صورت', 'سیاسی', 'انگیزه', 'تروریسم', 'سایبر', 'صورت', 'قربان', 'احساس', 'حریم', 'نقض']\n"
     ]
    }
   ],
   "source": [
    "\n",
    "class Parser:\n",
    "    def __init__(self) -> None:\n",
    "        self.normalizer = hazm.Normalizer()\n",
    "        self.lemmatizer = hazm.Lemmatizer()\n",
    "        self.tokenize = hazm.word_tokenize\n",
    "        self.stop_words = hazm.stopwords_list()\n",
    "        self.stop_words = self.stop_words\n",
    "\n",
    "    def parse(self, text : str):\n",
    "        tokens = self.tokenize(self.normalizer.normalize(text))\n",
    "        tokens = [elem for elem in tokens if elem not in self.stop_words and elem.isalpha()]\n",
    "        tokens = [self.lemmatize(elem) for elem in tokens if elem not in self.stop_words]\n",
    "        return tokens\n",
    "\n",
    "    def lemmatize(self, word :str) -> str:\n",
    "        return self.lemmatizer.lemmatize(word).split('#')[0]\n",
    "\n",
    "p = Parser()\n",
    "\n",
    "tokens = p.parse(train_data[\"content\"][3])\n",
    "\n",
    "print(tokens)\n",
    "        "
   ]
  },
  {
   "cell_type": "code",
   "execution_count": null,
   "metadata": {},
   "outputs": [],
   "source": [
    "class Topic:\n",
    "    def __init__(self, name) -> None:\n",
    "        self.name = name\n",
    "        self.words = {}\n",
    "\n"
   ]
  }
 ],
 "metadata": {
  "kernelspec": {
   "display_name": "Python 3.10.6 64-bit",
   "language": "python",
   "name": "python3"
  },
  "language_info": {
   "codemirror_mode": {
    "name": "ipython",
    "version": 3
   },
   "file_extension": ".py",
   "mimetype": "text/x-python",
   "name": "python",
   "nbconvert_exporter": "python",
   "pygments_lexer": "ipython3",
   "version": "3.10.6"
  },
  "orig_nbformat": 4,
  "vscode": {
   "interpreter": {
    "hash": "916dbcbb3f70747c44a77c7bcd40155683ae19c65e1c03b4aa3499c5328201f1"
   }
  }
 },
 "nbformat": 4,
 "nbformat_minor": 2
}
