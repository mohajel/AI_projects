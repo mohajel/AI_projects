{
 "cells": [
  {
   "cell_type": "markdown",
   "metadata": {},
   "source": [
    "# Naive Bayes comment classifier"
   ]
  },
  {
   "cell_type": "code",
   "execution_count": 1,
   "metadata": {},
   "outputs": [],
   "source": [
    "from typing import List\n",
    "import math\n",
    "import pandas as pd\n",
    "import numpy as np\n",
    "from hazm import Normalizer, word_tokenize, Stemmer, Lemmatizer, stopwords_list\n",
    "import matplotlib.pyplot as plt"
   ]
  },
  {
   "cell_type": "code",
   "execution_count": 2,
   "metadata": {},
   "outputs": [],
   "source": [
    "train_data = pd.read_csv(\"comment_train.csv\")\n",
    "test_data = pd.read_csv(\"comment_test.csv\")"
   ]
  },
  {
   "cell_type": "code",
   "execution_count": 3,
   "metadata": {},
   "outputs": [
    {
     "data": {
      "text/html": [
       "<div>\n",
       "<style scoped>\n",
       "    .dataframe tbody tr th:only-of-type {\n",
       "        vertical-align: middle;\n",
       "    }\n",
       "\n",
       "    .dataframe tbody tr th {\n",
       "        vertical-align: top;\n",
       "    }\n",
       "\n",
       "    .dataframe thead th {\n",
       "        text-align: right;\n",
       "    }\n",
       "</style>\n",
       "<table border=\"1\" class=\"dataframe\">\n",
       "  <thead>\n",
       "    <tr style=\"text-align: right;\">\n",
       "      <th></th>\n",
       "      <th>title</th>\n",
       "      <th>comment</th>\n",
       "      <th>recommend</th>\n",
       "    </tr>\n",
       "  </thead>\n",
       "  <tbody>\n",
       "    <tr>\n",
       "      <th>0</th>\n",
       "      <td>زیبا اما کم دوام</td>\n",
       "      <td>با وجود سابقه خوبی که از برند ایرانی نهرین سرا...</td>\n",
       "      <td>not_recommended</td>\n",
       "    </tr>\n",
       "    <tr>\n",
       "      <th>1</th>\n",
       "      <td>بسیار عالی</td>\n",
       "      <td>بسیار عالی</td>\n",
       "      <td>recommended</td>\n",
       "    </tr>\n",
       "    <tr>\n",
       "      <th>2</th>\n",
       "      <td>سلام</td>\n",
       "      <td>من الان ۳ هفته هست استفاده میکنم\\r\\nبرای کسایی...</td>\n",
       "      <td>not_recommended</td>\n",
       "    </tr>\n",
       "    <tr>\n",
       "      <th>3</th>\n",
       "      <td>به درد نمیخورهههه</td>\n",
       "      <td>عمرش کمه تا یه هفته بیشتر نمیشه استفاده کرد یا...</td>\n",
       "      <td>not_recommended</td>\n",
       "    </tr>\n",
       "    <tr>\n",
       "      <th>4</th>\n",
       "      <td>کلمن آب</td>\n",
       "      <td>فکر کنین کلمن بخرین با ذوق. کلی پولشو بدین. به...</td>\n",
       "      <td>not_recommended</td>\n",
       "    </tr>\n",
       "    <tr>\n",
       "      <th>...</th>\n",
       "      <td>...</td>\n",
       "      <td>...</td>\n",
       "      <td>...</td>\n",
       "    </tr>\n",
       "    <tr>\n",
       "      <th>5995</th>\n",
       "      <td>جنسش عالیه</td>\n",
       "      <td>خیلی جنس پارچش نرم ولطیفه خیلیم جنسش خوبه اما ...</td>\n",
       "      <td>recommended</td>\n",
       "    </tr>\n",
       "    <tr>\n",
       "      <th>5996</th>\n",
       "      <td>خرید محصول</td>\n",
       "      <td>سلام.واقعا فکر نمی کردم به این راحتی اصلاح کنم...</td>\n",
       "      <td>recommended</td>\n",
       "    </tr>\n",
       "    <tr>\n",
       "      <th>5997</th>\n",
       "      <td>تعریف</td>\n",
       "      <td>من از دیجی کالا خریدم خیلی زود دستم رسید،زیبا،...</td>\n",
       "      <td>recommended</td>\n",
       "    </tr>\n",
       "    <tr>\n",
       "      <th>5998</th>\n",
       "      <td>اصلا چای ماچا نیسش</td>\n",
       "      <td>یا شرکت نمیدونسته چای ماچا امپریال چیه یا واقع...</td>\n",
       "      <td>not_recommended</td>\n",
       "    </tr>\n",
       "    <tr>\n",
       "      <th>5999</th>\n",
       "      <td>یک هدست بدون سیم عالی</td>\n",
       "      <td>این هدست را چند هفته قبل از سایت دیجی کالا خری...</td>\n",
       "      <td>recommended</td>\n",
       "    </tr>\n",
       "  </tbody>\n",
       "</table>\n",
       "<p>6000 rows × 3 columns</p>\n",
       "</div>"
      ],
      "text/plain": [
       "                      title  \\\n",
       "0          زیبا اما کم دوام   \n",
       "1                بسیار عالی   \n",
       "2                      سلام   \n",
       "3         به درد نمیخورهههه   \n",
       "4                   کلمن آب   \n",
       "...                     ...   \n",
       "5995             جنسش عالیه   \n",
       "5996             خرید محصول   \n",
       "5997                  تعریف   \n",
       "5998     اصلا چای ماچا نیسش   \n",
       "5999  یک هدست بدون سیم عالی   \n",
       "\n",
       "                                                comment        recommend  \n",
       "0     با وجود سابقه خوبی که از برند ایرانی نهرین سرا...  not_recommended  \n",
       "1                                            بسیار عالی      recommended  \n",
       "2     من الان ۳ هفته هست استفاده میکنم\\r\\nبرای کسایی...  not_recommended  \n",
       "3     عمرش کمه تا یه هفته بیشتر نمیشه استفاده کرد یا...  not_recommended  \n",
       "4     فکر کنین کلمن بخرین با ذوق. کلی پولشو بدین. به...  not_recommended  \n",
       "...                                                 ...              ...  \n",
       "5995  خیلی جنس پارچش نرم ولطیفه خیلیم جنسش خوبه اما ...      recommended  \n",
       "5996  سلام.واقعا فکر نمی کردم به این راحتی اصلاح کنم...      recommended  \n",
       "5997  من از دیجی کالا خریدم خیلی زود دستم رسید،زیبا،...      recommended  \n",
       "5998  یا شرکت نمیدونسته چای ماچا امپریال چیه یا واقع...  not_recommended  \n",
       "5999  این هدست را چند هفته قبل از سایت دیجی کالا خری...      recommended  \n",
       "\n",
       "[6000 rows x 3 columns]"
      ]
     },
     "execution_count": 3,
     "metadata": {},
     "output_type": "execute_result"
    }
   ],
   "source": [
    "train_data"
   ]
  },
  {
   "cell_type": "markdown",
   "metadata": {},
   "source": [
    "## PreProcessing\n",
    "* Title and comment: I have merged these two together but several other approaches are available such as dropping the title, giving weight to the title, etc.\n",
    "* Stop words: stop words do not add any value to a sentence and we can remove them for better accuracy.\n",
    "* Special characters: I have removed characters such as ., ?, ، to acheive better performance because they do not any extra value.\n",
    "* Tokenizing: I have splitted the text from whitespaces to get a list of words from the text."
   ]
  },
  {
   "cell_type": "markdown",
   "metadata": {},
   "source": [
    "### Stemming and Lemmatization\n",
    "Each word can be in multiple shapes for exampel رفتن برو رفت and these words present the same meaning and it's better for us to have one word for them.  \n",
    "The goal of stemming and lemmatization is two reduce these different words to one single format.  \n",
    "\n",
    "* Stemming: It usually cuts end of words in search for getting the same word format.\n",
    "* Lemmatization: It is a more grammer related task and tries to convert words to their base forms. This method is more language centric.  \n",
    "\n",
    "Examples for these methods are suggested below using hazm library"
   ]
  },
  {
   "cell_type": "code",
   "execution_count": 4,
   "metadata": {},
   "outputs": [
    {
     "data": {
      "text/plain": [
       "'رو'"
      ]
     },
     "execution_count": 4,
     "metadata": {},
     "output_type": "execute_result"
    }
   ],
   "source": [
    "# Stemming\n",
    "stemmer = Stemmer()\n",
    "word = \"روی\"\n",
    "stemmer.stem(word)"
   ]
  },
  {
   "cell_type": "code",
   "execution_count": 5,
   "metadata": {},
   "outputs": [
    {
     "data": {
      "text/plain": [
       "['خورد', 'خور']"
      ]
     },
     "execution_count": 5,
     "metadata": {},
     "output_type": "execute_result"
    }
   ],
   "source": [
    "# Lemmatization\n",
    "lemmatizer = Lemmatizer()\n",
    "word = \"خورد\"\n",
    "lemmatizer.lemmatize(word).split(\"#\")"
   ]
  },
  {
   "cell_type": "code",
   "execution_count": 6,
   "metadata": {},
   "outputs": [],
   "source": [
    "class PreProcessor:\n",
    "    def __init__(self, df):\n",
    "        self.df = df\n",
    "        self.special_chars = [\".\", \"!\", \"?\", \"؟\", \"،\", \",\"]\n",
    "\n",
    "    def merge_title_comment(self):\n",
    "        self.df[\"title_comment\"] = self.df[\"title\"] + \" \" + self.df[\"comment\"]\n",
    "\n",
    "    def word_tokenize(self):\n",
    "        self.df[\"tokenized\"] = self.df.apply(\n",
    "            lambda row: word_tokenize(row[\"title_comment\"]), axis=1\n",
    "        )\n",
    "\n",
    "    def remove_stop_words(self):\n",
    "        stop_words = stopwords_list()\n",
    "        self.df[\"tokenized\"] = self.df.apply(\n",
    "            lambda row: [word for word in row[\"tokenized\"] if word not in stop_words],\n",
    "            axis=1,\n",
    "        )\n",
    "\n",
    "    def remove_special_chars(self, text: str):\n",
    "        for special_char in self.special_chars:\n",
    "            text = text.replace(special_char, \" \")\n",
    "        return text\n",
    "\n",
    "    def remove_all_special_chars(self):\n",
    "        self.df[\"title_comment\"] = self.df.apply(\n",
    "            lambda row: self.remove_special_chars(row[\"title_comment\"]), axis=1\n",
    "        )\n",
    "\n",
    "    def normalize(self):\n",
    "        normalizer = Normalizer()\n",
    "        self.df[\"title_comment\"] = self.df.apply(\n",
    "            lambda row: normalizer.normalize(row[\"title_comment\"]), axis=1\n",
    "        )\n",
    "\n",
    "    def lemmatize(self):\n",
    "        lemmatizer = Lemmatizer()\n",
    "        self.df[\"tokenized\"] = self.df.apply(\n",
    "            lambda row: [lemmatizer.lemmatize(word) for word in row[\"tokenized\"]],\n",
    "            axis=1,\n",
    "        )\n",
    "\n",
    "    def stem(self):\n",
    "        stemmer = Stemmer()\n",
    "        self.df[\"tokenized\"] = self.df.apply(\n",
    "            lambda row: [stemmer.stem(word) for word in row[\"tokenized\"]],\n",
    "            axis=1,\n",
    "        )\n",
    "\n",
    "    def simple_pre_process(self):\n",
    "        self.merge_title_comment()\n",
    "        self.word_tokenize()\n",
    "\n",
    "    def pre_process(\n",
    "        self,\n",
    "        remove_stop_words=True,\n",
    "        remove_special_chars=True,\n",
    "        normalize=True,\n",
    "        lemmatize=False,\n",
    "        stem=False,\n",
    "    ):\n",
    "        self.merge_title_comment()\n",
    "        if remove_special_chars:\n",
    "            self.remove_all_special_chars()\n",
    "        if normalize:\n",
    "            self.normalize()\n",
    "        self.word_tokenize()\n",
    "        if remove_stop_words:\n",
    "            self.remove_stop_words()\n",
    "        if lemmatize:\n",
    "            self.lemmatize()\n",
    "        if stem:\n",
    "            self.stem()"
   ]
  },
  {
   "cell_type": "markdown",
   "metadata": {},
   "source": [
    "## Naive Bayes Bayes Net\n",
    "<img src=\"Naive-Bayes-Bayesian-Network.png\">\n",
    "\n",
    "In our situation Y class is recommended/not_recommended and the features are word counts  \n",
    "each feature is conditionaly independent to others. Forexample P(x1|Y) is independent to P(x2|Y)  \n",
    "so we can use this formula:  \n",
    "P(Y|features) has relation with P(Y) * P(f1|Y) * P(f2|Y) * ... * P(fn|Y)\n",
    "\n",
    "* prior probabilities: P(Y) shows the prior probability and it shows our first view of the world without any further evidence. It just simply shows how many recommended or not_recommended words are in our train dataset divided by count of all rows in our data\n",
    "* posterior probabilites: P(Y|features) shows the posterior probability. It means that our view has been changed by these new evidences.\n",
    "* evidence: P(fi), it is the happened features, for example when we know that سلام این محصول را بخرید is recommended so this is a new raw evidence and it changes our view of the world. We do not calculate this phrase because anyway we can comare the two final values\n",
    "* likelihood: P(fi|Y) is the likelihood that shows how much is the probability of seeing a word by knowing recommended/not_recommended class."
   ]
  },
  {
   "attachments": {
    "image.png": {
     "image/png": "[encoded data removed]"
    }
   },
   "cell_type": "markdown",
   "metadata": {},
   "source": [
    "## Additive Smoothing:\n",
    "There is a problem with our raw implementation of the naive bayes classifier, for example assume we did not see word اکبر in our train dataset.  \n",
    "But this word is in our new data and we must assign a value for this word, using the raw implementation this probebility is 0 and it affects our final value so that it becomes zero.  \n",
    "But obiously this isn't a good method and it reduces our accuracy by false labeling lots of generated zero values.  \n",
    "\n",
    "Additive smoothing simply adds using the following formula and prevents the probabilty to become zero and affect our final value.  \n",
    "![image.png](attachment:image.png)"
   ]
  },
  {
   "cell_type": "code",
   "execution_count": 7,
   "metadata": {},
   "outputs": [],
   "source": [
    "class Classifier:\n",
    "    def __init__(self, df, pre_process: bool, additive_smoothing: bool):\n",
    "        self.df = df\n",
    "        self.pre_processor = PreProcessor(df)\n",
    "        self.pre_process = pre_process\n",
    "        self.additive_smoothing = additive_smoothing\n",
    "        self.recommended_words_frequencies = dict()\n",
    "        self.not_recommended_words_frequencies = dict()\n",
    "        self.recommended_likelihood_probabilities = dict()\n",
    "        self.not_recommended_likelihood_probabilities = dict()\n",
    "        self.recommended_prior_probability = None\n",
    "        self.not_recommended_prior_probability = None\n",
    "        self.recommended_words_count = None\n",
    "        self.not_recommended_words_count = None\n",
    "        self.recommended_zero_count = 0\n",
    "        self.not_recommended_zero_count = 0\n",
    "\n",
    "    def calculate_words_frequency(self, words: List[str], recommended: bool):\n",
    "        for word in words:\n",
    "            if (\n",
    "                word not in self.recommended_words_frequencies\n",
    "                or word not in self.not_recommended_words_frequencies\n",
    "            ):\n",
    "                self.recommended_words_frequencies[word] = 0\n",
    "                self.not_recommended_words_frequencies[word] = 0\n",
    "            else:\n",
    "                if recommended:\n",
    "                    self.recommended_words_frequencies[word] += 1\n",
    "                else:\n",
    "                    self.not_recommended_words_frequencies[word] += 1\n",
    "\n",
    "    def calculate_prior_probabilities(self):\n",
    "        value_counts = train_data[\"recommend\"].value_counts()\n",
    "        self.recommended_prior_probability = value_counts.recommended / (\n",
    "            value_counts.recommended + value_counts.not_recommended\n",
    "        )\n",
    "        self.not_recommended_prior_probability = value_counts.not_recommended / (\n",
    "            value_counts.recommended + value_counts.not_recommended\n",
    "        )\n",
    "\n",
    "    def calculate_likelihood_probabilities(self):\n",
    "        alpha = 0\n",
    "        if self.additive_smoothing:\n",
    "            alpha = 1\n",
    "        self.recommended_words_count = sum(self.recommended_words_frequencies.values())\n",
    "        for word, freq in self.recommended_words_frequencies.items():\n",
    "            self.recommended_likelihood_probabilities[word] = (freq + alpha) / (\n",
    "                self.recommended_words_count + self.recommended_words_count * alpha\n",
    "            )\n",
    "        self.not_recommended_words_count = sum(\n",
    "            self.not_recommended_words_frequencies.values()\n",
    "        )\n",
    "        for word, freq in self.not_recommended_words_frequencies.items():\n",
    "            self.not_recommended_likelihood_probabilities[word] = (freq + alpha) / (\n",
    "                self.not_recommended_words_count\n",
    "                + self.not_recommended_words_count * alpha\n",
    "            )\n",
    "\n",
    "    def train(self):\n",
    "        if self.pre_process:\n",
    "            self.pre_processor.pre_process()\n",
    "        else:\n",
    "            self.pre_processor.simple_pre_process()\n",
    "        self.df.apply(\n",
    "            lambda row: self.calculate_words_frequency(\n",
    "                row[\"tokenized\"], row[\"recommend\"] == \"recommended\"\n",
    "            ),\n",
    "            axis=1,\n",
    "        )\n",
    "        self.calculate_prior_probabilities()\n",
    "        self.calculate_likelihood_probabilities()\n",
    "\n",
    "    def predict(self, words: List[str]):\n",
    "        sum_recommended = math.log(self.recommended_prior_probability)\n",
    "        sum_not_recommended = math.log(self.not_recommended_prior_probability)\n",
    "        for word in words:\n",
    "            if word in self.recommended_likelihood_probabilities:\n",
    "                if self.recommended_likelihood_probabilities[word] == 0:\n",
    "                    sum_recommended = 0\n",
    "                    break\n",
    "                if self.not_recommended_likelihood_probabilities[word] == 0:\n",
    "                    sum_not_recommended = 0\n",
    "                    break\n",
    "                sum_recommended += math.log(\n",
    "                    self.recommended_likelihood_probabilities[word]\n",
    "                )\n",
    "                sum_not_recommended += math.log(\n",
    "                    self.not_recommended_likelihood_probabilities[word]\n",
    "                )\n",
    "            else:\n",
    "                sum_recommended += math.log(1 / self.recommended_words_count)\n",
    "                sum_not_recommended += math.log(1 / self.not_recommended_words_count)\n",
    "        if sum_not_recommended == 0:\n",
    "            self.not_recommended_zero_count += 1\n",
    "            return \"recommended\"\n",
    "        if sum_recommended == 0:\n",
    "            self.recommended_zero_count += 1\n",
    "            return \"not_recommended\"\n",
    "        if sum_recommended > sum_not_recommended:\n",
    "            return \"recommended\"\n",
    "        else:\n",
    "            return \"not_recommended\"\n",
    "\n",
    "    def run(self, test_df):\n",
    "        test_pre_processor = PreProcessor(test_df)\n",
    "        if self.pre_process:\n",
    "            test_pre_processor.pre_process()\n",
    "        else:\n",
    "            test_pre_processor.simple_pre_process()\n",
    "        test_df[\"prediction\"] = test_df.apply(\n",
    "            lambda row: self.predict(row[\"tokenized\"]), axis=1\n",
    "        )"
   ]
  },
  {
   "cell_type": "markdown",
   "metadata": {},
   "source": [
    "## Evaluation\n",
    "We use Accuracy, Precision, Recall and F1 score to evaluate our model.\n",
    "\n",
    "### The problem with just using precision or recall\n",
    "for example lets assume that we are creating a model to classify banking transactions into Fraud and Not Fraud classes.  \n",
    "ussually there is a little percent of fraud transactions in the whole transactions data.  \n",
    "\n",
    "Recall = frauds correctly identified / (frauds correctly identified + frauds incorrectly labeled as not frauds)  \n",
    "\n",
    "Lets assume that our model lablels every transaction as fraud so according to the earlier equation we have a recall of 100%  \n",
    "But obiously this is not a good model because we are false labeling lots of none fraud transactions and interrupt them.\n",
    "And according to the Precision formula:\n",
    "\n",
    "Precision = frauds correctly identified / (frauds correctly identified + transactions incorrectly labeled as fraud)  \n",
    "\n",
    "We see that we are getting a really low precision but a high recall and its not a good model.\n",
    "\n",
    "### F1 Score\n",
    "this score uses Harmonic Mean and uses both precision and recall to show how good our models is working.  \n",
    "We use this mean method so a model with recall 100% and precision 0% gets a low score.  And punishes the extreme value that was high at the cost of the other value.  \n",
    "If we used the normal mean equation we will end up on a value that is higher and its not a good metric because we don't want both of precision and recall to be more than a certain threshold."
   ]
  },
  {
   "cell_type": "code",
   "execution_count": 8,
   "metadata": {},
   "outputs": [],
   "source": [
    "def evaluate_predictions(df):\n",
    "    similarity = df[\"recommend\"] == df[\"prediction\"]\n",
    "    row_occurrences = np.count_nonzero(similarity == True, axis=0)\n",
    "    accuracy = row_occurrences / df.shape[0]\n",
    "    correct_recommended_count = len(\n",
    "        df[(df[\"recommend\"] == df[\"prediction\"]) & (df[\"prediction\"] == \"recommended\")]\n",
    "    )\n",
    "    all_detected_recommended_count = len(df[df[\"prediction\"] == \"recommended\"])\n",
    "    total_recommended_count = len(df[df[\"recommend\"] == \"recommended\"])\n",
    "    precision = correct_recommended_count / all_detected_recommended_count\n",
    "    recall = correct_recommended_count / total_recommended_count\n",
    "    f1 = 2 * (precision * recall) / (precision + recall)\n",
    "    print(\"**************************************\")\n",
    "    print(\"ACCURACY: \" + \"{:.2f}\".format(accuracy * 100))\n",
    "    print(\"PRECISION: \" + \"{:.2f}\".format(precision * 100))\n",
    "    print(\"RECALL: \" + \"{:.2f}\".format(recall * 100))\n",
    "    print(\"F1: \" + \"{:.2f}\".format(f1 * 100))\n",
    "    print(\"**************************************\")\n",
    "    return accuracy, precision, recall, f1"
   ]
  },
  {
   "cell_type": "markdown",
   "metadata": {},
   "source": [
    "#### A. Using preprocessing and additive smoothing"
   ]
  },
  {
   "cell_type": "code",
   "execution_count": 9,
   "metadata": {},
   "outputs": [
    {
     "name": "stdout",
     "output_type": "stream",
     "text": [
      "**************************************\n",
      "ACCURACY: 92.12\n",
      "PRECISION: 93.09\n",
      "RECALL: 91.00\n",
      "F1: 92.04\n",
      "**************************************\n"
     ]
    }
   ],
   "source": [
    "classifier_a = Classifier(train_data.copy(), pre_process=True, additive_smoothing=True)\n",
    "classifier_a.train()\n",
    "test_data_copy_a = test_data.copy()\n",
    "classifier_a.run(test_data_copy_a)\n",
    "accuracy, precision, recall, f1 = evaluate_predictions(test_data_copy_a)\n",
    "accs = []\n",
    "precisions = []\n",
    "recalls = []\n",
    "f1s = []\n",
    "accs.append(accuracy)\n",
    "precisions.append(precision)\n",
    "recalls.append(recall)\n",
    "f1s.append(f1)"
   ]
  },
  {
   "cell_type": "markdown",
   "metadata": {},
   "source": [
    "#### B. Just using additive smoothing"
   ]
  },
  {
   "cell_type": "code",
   "execution_count": 10,
   "metadata": {},
   "outputs": [
    {
     "name": "stdout",
     "output_type": "stream",
     "text": [
      "**************************************\n",
      "ACCURACY: 92.00\n",
      "PRECISION: 91.18\n",
      "RECALL: 93.00\n",
      "F1: 92.08\n",
      "**************************************\n"
     ]
    }
   ],
   "source": [
    "classifier_b = Classifier(train_data.copy(), pre_process=False, additive_smoothing=True)\n",
    "classifier_b.train()\n",
    "test_data_copy_b = test_data.copy()\n",
    "classifier_b.run(test_data_copy_b)\n",
    "accuracy, precision, recall, f1 = evaluate_predictions(test_data_copy_b)\n",
    "accs.append(accuracy)\n",
    "precisions.append(precision)\n",
    "recalls.append(recall)\n",
    "f1s.append(f1)"
   ]
  },
  {
   "cell_type": "markdown",
   "metadata": {},
   "source": [
    "#### C. Just using preprocessing"
   ]
  },
  {
   "cell_type": "code",
   "execution_count": 11,
   "metadata": {},
   "outputs": [
    {
     "name": "stdout",
     "output_type": "stream",
     "text": [
      "**************************************\n",
      "ACCURACY: 73.50\n",
      "PRECISION: 84.81\n",
      "RECALL: 57.25\n",
      "F1: 68.36\n",
      "**************************************\n"
     ]
    }
   ],
   "source": [
    "classifier_c = Classifier(train_data.copy(), pre_process=True, additive_smoothing=False)\n",
    "classifier_c.train()\n",
    "test_data_copy_c = test_data.copy()\n",
    "classifier_c.run(test_data_copy_c)\n",
    "accuracy, precision, recall, f1 = evaluate_predictions(test_data_copy_c)\n",
    "accs.append(accuracy)\n",
    "precisions.append(precision)\n",
    "recalls.append(recall)\n",
    "f1s.append(f1)"
   ]
  },
  {
   "cell_type": "markdown",
   "metadata": {},
   "source": [
    "#### D. Using nothing"
   ]
  },
  {
   "cell_type": "code",
   "execution_count": 12,
   "metadata": {},
   "outputs": [
    {
     "name": "stdout",
     "output_type": "stream",
     "text": [
      "**************************************\n",
      "ACCURACY: 72.62\n",
      "PRECISION: 82.44\n",
      "RECALL: 57.50\n",
      "F1: 67.75\n",
      "**************************************\n"
     ]
    }
   ],
   "source": [
    "classifier_d = Classifier(\n",
    "    train_data.copy(), pre_process=False, additive_smoothing=False\n",
    ")\n",
    "classifier_d.train()\n",
    "test_data_copy_d = test_data.copy()\n",
    "classifier_d.run(test_data_copy_d)\n",
    "accuracy, precision, recall, f1 = evaluate_predictions(test_data_copy_d)\n",
    "accs.append(accuracy)\n",
    "precisions.append(precision)\n",
    "recalls.append(recall)\n",
    "f1s.append(f1)"
   ]
  },
  {
   "cell_type": "code",
   "execution_count": 13,
   "metadata": {},
   "outputs": [
    {
     "data": {
      "image/png": "[encoded data removed]",
      "text/plain": [
       "<Figure size 640x480 with 1 Axes>"
      ]
     },
     "metadata": {},
     "output_type": "display_data"
    }
   ],
   "source": [
    "N = 4\n",
    "\n",
    "ind = np.arange(N)\n",
    "width = 0.2\n",
    "plt.bar(ind, accs, width, label=\"Accuracy\")\n",
    "plt.bar(ind + width, precisions, width, label=\"Precission\")\n",
    "plt.bar(ind + 2 * width, recalls, width, label=\"Recall\")\n",
    "plt.bar(ind + 3 * width, f1s, width, label=\"F1\")\n",
    "\n",
    "plt.ylabel(\"Scores\")\n",
    "plt.title(\"Metrics\")\n",
    "\n",
    "plt.xticks(ind + width / 2, (\"A\", \"B\", \"C\", \"D\"))\n",
    "plt.legend(loc=\"best\")\n",
    "plt.show()"
   ]
  },
  {
   "cell_type": "markdown",
   "metadata": {},
   "source": [
    "### Evaluation results\n",
    "As we see we get the highest value for our metrics using both preprocessing of data and additive smoothing.  \n",
    "It's because of that in preprocessing we made our data more usable for the training phase and additive smoothing to remove the zero effect.  \n",
    "And Obviously we have a little decrease in our values not using preprocessing. Not using preprocessing makes our initial data a little less usable for our model.  \n",
    "But the highest decline in our metrics is when we turn off the additive smoothing flag.  \n",
    "It causes most of our data to become zero and false labeling some of them."
   ]
  },
  {
   "cell_type": "markdown",
   "metadata": {},
   "source": [
    "You can observe the count of zero values compared between using additive smoothing and not using it below:"
   ]
  },
  {
   "cell_type": "code",
   "execution_count": 14,
   "metadata": {},
   "outputs": [
    {
     "name": "stdout",
     "output_type": "stream",
     "text": [
      "Zero count using additive smoothing:\n",
      "0\n",
      "Zero count without using additive smoothing: \n",
      "415\n"
     ]
    }
   ],
   "source": [
    "print(\"Zero count using additive smoothing:\")\n",
    "print(classifier_a.recommended_zero_count)\n",
    "print(\"Zero count without using additive smoothing: \")\n",
    "print(classifier_d.recommended_zero_count)"
   ]
  },
  {
   "cell_type": "code",
   "execution_count": 15,
   "metadata": {},
   "outputs": [
    {
     "data": {
      "text/html": [
       "<div>\n",
       "<style scoped>\n",
       "    .dataframe tbody tr th:only-of-type {\n",
       "        vertical-align: middle;\n",
       "    }\n",
       "\n",
       "    .dataframe tbody tr th {\n",
       "        vertical-align: top;\n",
       "    }\n",
       "\n",
       "    .dataframe thead th {\n",
       "        text-align: right;\n",
       "    }\n",
       "</style>\n",
       "<table border=\"1\" class=\"dataframe\">\n",
       "  <thead>\n",
       "    <tr style=\"text-align: right;\">\n",
       "      <th></th>\n",
       "      <th>title</th>\n",
       "      <th>comment</th>\n",
       "      <th>recommend</th>\n",
       "      <th>title_comment</th>\n",
       "      <th>tokenized</th>\n",
       "      <th>prediction</th>\n",
       "    </tr>\n",
       "  </thead>\n",
       "  <tbody>\n",
       "    <tr>\n",
       "      <th>0</th>\n",
       "      <td>وری گود</td>\n",
       "      <td>تازه خریدم یه مدت کار بکنه مشخص میشه کیفیت قطعاتش</td>\n",
       "      <td>recommended</td>\n",
       "      <td>وری گود تازه خریدم یه مدت کار بکنه مشخص میشه ک...</td>\n",
       "      <td>[وری, گود, تازه, خریدم, یه, کار, بکنه, میشه, ک...</td>\n",
       "      <td>not_recommended</td>\n",
       "    </tr>\n",
       "    <tr>\n",
       "      <th>8</th>\n",
       "      <td>نقد پس از خرید</td>\n",
       "      <td>سلام ، راحت شدم از کابل شارژ ، توصیه میشود به ...</td>\n",
       "      <td>recommended</td>\n",
       "      <td>نقد پس از خرید سلام راحت شدم از کابل شارژ توصی...</td>\n",
       "      <td>[نقد, خرید, سلام, راحت, شدم, کابل, شارژ, توصیه...</td>\n",
       "      <td>not_recommended</td>\n",
       "    </tr>\n",
       "    <tr>\n",
       "      <th>17</th>\n",
       "      <td>تستر پرادا کندی فلورال</td>\n",
       "      <td>من این ادو تویلتو خریدم \\r\\nبر خلاف اینکه نوشت...</td>\n",
       "      <td>recommended</td>\n",
       "      <td>تستر پرادا کندی فلورال من این ادو تویلتو خریدم...</td>\n",
       "      <td>[تستر, پرادا, کندی, فلورال, ادو, تویلتو, خریدم...</td>\n",
       "      <td>not_recommended</td>\n",
       "    </tr>\n",
       "    <tr>\n",
       "      <th>27</th>\n",
       "      <td>کت مناسب</td>\n",
       "      <td>برای پسرم تهیه کردم خیلی قشنگه دوخت عالی داره ...</td>\n",
       "      <td>recommended</td>\n",
       "      <td>کت مناسب برای پسرم تهیه کردم خیلی قشنگه دوخت ع...</td>\n",
       "      <td>[کت, پسرم, قشنگه, دوخت, داره, بعده, شستشو, نکر...</td>\n",
       "      <td>not_recommended</td>\n",
       "    </tr>\n",
       "    <tr>\n",
       "      <th>56</th>\n",
       "      <td>جنس و زیبایی</td>\n",
       "      <td>زیبا هستش از مدل های دیگه مثل پارس ... بنظرم ز...</td>\n",
       "      <td>recommended</td>\n",
       "      <td>جنس و زیبایی زیبا هستش از مدل‌های دیگه مثل پار...</td>\n",
       "      <td>[جنس, زیبایی, زیبا, هستش, مدل‌های, دیگه, پارس,...</td>\n",
       "      <td>not_recommended</td>\n",
       "    </tr>\n",
       "  </tbody>\n",
       "</table>\n",
       "</div>"
      ],
      "text/plain": [
       "                     title                                            comment  \\\n",
       "0                  وری گود  تازه خریدم یه مدت کار بکنه مشخص میشه کیفیت قطعاتش   \n",
       "8           نقد پس از خرید  سلام ، راحت شدم از کابل شارژ ، توصیه میشود به ...   \n",
       "17  تستر پرادا کندی فلورال  من این ادو تویلتو خریدم \\r\\nبر خلاف اینکه نوشت...   \n",
       "27                کت مناسب  برای پسرم تهیه کردم خیلی قشنگه دوخت عالی داره ...   \n",
       "56            جنس و زیبایی  زیبا هستش از مدل های دیگه مثل پارس ... بنظرم ز...   \n",
       "\n",
       "      recommend                                      title_comment  \\\n",
       "0   recommended  وری گود تازه خریدم یه مدت کار بکنه مشخص میشه ک...   \n",
       "8   recommended  نقد پس از خرید سلام راحت شدم از کابل شارژ توصی...   \n",
       "17  recommended  تستر پرادا کندی فلورال من این ادو تویلتو خریدم...   \n",
       "27  recommended  کت مناسب برای پسرم تهیه کردم خیلی قشنگه دوخت ع...   \n",
       "56  recommended  جنس و زیبایی زیبا هستش از مدل‌های دیگه مثل پار...   \n",
       "\n",
       "                                            tokenized       prediction  \n",
       "0   [وری, گود, تازه, خریدم, یه, کار, بکنه, میشه, ک...  not_recommended  \n",
       "8   [نقد, خرید, سلام, راحت, شدم, کابل, شارژ, توصیه...  not_recommended  \n",
       "17  [تستر, پرادا, کندی, فلورال, ادو, تویلتو, خریدم...  not_recommended  \n",
       "27  [کت, پسرم, قشنگه, دوخت, داره, بعده, شستشو, نکر...  not_recommended  \n",
       "56  [جنس, زیبایی, زیبا, هستش, مدل‌های, دیگه, پارس,...  not_recommended  "
      ]
     },
     "execution_count": 15,
     "metadata": {},
     "output_type": "execute_result"
    }
   ],
   "source": [
    "test_data_copy_a[test_data_copy_a[\"recommend\"] != test_data_copy_a[\"prediction\"]].iloc[\n",
    "    0:5, :\n",
    "]"
   ]
  },
  {
   "cell_type": "code",
   "execution_count": 16,
   "metadata": {},
   "outputs": [],
   "source": [
    "words = (\n",
    "    test_data_copy_a[test_data_copy_a[\"recommend\"] != test_data_copy_a[\"prediction\"]]\n",
    "    .iloc[0]\n",
    "    .tokenized\n",
    ")"
   ]
  },
  {
   "cell_type": "code",
   "execution_count": 17,
   "metadata": {},
   "outputs": [
    {
     "name": "stdout",
     "output_type": "stream",
     "text": [
      "****************************************************\n",
      "WORD: وری\n",
      "RECOMMENDED LIKELIHOOD: 1.5841333206602666e-05\n",
      "NOT RECOMMENDED LIKELIHOOD: 8.579272477693891e-06\n",
      "****************************************************\n",
      "WORD: گود\n",
      "RECOMMENDED LIKELIHOOD: 1.5841333206602666e-05\n",
      "NOT RECOMMENDED LIKELIHOOD: 8.579272477693891e-06\n",
      "****************************************************\n",
      "WORD: تازه\n",
      "RECOMMENDED LIKELIHOOD: 0.00041187466337166934\n",
      "NOT RECOMMENDED LIKELIHOOD: 0.0003774879890185312\n",
      "****************************************************\n",
      "WORD: خریدم\n",
      "RECOMMENDED LIKELIHOOD: 0.004681113962551088\n",
      "NOT RECOMMENDED LIKELIHOOD: 0.00440974605353466\n",
      "****************************************************\n",
      "WORD: یه\n",
      "RECOMMENDED LIKELIHOOD: 0.004182111966543104\n",
      "NOT RECOMMENDED LIKELIHOOD: 0.0043668496911461905\n",
      "****************************************************\n",
      "WORD: کار\n",
      "RECOMMENDED LIKELIHOOD: 0.002447485980420112\n",
      "NOT RECOMMENDED LIKELIHOOD: 0.0032944406314344542\n",
      "****************************************************\n",
      "WORD: بکنه\n",
      "RECOMMENDED LIKELIHOOD: 6.336533282641067e-05\n",
      "NOT RECOMMENDED LIKELIHOOD: 0.0001029512697323267\n",
      "****************************************************\n",
      "WORD: میشه\n",
      "RECOMMENDED LIKELIHOOD: 0.004087063967303488\n",
      "NOT RECOMMENDED LIKELIHOOD: 0.004358270418668497\n",
      "****************************************************\n",
      "WORD: کیفیت\n",
      "RECOMMENDED LIKELIHOOD: 0.006130595950955232\n",
      "NOT RECOMMENDED LIKELIHOOD: 0.009926218256691833\n",
      "****************************************************\n",
      "WORD: قطعاتش\n",
      "RECOMMENDED LIKELIHOOD: 2.3761999809904e-05\n",
      "NOT RECOMMENDED LIKELIHOOD: 2.5737817433081674e-05\n"
     ]
    }
   ],
   "source": [
    "for word in words:\n",
    "    print(\"****************************************************\")\n",
    "    print(\"WORD: \" + word)\n",
    "    print(\n",
    "        \"RECOMMENDED LIKELIHOOD: \"\n",
    "        + str(classifier_a.recommended_likelihood_probabilities[word])\n",
    "    )\n",
    "    print(\n",
    "        \"NOT RECOMMENDED LIKELIHOOD: \"\n",
    "        + str(classifier_a.not_recommended_likelihood_probabilities[word])\n",
    "    )"
   ]
  },
  {
   "cell_type": "markdown",
   "metadata": {},
   "source": [
    "As we can see in this example the word گود has a lower likelihood in recommended dataset and this is causing the problem.  \n",
    "some of the acts that may affected some of rows to be false labeled these may be the following:  \n",
    "* just merging the title and comment and not giving weight to none of them  \n",
    "* we could have used more high quality stemming and lemmatization but hazm has a restrection on this.  \n",
    "* small dataset\n"
   ]
  }
 ],
 "metadata": {
  "kernelspec": {
   "display_name": "Python 3.10.6 64-bit",
   "language": "python",
   "name": "python3"
  },
  "language_info": {
   "codemirror_mode": {
    "name": "ipython",
    "version": 3
   },
   "file_extension": ".py",
   "mimetype": "text/x-python",
   "name": "python",
   "nbconvert_exporter": "python",
   "pygments_lexer": "ipython3",
   "version": "3.10.6"
  },
  "vscode": {
   "interpreter": {
    "hash": "916dbcbb3f70747c44a77c7bcd40155683ae19c65e1c03b4aa3499c5328201f1"
   }
  }
 },
 "nbformat": 4,
 "nbformat_minor": 4
}
